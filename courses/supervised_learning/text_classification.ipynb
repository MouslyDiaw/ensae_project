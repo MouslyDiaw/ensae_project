{
 "cells": [
  {
   "cell_type": "markdown",
   "id": "6573974c-2a97-4f68-a418-8c3fe3591d94",
   "metadata": {},
   "source": [
    "## Summary\n",
    "\n",
    "The goal of this guide is to explore some of the main `scikit-learn` tools on a single practical task: analyzing a collection of text documents (newsgroups posts) on twenty different topics.\n",
    "\n",
    "In this section we will see how to:\n",
    " - load the file contents and the categories\n",
    " - extract feature vectors suitable for machine learning\n",
    " - train a linear model to perform categorization\n",
    " - use a grid search strategy to find a good configuration of both the feature extraction components and the classifier\n",
    "\n",
    "The dataset is called “Twenty Newsgroups”. Here is the official description, quoted from the [website](http://qwone.com/~jason/20Newsgroups/):\n",
    "\n",
    "The 20 Newsgroups data set is a collection of approximately 20,000 newsgroup documents, partitioned (nearly) evenly across 20 different newsgroups.\n",
    "\n",
    "In the following we will use the built-in dataset loader for 20 newsgroups from scikit-learn. Alternatively, it is possible to download the dataset manually from the website and use the sklearn.datasets.load_files function by pointing it to the 20news-bydate-train sub-folder of the uncompressed archive folder.\n",
    "\n",
    "In order to get faster execution times for this first example we will work on a partial dataset with only 4 categories out of the 20 available in the dataset:"
   ]
  },
  {
   "cell_type": "markdown",
   "id": "050a7e3d-fb03-428a-ac04-9a4931447825",
   "metadata": {},
   "source": [
    "## Import libraries"
   ]
  },
  {
   "cell_type": "code",
   "execution_count": 33,
   "id": "8f51a9ea-f040-4e00-87a3-7198a144565b",
   "metadata": {
    "execution": {
     "iopub.execute_input": "2022-01-26T22:54:12.946630Z",
     "iopub.status.busy": "2022-01-26T22:54:12.946298Z",
     "iopub.status.idle": "2022-01-26T22:54:12.956611Z",
     "shell.execute_reply": "2022-01-26T22:54:12.954341Z",
     "shell.execute_reply.started": "2022-01-26T22:54:12.946596Z"
    },
    "tags": []
   },
   "outputs": [
    {
     "name": "stderr",
     "output_type": "stream",
     "text": [
      "/Users/mouslydiaw/opt/anaconda3/lib/python3.8/site-packages/ipykernel/ipkernel.py:287: DeprecationWarning: `should_run_async` will not call `transform_cell` automatically in the future. Please pass the result to `transformed_cell` argument and any exception that happen during thetransform in `preprocessing_exc_tuple` in IPython 7.17 and above.\n",
      "  and should_run_async(code)\n"
     ]
    }
   ],
   "source": [
    "import re\n",
    "from collections import Counter\n",
    "\n",
    "import matplotlib.pyplot as plt\n",
    "import pandas as pd\n",
    "import pyLDAvis\n",
    "import seaborn as sns\n",
    "from nltk.corpus import stopwords\n",
    "from nltk.stem import PorterStemmer, SnowballStemmer, LancasterStemmer, WordNetLemmatizer\n",
    "from nltk.tokenize import word_tokenize\n",
    "from sklearn import set_config\n",
    "from sklearn.datasets import fetch_20newsgroups\n",
    "from sklearn.decomposition import PCA, TruncatedSVD\n",
    "from sklearn.ensemble import RandomForestClassifier\n",
    "from sklearn.feature_extraction.text import CountVectorizer, TfidfVectorizer\n",
    "from sklearn.naive_bayes import MultinomialNB\n",
    "from sklearn.pipeline import Pipeline\n",
    "from sklearn.metrics import (accuracy_score,\n",
    "                             classification_report,\n",
    "                             roc_auc_score,\n",
    "                             confusion_matrix,\n",
    "                            )\n",
    "from sklearn.model_selection import GridSearchCV, cross_validate, StratifiedKFold\n",
    "\n",
    "from wordcloud import WordCloud\n",
    "\n",
    "set_config(display=\"diagram\", print_changed_only=False)\n"
   ]
  },
  {
   "cell_type": "markdown",
   "id": "d97b5c31-5c05-4bc3-88c3-2e03c6b6bb4f",
   "metadata": {},
   "source": [
    "## Load data"
   ]
  },
  {
   "cell_type": "code",
   "execution_count": 2,
   "id": "2f0ed072-6028-402d-b577-79c1e04c49b3",
   "metadata": {
    "execution": {
     "iopub.execute_input": "2022-01-26T22:50:28.195524Z",
     "iopub.status.busy": "2022-01-26T22:50:28.195063Z",
     "iopub.status.idle": "2022-01-26T22:50:28.586625Z",
     "shell.execute_reply": "2022-01-26T22:50:28.585755Z",
     "shell.execute_reply.started": "2022-01-26T22:50:28.195468Z"
    },
    "tags": []
   },
   "outputs": [],
   "source": [
    "categories = ['alt.atheism',\n",
    "              'soc.religion.christian',\n",
    "              'comp.graphics',\n",
    "              'sci.med'\n",
    "             ]\n",
    "\n",
    "# We can now load the list of files matching those categories as follows:\n",
    "twenty_train = fetch_20newsgroups(subset='train',\n",
    "                                  categories=categories, \n",
    "                                  shuffle=True,\n",
    "                                  random_state=42,\n",
    "                                 )"
   ]
  },
  {
   "cell_type": "code",
   "execution_count": 3,
   "id": "735353e9-c24d-4504-9f54-12e89e9334dd",
   "metadata": {
    "execution": {
     "iopub.execute_input": "2022-01-26T22:50:28.595013Z",
     "iopub.status.busy": "2022-01-26T22:50:28.588952Z",
     "iopub.status.idle": "2022-01-26T22:50:28.624837Z",
     "shell.execute_reply": "2022-01-26T22:50:28.617701Z",
     "shell.execute_reply.started": "2022-01-26T22:50:28.594932Z"
    },
    "tags": []
   },
   "outputs": [],
   "source": [
    "LABELS = twenty_train.target_names"
   ]
  },
  {
   "cell_type": "code",
   "execution_count": 4,
   "id": "e6bf22a0-58bf-42ce-9d73-a790b43198e4",
   "metadata": {
    "execution": {
     "iopub.execute_input": "2022-01-26T22:50:28.630752Z",
     "iopub.status.busy": "2022-01-26T22:50:28.629488Z",
     "iopub.status.idle": "2022-01-26T22:50:28.646871Z",
     "shell.execute_reply": "2022-01-26T22:50:28.639924Z",
     "shell.execute_reply.started": "2022-01-26T22:50:28.630641Z"
    },
    "tags": []
   },
   "outputs": [
    {
     "name": "stdout",
     "output_type": "stream",
     "text": [
      "Shape of data: (2257, 2)\n"
     ]
    }
   ],
   "source": [
    "data = pd.DataFrame({\"text\": twenty_train.data,\n",
    "                     \"target\": twenty_train.target\n",
    "                    })\n",
    "\n",
    "print(f\"Shape of data: {data.shape}\")"
   ]
  },
  {
   "cell_type": "code",
   "execution_count": 5,
   "id": "45d3190a-61a1-449b-844d-90603dc2bb40",
   "metadata": {
    "execution": {
     "iopub.execute_input": "2022-01-26T22:50:28.649402Z",
     "iopub.status.busy": "2022-01-26T22:50:28.648858Z",
     "iopub.status.idle": "2022-01-26T22:50:28.687300Z",
     "shell.execute_reply": "2022-01-26T22:50:28.685623Z",
     "shell.execute_reply.started": "2022-01-26T22:50:28.649347Z"
    },
    "tags": []
   },
   "outputs": [
    {
     "data": {
      "text/html": [
       "<div>\n",
       "<style scoped>\n",
       "    .dataframe tbody tr th:only-of-type {\n",
       "        vertical-align: middle;\n",
       "    }\n",
       "\n",
       "    .dataframe tbody tr th {\n",
       "        vertical-align: top;\n",
       "    }\n",
       "\n",
       "    .dataframe thead th {\n",
       "        text-align: right;\n",
       "    }\n",
       "</style>\n",
       "<table border=\"1\" class=\"dataframe\">\n",
       "  <thead>\n",
       "    <tr style=\"text-align: right;\">\n",
       "      <th></th>\n",
       "      <th>text</th>\n",
       "      <th>target</th>\n",
       "    </tr>\n",
       "  </thead>\n",
       "  <tbody>\n",
       "    <tr>\n",
       "      <th>0</th>\n",
       "      <td>From: sd345@city.ac.uk (Michael Collier)\\nSubj...</td>\n",
       "      <td>1</td>\n",
       "    </tr>\n",
       "    <tr>\n",
       "      <th>1</th>\n",
       "      <td>From: ani@ms.uky.edu (Aniruddha B. Deglurkar)\\...</td>\n",
       "      <td>1</td>\n",
       "    </tr>\n",
       "    <tr>\n",
       "      <th>2</th>\n",
       "      <td>From: djohnson@cs.ucsd.edu (Darin Johnson)\\nSu...</td>\n",
       "      <td>3</td>\n",
       "    </tr>\n",
       "    <tr>\n",
       "      <th>3</th>\n",
       "      <td>From: s0612596@let.rug.nl (M.M. Zwart)\\nSubjec...</td>\n",
       "      <td>3</td>\n",
       "    </tr>\n",
       "    <tr>\n",
       "      <th>4</th>\n",
       "      <td>From: stanly@grok11.columbiasc.ncr.com (stanly...</td>\n",
       "      <td>3</td>\n",
       "    </tr>\n",
       "  </tbody>\n",
       "</table>\n",
       "</div>"
      ],
      "text/plain": [
       "                                                text  target\n",
       "0  From: sd345@city.ac.uk (Michael Collier)\\nSubj...       1\n",
       "1  From: ani@ms.uky.edu (Aniruddha B. Deglurkar)\\...       1\n",
       "2  From: djohnson@cs.ucsd.edu (Darin Johnson)\\nSu...       3\n",
       "3  From: s0612596@let.rug.nl (M.M. Zwart)\\nSubjec...       3\n",
       "4  From: stanly@grok11.columbiasc.ncr.com (stanly...       3"
      ]
     },
     "execution_count": 5,
     "metadata": {},
     "output_type": "execute_result"
    }
   ],
   "source": [
    "data.head()"
   ]
  },
  {
   "cell_type": "code",
   "execution_count": 6,
   "id": "e52bccd6-8874-49b2-a116-b6ab02c78d16",
   "metadata": {
    "execution": {
     "iopub.execute_input": "2022-01-26T22:50:28.691319Z",
     "iopub.status.busy": "2022-01-26T22:50:28.690566Z",
     "iopub.status.idle": "2022-01-26T22:50:28.720252Z",
     "shell.execute_reply": "2022-01-26T22:50:28.716490Z",
     "shell.execute_reply.started": "2022-01-26T22:50:28.691264Z"
    },
    "tags": []
   },
   "outputs": [
    {
     "data": {
      "text/html": [
       "<div>\n",
       "<style scoped>\n",
       "    .dataframe tbody tr th:only-of-type {\n",
       "        vertical-align: middle;\n",
       "    }\n",
       "\n",
       "    .dataframe tbody tr th {\n",
       "        vertical-align: top;\n",
       "    }\n",
       "\n",
       "    .dataframe thead th {\n",
       "        text-align: right;\n",
       "    }\n",
       "</style>\n",
       "<table border=\"1\" class=\"dataframe\">\n",
       "  <thead>\n",
       "    <tr style=\"text-align: right;\">\n",
       "      <th></th>\n",
       "      <th>text</th>\n",
       "      <th>target</th>\n",
       "      <th>target_name</th>\n",
       "    </tr>\n",
       "  </thead>\n",
       "  <tbody>\n",
       "    <tr>\n",
       "      <th>0</th>\n",
       "      <td>From: sd345@city.ac.uk (Michael Collier)\\nSubj...</td>\n",
       "      <td>1</td>\n",
       "      <td>comp.graphics</td>\n",
       "    </tr>\n",
       "    <tr>\n",
       "      <th>1</th>\n",
       "      <td>From: ani@ms.uky.edu (Aniruddha B. Deglurkar)\\...</td>\n",
       "      <td>1</td>\n",
       "      <td>comp.graphics</td>\n",
       "    </tr>\n",
       "    <tr>\n",
       "      <th>2</th>\n",
       "      <td>From: djohnson@cs.ucsd.edu (Darin Johnson)\\nSu...</td>\n",
       "      <td>3</td>\n",
       "      <td>soc.religion.christian</td>\n",
       "    </tr>\n",
       "    <tr>\n",
       "      <th>3</th>\n",
       "      <td>From: s0612596@let.rug.nl (M.M. Zwart)\\nSubjec...</td>\n",
       "      <td>3</td>\n",
       "      <td>soc.religion.christian</td>\n",
       "    </tr>\n",
       "    <tr>\n",
       "      <th>4</th>\n",
       "      <td>From: stanly@grok11.columbiasc.ncr.com (stanly...</td>\n",
       "      <td>3</td>\n",
       "      <td>soc.religion.christian</td>\n",
       "    </tr>\n",
       "  </tbody>\n",
       "</table>\n",
       "</div>"
      ],
      "text/plain": [
       "                                                text  target  \\\n",
       "0  From: sd345@city.ac.uk (Michael Collier)\\nSubj...       1   \n",
       "1  From: ani@ms.uky.edu (Aniruddha B. Deglurkar)\\...       1   \n",
       "2  From: djohnson@cs.ucsd.edu (Darin Johnson)\\nSu...       3   \n",
       "3  From: s0612596@let.rug.nl (M.M. Zwart)\\nSubjec...       3   \n",
       "4  From: stanly@grok11.columbiasc.ncr.com (stanly...       3   \n",
       "\n",
       "              target_name  \n",
       "0           comp.graphics  \n",
       "1           comp.graphics  \n",
       "2  soc.religion.christian  \n",
       "3  soc.religion.christian  \n",
       "4  soc.religion.christian  "
      ]
     },
     "execution_count": 6,
     "metadata": {},
     "output_type": "execute_result"
    }
   ],
   "source": [
    "# It is possible to get back the category names as follows\n",
    "\n",
    "data[\"target_name\"] = data.target.map(lambda val: LABELS[val])\n",
    "data.head()"
   ]
  },
  {
   "cell_type": "code",
   "execution_count": 7,
   "id": "ff90f80b-b35c-4158-98ce-a016bc62505c",
   "metadata": {
    "execution": {
     "iopub.execute_input": "2022-01-26T22:50:28.727738Z",
     "iopub.status.busy": "2022-01-26T22:50:28.726445Z",
     "iopub.status.idle": "2022-01-26T22:50:28.762065Z",
     "shell.execute_reply": "2022-01-26T22:50:28.760692Z",
     "shell.execute_reply.started": "2022-01-26T22:50:28.727654Z"
    },
    "tags": []
   },
   "outputs": [
    {
     "name": "stdout",
     "output_type": "stream",
     "text": [
      "<class 'pandas.core.frame.DataFrame'>\n",
      "RangeIndex: 2257 entries, 0 to 2256\n",
      "Data columns (total 3 columns):\n",
      " #   Column       Non-Null Count  Dtype \n",
      "---  ------       --------------  ----- \n",
      " 0   text         2257 non-null   object\n",
      " 1   target       2257 non-null   int64 \n",
      " 2   target_name  2257 non-null   object\n",
      "dtypes: int64(1), object(2)\n",
      "memory usage: 53.0+ KB\n"
     ]
    }
   ],
   "source": [
    "data.info()"
   ]
  },
  {
   "cell_type": "code",
   "execution_count": 8,
   "id": "a051f6bc-1bd5-4f94-a41c-c61d4caa4938",
   "metadata": {
    "execution": {
     "iopub.execute_input": "2022-01-26T22:50:28.766441Z",
     "iopub.status.busy": "2022-01-26T22:50:28.764957Z",
     "iopub.status.idle": "2022-01-26T22:50:28.845326Z",
     "shell.execute_reply": "2022-01-26T22:50:28.843285Z",
     "shell.execute_reply.started": "2022-01-26T22:50:28.766391Z"
    },
    "tags": []
   },
   "outputs": [
    {
     "data": {
      "text/html": [
       "<div>\n",
       "<style scoped>\n",
       "    .dataframe tbody tr th:only-of-type {\n",
       "        vertical-align: middle;\n",
       "    }\n",
       "\n",
       "    .dataframe tbody tr th {\n",
       "        vertical-align: top;\n",
       "    }\n",
       "\n",
       "    .dataframe thead th {\n",
       "        text-align: right;\n",
       "    }\n",
       "</style>\n",
       "<table border=\"1\" class=\"dataframe\">\n",
       "  <thead>\n",
       "    <tr style=\"text-align: right;\">\n",
       "      <th></th>\n",
       "      <th>text</th>\n",
       "      <th>target</th>\n",
       "      <th>target_name</th>\n",
       "    </tr>\n",
       "  </thead>\n",
       "  <tbody>\n",
       "    <tr>\n",
       "      <th>count</th>\n",
       "      <td>2257</td>\n",
       "      <td>2257.000000</td>\n",
       "      <td>2257</td>\n",
       "    </tr>\n",
       "    <tr>\n",
       "      <th>unique</th>\n",
       "      <td>2257</td>\n",
       "      <td>NaN</td>\n",
       "      <td>4</td>\n",
       "    </tr>\n",
       "    <tr>\n",
       "      <th>top</th>\n",
       "      <td>From: spp@zabriskie.berkeley.edu (Steve Pope)\\...</td>\n",
       "      <td>NaN</td>\n",
       "      <td>soc.religion.christian</td>\n",
       "    </tr>\n",
       "    <tr>\n",
       "      <th>freq</th>\n",
       "      <td>1</td>\n",
       "      <td>NaN</td>\n",
       "      <td>599</td>\n",
       "    </tr>\n",
       "    <tr>\n",
       "      <th>mean</th>\n",
       "      <td>NaN</td>\n",
       "      <td>1.581303</td>\n",
       "      <td>NaN</td>\n",
       "    </tr>\n",
       "    <tr>\n",
       "      <th>std</th>\n",
       "      <td>NaN</td>\n",
       "      <td>1.095472</td>\n",
       "      <td>NaN</td>\n",
       "    </tr>\n",
       "    <tr>\n",
       "      <th>min</th>\n",
       "      <td>NaN</td>\n",
       "      <td>0.000000</td>\n",
       "      <td>NaN</td>\n",
       "    </tr>\n",
       "    <tr>\n",
       "      <th>25%</th>\n",
       "      <td>NaN</td>\n",
       "      <td>1.000000</td>\n",
       "      <td>NaN</td>\n",
       "    </tr>\n",
       "    <tr>\n",
       "      <th>50%</th>\n",
       "      <td>NaN</td>\n",
       "      <td>2.000000</td>\n",
       "      <td>NaN</td>\n",
       "    </tr>\n",
       "    <tr>\n",
       "      <th>75%</th>\n",
       "      <td>NaN</td>\n",
       "      <td>3.000000</td>\n",
       "      <td>NaN</td>\n",
       "    </tr>\n",
       "    <tr>\n",
       "      <th>max</th>\n",
       "      <td>NaN</td>\n",
       "      <td>3.000000</td>\n",
       "      <td>NaN</td>\n",
       "    </tr>\n",
       "  </tbody>\n",
       "</table>\n",
       "</div>"
      ],
      "text/plain": [
       "                                                     text       target  \\\n",
       "count                                                2257  2257.000000   \n",
       "unique                                               2257          NaN   \n",
       "top     From: spp@zabriskie.berkeley.edu (Steve Pope)\\...          NaN   \n",
       "freq                                                    1          NaN   \n",
       "mean                                                  NaN     1.581303   \n",
       "std                                                   NaN     1.095472   \n",
       "min                                                   NaN     0.000000   \n",
       "25%                                                   NaN     1.000000   \n",
       "50%                                                   NaN     2.000000   \n",
       "75%                                                   NaN     3.000000   \n",
       "max                                                   NaN     3.000000   \n",
       "\n",
       "                   target_name  \n",
       "count                     2257  \n",
       "unique                       4  \n",
       "top     soc.religion.christian  \n",
       "freq                       599  \n",
       "mean                       NaN  \n",
       "std                        NaN  \n",
       "min                        NaN  \n",
       "25%                        NaN  \n",
       "50%                        NaN  \n",
       "75%                        NaN  \n",
       "max                        NaN  "
      ]
     },
     "execution_count": 8,
     "metadata": {},
     "output_type": "execute_result"
    }
   ],
   "source": [
    "data.describe(include=\"all\")"
   ]
  },
  {
   "cell_type": "code",
   "execution_count": 9,
   "id": "e8ffc900-8184-4a91-93fc-beb95a14de2e",
   "metadata": {
    "execution": {
     "iopub.execute_input": "2022-01-26T22:50:28.872215Z",
     "iopub.status.busy": "2022-01-26T22:50:28.871606Z",
     "iopub.status.idle": "2022-01-26T22:50:28.897284Z",
     "shell.execute_reply": "2022-01-26T22:50:28.882674Z",
     "shell.execute_reply.started": "2022-01-26T22:50:28.872145Z"
    },
    "tags": []
   },
   "outputs": [
    {
     "name": "stdout",
     "output_type": "stream",
     "text": [
      "From: sd345@city.ac.uk (Michael Collier)\n",
      "Subject: Converting images to HP LaserJet III?\n",
      "Nntp-Posting-Host: hampton\n",
      "Organization: The City University\n",
      "Lines: 14\n",
      "\n",
      "Does anyone know of a good way (standard PC application/PD utility) to\n",
      "convert tif/img/tga files into LaserJet III format.  We would also like to\n",
      "do the same, converting to HPGL (HP plotter) files.\n",
      "\n",
      "Please email any response.\n",
      "\n",
      "Is this the correct group?\n",
      "\n",
      "Thanks in advance.  Michael.\n",
      "-- \n",
      "Michael Collier (Programmer)                 The Computer Unit,\n",
      "Email: M.P.Collier@uk.ac.city                The City University,\n",
      "Tel: 071 477-8000 x3769                      London,\n",
      "Fax: 071 477-8565                            EC1V 0HB.\n",
      "\n"
     ]
    }
   ],
   "source": [
    "# Let’s print the first lines of the first loaded file:\n",
    "print(data.loc[0, \"text\"])"
   ]
  },
  {
   "cell_type": "markdown",
   "id": "c661ed19-2436-438a-b4e9-1d72c7a089b7",
   "metadata": {
    "execution": {
     "iopub.execute_input": "2022-01-26T21:00:22.170896Z",
     "iopub.status.busy": "2022-01-26T21:00:22.169172Z",
     "iopub.status.idle": "2022-01-26T21:00:22.188636Z",
     "shell.execute_reply": "2022-01-26T21:00:22.186157Z",
     "shell.execute_reply.started": "2022-01-26T21:00:22.170813Z"
    },
    "tags": []
   },
   "source": [
    "## Data exploration/viz"
   ]
  },
  {
   "cell_type": "markdown",
   "id": "80523d75-e306-48eb-ae71-e615b8887f5a",
   "metadata": {},
   "source": [
    "### Target analysis"
   ]
  },
  {
   "cell_type": "code",
   "execution_count": 10,
   "id": "6e1abb93-dad5-453f-a5e8-2312d691e2b3",
   "metadata": {
    "execution": {
     "iopub.execute_input": "2022-01-26T22:50:28.911923Z",
     "iopub.status.busy": "2022-01-26T22:50:28.903302Z",
     "iopub.status.idle": "2022-01-26T22:50:28.930241Z",
     "shell.execute_reply": "2022-01-26T22:50:28.928549Z",
     "shell.execute_reply.started": "2022-01-26T22:50:28.911701Z"
    },
    "tags": []
   },
   "outputs": [
    {
     "data": {
      "text/plain": [
       "target  target_name           \n",
       "3       soc.religion.christian    599\n",
       "2       sci.med                   594\n",
       "1       comp.graphics             584\n",
       "0       alt.atheism               480\n",
       "dtype: int64"
      ]
     },
     "execution_count": 10,
     "metadata": {},
     "output_type": "execute_result"
    }
   ],
   "source": [
    "label_distribution = data[[\"target\", \"target_name\"]].value_counts()\n",
    "label_distribution"
   ]
  },
  {
   "cell_type": "code",
   "execution_count": 11,
   "id": "d3598124-aa50-4c2d-bb4a-d0bd3a306de3",
   "metadata": {
    "execution": {
     "iopub.execute_input": "2022-01-26T22:50:28.932353Z",
     "iopub.status.busy": "2022-01-26T22:50:28.931898Z",
     "iopub.status.idle": "2022-01-26T22:50:29.249774Z",
     "shell.execute_reply": "2022-01-26T22:50:29.248434Z",
     "shell.execute_reply.started": "2022-01-26T22:50:28.932302Z"
    },
    "tags": []
   },
   "outputs": [
    {
     "data": {
      "image/png": "[encoded data removed]",
      "text/plain": [
       "<Figure size 432x288 with 1 Axes>"
      ]
     },
     "metadata": {
      "needs_background": "light"
     },
     "output_type": "display_data"
    }
   ],
   "source": [
    "label_distribution.plot(kind=\"bar\", );"
   ]
  },
  {
   "cell_type": "markdown",
   "id": "01b650e5-7562-411c-862d-a50a9897266c",
   "metadata": {},
   "source": [
    "### Word frequency"
   ]
  },
  {
   "cell_type": "code",
   "execution_count": 12,
   "id": "160d0b16-d4fc-4e76-9db7-3310436cdda2",
   "metadata": {
    "execution": {
     "iopub.execute_input": "2022-01-26T22:50:29.252160Z",
     "iopub.status.busy": "2022-01-26T22:50:29.251585Z",
     "iopub.status.idle": "2022-01-26T22:50:29.510512Z",
     "shell.execute_reply": "2022-01-26T22:50:29.506963Z",
     "shell.execute_reply.started": "2022-01-26T22:50:29.252101Z"
    },
    "tags": []
   },
   "outputs": [],
   "source": [
    "# Create a word_cloud from words and frequencies.\n",
    "\n",
    "# get all verbatim\n",
    "all_text = \" \".join(data.text.str.lower())\n",
    "words_frequency = Counter(all_text.split())"
   ]
  },
  {
   "cell_type": "code",
   "execution_count": 13,
   "id": "ad38dd0a-98c0-4863-aa65-17aa016043ee",
   "metadata": {
    "execution": {
     "iopub.execute_input": "2022-01-26T22:50:29.518069Z",
     "iopub.status.busy": "2022-01-26T22:50:29.517700Z",
     "iopub.status.idle": "2022-01-26T22:50:29.551857Z",
     "shell.execute_reply": "2022-01-26T22:50:29.543625Z",
     "shell.execute_reply.started": "2022-01-26T22:50:29.518036Z"
    },
    "tags": []
   },
   "outputs": [
    {
     "data": {
      "text/plain": [
       "[('the', 28956),\n",
       " ('of', 17381),\n",
       " ('to', 16419),\n",
       " ('a', 12808),\n",
       " ('and', 12356),\n",
       " ('is', 11716),\n",
       " ('in', 10577),\n",
       " ('that', 9922),\n",
       " ('i', 8670),\n",
       " ('it', 6239),\n",
       " ('for', 5712),\n",
       " ('you', 5199),\n",
       " ('>', 5077),\n",
       " ('not', 4804),\n",
       " ('be', 4758),\n",
       " ('are', 4565),\n",
       " ('this', 4406),\n",
       " ('have', 4113),\n",
       " ('as', 3833),\n",
       " ('with', 3518),\n",
       " ('on', 3514),\n",
       " ('but', 3204),\n",
       " ('or', 3081),\n",
       " ('if', 2976),\n",
       " ('was', 2727),\n",
       " ('by', 2448),\n",
       " ('we', 2426),\n",
       " ('can', 2363),\n",
       " ('from', 2356),\n",
       " ('from:', 2342)]"
      ]
     },
     "execution_count": 13,
     "metadata": {},
     "output_type": "execute_result"
    }
   ],
   "source": [
    "words_frequency.most_common(n=30)"
   ]
  },
  {
   "cell_type": "code",
   "execution_count": 14,
   "id": "a7438bb7-bb29-466d-a44e-7b907abe0cfb",
   "metadata": {
    "execution": {
     "iopub.execute_input": "2022-01-26T22:50:29.555704Z",
     "iopub.status.busy": "2022-01-26T22:50:29.555127Z",
     "iopub.status.idle": "2022-01-26T22:50:29.576729Z",
     "shell.execute_reply": "2022-01-26T22:50:29.574705Z",
     "shell.execute_reply.started": "2022-01-26T22:50:29.555645Z"
    },
    "tags": []
   },
   "outputs": [],
   "source": [
    "# get list of stopwords\n",
    "stopwords_nltk = set(stopwords.words('english'))\n",
    "\n",
    "def display_wordcloud(corpus, title=\"\"):\n",
    "    plt.figure(figsize=(10, 5))\n",
    "    wc = WordCloud(background_color=\"white\",\n",
    "                   max_words=1000,\n",
    "                   colormap='hsv',\n",
    "                   stopwords=stopwords_nltk,\n",
    "                   collocations=False)\n",
    "    # generate word cloud\n",
    "    # wc.generate_from_frequencies(words_frequency)\n",
    "    wc.generate_from_text(corpus)\n",
    "    plt.imshow(wc, interpolation=\"bilinear\")\n",
    "    plt.title(title)\n",
    "    plt.axis(\"off\");"
   ]
  },
  {
   "cell_type": "code",
   "execution_count": 15,
   "id": "8277d2cc-0264-416d-b65b-11a234213fb3",
   "metadata": {
    "execution": {
     "iopub.execute_input": "2022-01-26T22:50:29.580368Z",
     "iopub.status.busy": "2022-01-26T22:50:29.579762Z",
     "iopub.status.idle": "2022-01-26T22:50:29.714955Z",
     "shell.execute_reply": "2022-01-26T22:50:29.705446Z",
     "shell.execute_reply.started": "2022-01-26T22:50:29.580310Z"
    },
    "tags": []
   },
   "outputs": [
    {
     "ename": "NameError",
     "evalue": "name 'WordCloud' is not defined",
     "output_type": "error",
     "traceback": [
      "\u001b[0;31m---------------------------------------------------------------------------\u001b[0m",
      "\u001b[0;31mNameError\u001b[0m                                 Traceback (most recent call last)",
      "\u001b[0;32m<ipython-input-15-a58506850cf7>\u001b[0m in \u001b[0;36m<module>\u001b[0;34m\u001b[0m\n\u001b[0;32m----> 1\u001b[0;31m \u001b[0mdisplay_wordcloud\u001b[0m\u001b[0;34m(\u001b[0m\u001b[0mcorpus\u001b[0m\u001b[0;34m=\u001b[0m\u001b[0mall_text\u001b[0m\u001b[0;34m)\u001b[0m\u001b[0;34m\u001b[0m\u001b[0;34m\u001b[0m\u001b[0m\n\u001b[0m",
      "\u001b[0;32m<ipython-input-14-2f7ddc112202>\u001b[0m in \u001b[0;36mdisplay_wordcloud\u001b[0;34m(corpus, title)\u001b[0m\n\u001b[1;32m      4\u001b[0m \u001b[0;32mdef\u001b[0m \u001b[0mdisplay_wordcloud\u001b[0m\u001b[0;34m(\u001b[0m\u001b[0mcorpus\u001b[0m\u001b[0;34m,\u001b[0m \u001b[0mtitle\u001b[0m\u001b[0;34m=\u001b[0m\u001b[0;34m\"\"\u001b[0m\u001b[0;34m)\u001b[0m\u001b[0;34m:\u001b[0m\u001b[0;34m\u001b[0m\u001b[0;34m\u001b[0m\u001b[0m\n\u001b[1;32m      5\u001b[0m     \u001b[0mplt\u001b[0m\u001b[0;34m.\u001b[0m\u001b[0mfigure\u001b[0m\u001b[0;34m(\u001b[0m\u001b[0mfigsize\u001b[0m\u001b[0;34m=\u001b[0m\u001b[0;34m(\u001b[0m\u001b[0;36m10\u001b[0m\u001b[0;34m,\u001b[0m \u001b[0;36m5\u001b[0m\u001b[0;34m)\u001b[0m\u001b[0;34m)\u001b[0m\u001b[0;34m\u001b[0m\u001b[0;34m\u001b[0m\u001b[0m\n\u001b[0;32m----> 6\u001b[0;31m     wc = WordCloud(background_color=\"white\",\n\u001b[0m\u001b[1;32m      7\u001b[0m                    \u001b[0mmax_words\u001b[0m\u001b[0;34m=\u001b[0m\u001b[0;36m1000\u001b[0m\u001b[0;34m,\u001b[0m\u001b[0;34m\u001b[0m\u001b[0;34m\u001b[0m\u001b[0m\n\u001b[1;32m      8\u001b[0m                    \u001b[0mcolormap\u001b[0m\u001b[0;34m=\u001b[0m\u001b[0;34m'hsv'\u001b[0m\u001b[0;34m,\u001b[0m\u001b[0;34m\u001b[0m\u001b[0;34m\u001b[0m\u001b[0m\n",
      "\u001b[0;31mNameError\u001b[0m: name 'WordCloud' is not defined"
     ]
    },
    {
     "data": {
      "text/plain": [
       "<Figure size 720x360 with 0 Axes>"
      ]
     },
     "metadata": {},
     "output_type": "display_data"
    }
   ],
   "source": [
    "display_wordcloud(corpus=all_text)"
   ]
  },
  {
   "cell_type": "code",
   "execution_count": null,
   "id": "59501be6-d846-48fb-aba5-4a572306c4f6",
   "metadata": {
    "execution": {
     "iopub.status.busy": "2022-01-26T22:50:29.717380Z",
     "iopub.status.idle": "2022-01-26T22:50:29.720524Z",
     "shell.execute_reply": "2022-01-26T22:50:29.718452Z"
    },
    "tags": []
   },
   "outputs": [],
   "source": [
    "# wordcloud by target\n",
    "data.groupby(\"target_name\").apply(\n",
    "    lambda group: display_wordcloud(\" \".join(group.text), title=group.target_name.unique()))"
   ]
  },
  {
   "cell_type": "markdown",
   "id": "9ccb87a1-1be5-4c71-93fb-c4ba17e47ce0",
   "metadata": {
    "execution": {
     "iopub.execute_input": "2022-01-26T21:29:52.025789Z",
     "iopub.status.busy": "2022-01-26T21:29:52.025415Z",
     "iopub.status.idle": "2022-01-26T21:29:52.044545Z",
     "shell.execute_reply": "2022-01-26T21:29:52.042660Z",
     "shell.execute_reply.started": "2022-01-26T21:29:52.025745Z"
    }
   },
   "source": [
    "## Modeling\n",
    "\n",
    "**1- Preprocessing**\n",
    "\n",
    "    a. Data Cleaning\n",
    "    b. Vectorizer: Tf-idf; word embeddings, ...\n",
    "\n",
    "**2- Models**\n",
    "\n",
    "We will benchmark the 6 models below (supervised learning: classification) in order to choice the best:\n",
    "    \n",
    "    1. Logistic regression\n",
    "    2. Multinomial Naive Bayes\n",
    "    3. Perceptron\n",
    "    4. Random Forest\n",
    "   \n",
    "We use:\n",
    "\n",
    "- **Pipeline** : apply intermediate steps a list of transforms and a final estimator.\n",
    "\n",
    "- **Cross validation** : evaluate estimator performance to avoid overfitting or underfitting\n",
    "   \n",
    "- __GridSearch__ : tun the best parameters for each model \n",
    "\n",
    "**4- Performance metrics**\n",
    "\\begin{equation*}\n",
    "real_{value}  \n",
    "\\begin{vmatrix}\n",
    "&\\mathbf{predict} &\\\\\n",
    " & + &  -  \\\\\n",
    "\\hline \\\\\n",
    "+ & T_p & F_n  \\\\\n",
    "- & F_p & T_n\n",
    "\\end{vmatrix}\n",
    "\\end{equation*} \n",
    "\n",
    "- **[Accuracy](http://scikit-learn.org/stable/modules/generated/sklearn.metrics.accuracy_score.html)** : $   \\frac{T_P + T_n}{N} $  avec $ N =   T_p + F_n  + F_p + T_n $\n",
    "    \n",
    "- **[Précision](http://scikit-learn.org/stable/modules/generated/sklearn.metrics.precision_score.html#sklearn.metrics.precision_score)**: $ P =  \\frac{T_P}{T_p + F_p} $\n",
    "    \n",
    "- **[Recall](http://scikit-learn.org/stable/modules/generated/sklearn.metrics.recall_score.html#sklearn.metrics.recall_score)**: $ R =  \\frac{T_P}{T_p + F_n} $\n",
    "- **[f1-score](http://scikit-learn.org/stable/modules/generated/sklearn.metrics.f1_score.html#sklearn.metrics.f1_score)** : $ f_1 =  2 \\frac{P \\times R}{P + R} $\n",
    "\n",
    "**Meta metrics**\n",
    "\n",
    "- **`Micro average`**\n",
    "    -  precision: $\\frac{\\sum_{i=1}^KT_P^i}{\\sum_{i=1}^K (T_p^i + F_p^i)}$\n",
    "    \n",
    "    -  recall: $\\frac{\\sum_{i=1}^KT_P^i}{\\sum_{i=1}^K (T_p^i + F_n^i)}$\n",
    "\n",
    "\n",
    "- **`Macro average`**\n",
    "    -  precision $\\frac{\\sum_{i=1}^KP^i}{K}$\n",
    "    \n",
    "    -  recall: $\\frac{\\sum_{i=1}^KR^i}{K}$\n",
    "\n",
    "\n",
    "- **`Weighted average`**\n",
    "    -  precision: $\\frac{\\sum_{i=1}^K n_iP^i}{N}$\n",
    "    \n",
    "    -  recall: $\\frac{\\sum_{i=1}^K n_iR^i}{N}$\n",
    "\n",
    "The best model is the one with the highest values !"
   ]
  },
  {
   "cell_type": "markdown",
   "id": "399de4f3-91df-4ec1-b336-7a10bffa21f8",
   "metadata": {},
   "source": [
    "### Text preprocessing"
   ]
  },
  {
   "cell_type": "markdown",
   "id": "3e65eff0-900c-4ed1-bfa4-814e152413ef",
   "metadata": {},
   "source": [
    "#### Define preprocessing function"
   ]
  },
  {
   "cell_type": "code",
   "execution_count": 16,
   "id": "47279c03-f851-4a2b-b78f-de9cf82abbe6",
   "metadata": {
    "execution": {
     "iopub.execute_input": "2022-01-26T22:50:33.251194Z",
     "iopub.status.busy": "2022-01-26T22:50:33.250880Z",
     "iopub.status.idle": "2022-01-26T22:50:33.264297Z",
     "shell.execute_reply": "2022-01-26T22:50:33.262186Z",
     "shell.execute_reply.started": "2022-01-26T22:50:33.251162Z"
    },
    "tags": []
   },
   "outputs": [],
   "source": [
    "def preprocess_text(text, language=\"english\", stopwords=None, normalizer=\"stem\"):\n",
    "    \n",
    "    valid_normalizer = (None, \"stem\", \"lemma\")\n",
    "    if not normalizer in valid_normalizer:\n",
    "        raise ValueError(f\"`normalizer` must be in `{valid_normalizer}`\")\n",
    "    # lower case\n",
    "    text = text.lower()\n",
    "    \n",
    "    # delete html balise\n",
    "    # We can also use BeautifulSoup package to get the text from HTML document\n",
    "    text = re.sub(re.compile('<.*?>'), '', text)\n",
    "    \n",
    "    # remove url\n",
    "    text = re.sub(r'(http|www)\\S*', '', text)\n",
    "\n",
    "    # delete email\n",
    "    text = re.sub(r\"\\S*@\\S*\\s*\", \"\", text)\n",
    "    \n",
    "    # delete special character\n",
    "    text = re.sub(r'[^\\w\\s]', '', text)\n",
    "    \n",
    "    # delete number\n",
    "    text = re.sub(r'[0-9]+','', text).strip()\n",
    "    \n",
    "    # tokenizer \n",
    "    text_tokens = word_tokenize(text)\n",
    "    \n",
    "    # remove stopword\n",
    "    if isinstance(stopwords, (set, list, tuple)):\n",
    "        # split sentence\n",
    "        text_tokens = [word for word in text_tokens if word not in stopwords]\n",
    "    # stem string: snowball stemmer\n",
    "    if normalizer == \"stem\":\n",
    "        stemmer = SnowballStemmer(language, ignore_stopwords=True)\n",
    "        text_tokens = [stemmer.stem(wrd) for wrd in text_tokens]\n",
    "    elif normalizer == \"lemma\":\n",
    "        lemmatizer = WordNetLemmatizer()\n",
    "        text_tokens = [lemmatizer.lemmatize(wrd) for wrd in text_tokens]\n",
    "         \n",
    "    return \" \".join(text_tokens)"
   ]
  },
  {
   "cell_type": "code",
   "execution_count": 17,
   "id": "ff7eace7-4057-4710-b387-fa1006cd9c97",
   "metadata": {
    "execution": {
     "iopub.execute_input": "2022-01-26T22:50:33.798180Z",
     "iopub.status.busy": "2022-01-26T22:50:33.797856Z",
     "iopub.status.idle": "2022-01-26T22:50:33.807712Z",
     "shell.execute_reply": "2022-01-26T22:50:33.805374Z",
     "shell.execute_reply.started": "2022-01-26T22:50:33.798147Z"
    },
    "tags": []
   },
   "outputs": [
    {
     "data": {
      "text/plain": [
       "'From: sd345@city.ac.uk (Michael Collier)\\nSubject: Converting images to HP LaserJet III?\\nNntp-Posting-Host: hampton\\nOrganization: The City University\\nLines: 14\\n\\nDoes anyone know of a good way (standard PC application/PD utility) to\\nconvert tif/img/tga files into LaserJet III format.  We would also like to\\ndo the same, converting to HPGL (HP plotter) files.\\n\\nPlease email any response.\\n\\nIs this the correct group?\\n\\nThanks in advance.  Michael.\\n-- \\nMichael Collier (Programmer)                 The Computer Unit,\\nEmail: M.P.Collier@uk.ac.city                The City University,\\nTel: 071 477-8000 x3769                      London,\\nFax: 071 477-8565                            EC1V 0HB.\\n'"
      ]
     },
     "execution_count": 17,
     "metadata": {},
     "output_type": "execute_result"
    }
   ],
   "source": [
    "# test preprocessing\n",
    "sentence = data.text.iloc[0]\n",
    "sentence"
   ]
  },
  {
   "cell_type": "code",
   "execution_count": 18,
   "id": "1c7237ea-53d1-45df-86b0-05d840711ded",
   "metadata": {
    "execution": {
     "iopub.execute_input": "2022-01-26T22:50:34.416026Z",
     "iopub.status.busy": "2022-01-26T22:50:34.415572Z",
     "iopub.status.idle": "2022-01-26T22:50:34.445374Z",
     "shell.execute_reply": "2022-01-26T22:50:34.444014Z",
     "shell.execute_reply.started": "2022-01-26T22:50:34.415974Z"
    },
    "tags": []
   },
   "outputs": [
    {
     "data": {
      "text/plain": [
       "'from michael collier subject converting images to hp laserjet iii nntppostinghost hampton organization the city university lines does anyone know of a good way standard pc applicationpd utility to convert tifimgtga files into laserjet iii format we would also like to do the same converting to hpgl hp plotter files please email any response is this the correct group thanks in advance michael michael collier programmer the computer unit email the city university tel x london fax ecv hb'"
      ]
     },
     "execution_count": 18,
     "metadata": {},
     "output_type": "execute_result"
    }
   ],
   "source": [
    "# without delete stop word et normalizer\n",
    "preprocess_text(sentence, stopwords=None, normalizer=None)"
   ]
  },
  {
   "cell_type": "code",
   "execution_count": 19,
   "id": "9dc7d2df-452a-49ed-9613-bff534b39c85",
   "metadata": {
    "execution": {
     "iopub.execute_input": "2022-01-26T22:50:35.769271Z",
     "iopub.status.busy": "2022-01-26T22:50:35.768801Z",
     "iopub.status.idle": "2022-01-26T22:50:35.782630Z",
     "shell.execute_reply": "2022-01-26T22:50:35.780117Z",
     "shell.execute_reply.started": "2022-01-26T22:50:35.769218Z"
    },
    "tags": []
   },
   "outputs": [
    {
     "data": {
      "text/plain": [
       "'michael collier subject converting images hp laserjet iii nntppostinghost hampton organization city university lines anyone know good way standard pc applicationpd utility convert tifimgtga files laserjet iii format would also like converting hpgl hp plotter files please email response correct group thanks advance michael michael collier programmer computer unit email city university tel x london fax ecv hb'"
      ]
     },
     "execution_count": 19,
     "metadata": {},
     "output_type": "execute_result"
    }
   ],
   "source": [
    "# delete stop words in text\n",
    "preprocess_text(sentence, stopwords=stopwords_nltk, normalizer=None)"
   ]
  },
  {
   "cell_type": "code",
   "execution_count": 20,
   "id": "155ae0a3-4cf6-4719-8932-bc9098a3144b",
   "metadata": {
    "execution": {
     "iopub.execute_input": "2022-01-26T22:50:36.363409Z",
     "iopub.status.busy": "2022-01-26T22:50:36.363080Z",
     "iopub.status.idle": "2022-01-26T22:50:36.377273Z",
     "shell.execute_reply": "2022-01-26T22:50:36.376417Z",
     "shell.execute_reply.started": "2022-01-26T22:50:36.363376Z"
    },
    "tags": []
   },
   "outputs": [
    {
     "data": {
      "text/plain": [
       "'michael collier subject convert imag hp laserjet iii nntppostinghost hampton organ citi univers line anyon know good way standard pc applicationpd util convert tifimgtga file laserjet iii format would also like convert hpgl hp plotter file pleas email respons correct group thank advanc michael michael collier programm comput unit email citi univers tel x london fax ecv hb'"
      ]
     },
     "execution_count": 20,
     "metadata": {},
     "output_type": "execute_result"
    }
   ],
   "source": [
    "# normalizer with stemmer\n",
    "preprocess_text(sentence, stopwords=stopwords_nltk, normalizer=\"stem\")"
   ]
  },
  {
   "cell_type": "code",
   "execution_count": 21,
   "id": "5707526c-7d6e-4424-b365-06226c6db34d",
   "metadata": {
    "execution": {
     "iopub.execute_input": "2022-01-26T22:50:36.777650Z",
     "iopub.status.busy": "2022-01-26T22:50:36.777167Z",
     "iopub.status.idle": "2022-01-26T22:50:38.682942Z",
     "shell.execute_reply": "2022-01-26T22:50:38.681776Z",
     "shell.execute_reply.started": "2022-01-26T22:50:36.777596Z"
    },
    "tags": []
   },
   "outputs": [
    {
     "data": {
      "text/plain": [
       "'michael collier subject converting image hp laserjet iii nntppostinghost hampton organization city university line anyone know good way standard pc applicationpd utility convert tifimgtga file laserjet iii format would also like converting hpgl hp plotter file please email response correct group thanks advance michael michael collier programmer computer unit email city university tel x london fax ecv hb'"
      ]
     },
     "execution_count": 21,
     "metadata": {},
     "output_type": "execute_result"
    }
   ],
   "source": [
    "# normalize without lemmatizer\n",
    "preprocess_text(sentence, stopwords=stopwords_nltk, normalizer=\"lemma\")"
   ]
  },
  {
   "cell_type": "markdown",
   "id": "7cf26ad1-c593-412a-b758-d58dda90dad7",
   "metadata": {},
   "source": [
    "#### Add new column for sanitizing"
   ]
  },
  {
   "cell_type": "code",
   "execution_count": 22,
   "id": "d11c1527-5e1b-4cec-8b08-bb62e18c16b4",
   "metadata": {
    "execution": {
     "iopub.execute_input": "2022-01-26T22:50:38.686055Z",
     "iopub.status.busy": "2022-01-26T22:50:38.685517Z",
     "iopub.status.idle": "2022-01-26T22:50:51.889703Z",
     "shell.execute_reply": "2022-01-26T22:50:51.888653Z",
     "shell.execute_reply.started": "2022-01-26T22:50:38.685987Z"
    },
    "tags": []
   },
   "outputs": [],
   "source": [
    "# add new column for sanitizing\n",
    "data[\"text_sanitize\"] = data.text.apply(preprocess_text, stopwords=stopwords_nltk, normalizer=\"stem\")"
   ]
  },
  {
   "cell_type": "code",
   "execution_count": 23,
   "id": "cdde9b34-b190-4ea4-aa00-cde79e43ddda",
   "metadata": {
    "execution": {
     "iopub.execute_input": "2022-01-26T22:50:51.893178Z",
     "iopub.status.busy": "2022-01-26T22:50:51.892210Z",
     "iopub.status.idle": "2022-01-26T22:50:51.908624Z",
     "shell.execute_reply": "2022-01-26T22:50:51.906194Z",
     "shell.execute_reply.started": "2022-01-26T22:50:51.893035Z"
    },
    "tags": []
   },
   "outputs": [
    {
     "data": {
      "text/html": [
       "<div>\n",
       "<style scoped>\n",
       "    .dataframe tbody tr th:only-of-type {\n",
       "        vertical-align: middle;\n",
       "    }\n",
       "\n",
       "    .dataframe tbody tr th {\n",
       "        vertical-align: top;\n",
       "    }\n",
       "\n",
       "    .dataframe thead th {\n",
       "        text-align: right;\n",
       "    }\n",
       "</style>\n",
       "<table border=\"1\" class=\"dataframe\">\n",
       "  <thead>\n",
       "    <tr style=\"text-align: right;\">\n",
       "      <th></th>\n",
       "      <th>text</th>\n",
       "      <th>target</th>\n",
       "      <th>target_name</th>\n",
       "      <th>text_sanitize</th>\n",
       "    </tr>\n",
       "  </thead>\n",
       "  <tbody>\n",
       "    <tr>\n",
       "      <th>0</th>\n",
       "      <td>From: sd345@city.ac.uk (Michael Collier)\\nSubj...</td>\n",
       "      <td>1</td>\n",
       "      <td>comp.graphics</td>\n",
       "      <td>michael collier subject convert imag hp laserj...</td>\n",
       "    </tr>\n",
       "    <tr>\n",
       "      <th>1</th>\n",
       "      <td>From: ani@ms.uky.edu (Aniruddha B. Deglurkar)\\...</td>\n",
       "      <td>1</td>\n",
       "      <td>comp.graphics</td>\n",
       "      <td>aniruddha b deglurkar subject help split trim ...</td>\n",
       "    </tr>\n",
       "    <tr>\n",
       "      <th>2</th>\n",
       "      <td>From: djohnson@cs.ucsd.edu (Darin Johnson)\\nSu...</td>\n",
       "      <td>3</td>\n",
       "      <td>soc.religion.christian</td>\n",
       "      <td>darin johnson subject harrass work could use p...</td>\n",
       "    </tr>\n",
       "    <tr>\n",
       "      <th>3</th>\n",
       "      <td>From: s0612596@let.rug.nl (M.M. Zwart)\\nSubjec...</td>\n",
       "      <td>3</td>\n",
       "      <td>soc.religion.christian</td>\n",
       "      <td>mm zwart subject cathol church poland organ fa...</td>\n",
       "    </tr>\n",
       "    <tr>\n",
       "      <th>4</th>\n",
       "      <td>From: stanly@grok11.columbiasc.ncr.com (stanly...</td>\n",
       "      <td>3</td>\n",
       "      <td>soc.religion.christian</td>\n",
       "      <td>stan subject elder brother organ ncr corp colu...</td>\n",
       "    </tr>\n",
       "  </tbody>\n",
       "</table>\n",
       "</div>"
      ],
      "text/plain": [
       "                                                text  target  \\\n",
       "0  From: sd345@city.ac.uk (Michael Collier)\\nSubj...       1   \n",
       "1  From: ani@ms.uky.edu (Aniruddha B. Deglurkar)\\...       1   \n",
       "2  From: djohnson@cs.ucsd.edu (Darin Johnson)\\nSu...       3   \n",
       "3  From: s0612596@let.rug.nl (M.M. Zwart)\\nSubjec...       3   \n",
       "4  From: stanly@grok11.columbiasc.ncr.com (stanly...       3   \n",
       "\n",
       "              target_name                                      text_sanitize  \n",
       "0           comp.graphics  michael collier subject convert imag hp laserj...  \n",
       "1           comp.graphics  aniruddha b deglurkar subject help split trim ...  \n",
       "2  soc.religion.christian  darin johnson subject harrass work could use p...  \n",
       "3  soc.religion.christian  mm zwart subject cathol church poland organ fa...  \n",
       "4  soc.religion.christian  stan subject elder brother organ ncr corp colu...  "
      ]
     },
     "execution_count": 23,
     "metadata": {},
     "output_type": "execute_result"
    }
   ],
   "source": [
    "data.head()"
   ]
  },
  {
   "cell_type": "markdown",
   "id": "caab311a-1b3f-4ac8-b490-3285d7808339",
   "metadata": {},
   "source": [
    "### Extracting features from text files\n",
    "\n",
    "In order to perform machine learning on text documents, we first need to turn the text content into numerical feature vectors.\n",
    "\n"
   ]
  },
  {
   "cell_type": "markdown",
   "id": "f595a6c2-b0a2-42ca-83e3-ec4d1b9add36",
   "metadata": {},
   "source": [
    "**Bags of words**\n",
    "\n",
    "The most intuitive way to do so is to use a bags of words representation:\n",
    "\n",
    " - Assign a fixed integer id to each word occurring in any document of the training set (for instance by building a dictionary from words to integer indices).\n",
    "\n",
    " - For each document `#i`, count the number of occurrences of each word w and store it in `X[i, j]` as the value of feature `#j` where `j` is the index of word w in the dictionary.\n",
    " \n",
    "Fortunately, **most values in X will be zeros** since for a given document less than a few thousand distinct words will be used. "
   ]
  },
  {
   "cell_type": "markdown",
   "id": "30746bdc-c72c-45bb-8815-d9d58cc75c95",
   "metadata": {},
   "source": [
    "Different Methods to vectorize a corpus of documents:\n",
    " - NLTK\n",
    " - spaCy\n",
    " - Gensim\n",
    " - fastText"
   ]
  },
  {
   "cell_type": "markdown",
   "id": "296150e6-8b44-4784-8316-8b545bf9763e",
   "metadata": {},
   "source": [
    "#### Count vectorizer\n",
    "[CountVectorizer](https://scikit-learn.org/stable/modules/generated/sklearn.feature_extraction.text.CountVectorizer.html#sklearn.feature_extraction.text.CountVectorizer) supports counts of N-grams of words or consecutive characters. Once fitted, the vectorizer has built a dictionary of feature indices:"
   ]
  },
  {
   "cell_type": "code",
   "execution_count": 24,
   "id": "2d360199-0838-4640-bd19-8ea034f3322e",
   "metadata": {
    "execution": {
     "iopub.execute_input": "2022-01-26T22:50:51.913793Z",
     "iopub.status.busy": "2022-01-26T22:50:51.913248Z",
     "iopub.status.idle": "2022-01-26T22:50:51.922298Z",
     "shell.execute_reply": "2022-01-26T22:50:51.919654Z",
     "shell.execute_reply.started": "2022-01-26T22:50:51.913730Z"
    },
    "tags": []
   },
   "outputs": [],
   "source": [
    "# get all documents (corpus)\n",
    "corpus = data.text_sanitize\n",
    "target = data.target"
   ]
  },
  {
   "cell_type": "code",
   "execution_count": 25,
   "id": "8357b112-3496-4456-a927-d02f70a7ae08",
   "metadata": {
    "execution": {
     "iopub.execute_input": "2022-01-26T22:50:51.924781Z",
     "iopub.status.busy": "2022-01-26T22:50:51.924405Z",
     "iopub.status.idle": "2022-01-26T22:50:52.315704Z",
     "shell.execute_reply": "2022-01-26T22:50:52.314242Z",
     "shell.execute_reply.started": "2022-01-26T22:50:51.924717Z"
    },
    "tags": []
   },
   "outputs": [
    {
     "data": {
      "text/plain": [
       "(2257, 23605)"
      ]
     },
     "execution_count": 25,
     "metadata": {},
     "output_type": "execute_result"
    }
   ],
   "source": [
    "count_vect = CountVectorizer()\n",
    "X_train_counts = count_vect.fit_transform(corpus)\n",
    "X_train_counts.shape\n"
   ]
  },
  {
   "cell_type": "code",
   "execution_count": 26,
   "id": "91d85c46-536c-464c-a86f-ba6dd95a988f",
   "metadata": {
    "execution": {
     "iopub.execute_input": "2022-01-26T22:50:52.317974Z",
     "iopub.status.busy": "2022-01-26T22:50:52.317596Z",
     "iopub.status.idle": "2022-01-26T22:50:52.327125Z",
     "shell.execute_reply": "2022-01-26T22:50:52.325384Z",
     "shell.execute_reply.started": "2022-01-26T22:50:52.317935Z"
    },
    "tags": []
   },
   "outputs": [
    {
     "data": {
      "text/plain": [
       "896"
      ]
     },
     "execution_count": 26,
     "metadata": {},
     "output_type": "execute_result"
    }
   ],
   "source": [
    "count_vect.vocabulary_.get('algorithm')"
   ]
  },
  {
   "cell_type": "markdown",
   "id": "24c7add5-7e95-4146-aba1-5a8b1065d2e2",
   "metadata": {},
   "source": [
    "#### From occurrences to frequencies\n",
    "\n",
    "Occurrence count is a good start but there is an issue: longer documents will have higher average count values than shorter documents, even though they might talk about the same topics.\n",
    "\n",
    "To avoid these potential discrepancies it suffices to divide the number of occurrences of each word in a document by the total number of words in the document: these new features are called tf for Term Frequencies.\n",
    "\n",
    "Another refinement on top of tf is to downscale weights for words that occur in many documents in the corpus and are therefore less informative than those that occur only in a smaller portion of the corpus.\n",
    "\n",
    "This downscaling is called tf–idf for “Term Frequency times Inverse Document Frequency”.\n"
   ]
  },
  {
   "cell_type": "code",
   "execution_count": 27,
   "id": "948c4d74-7a5b-4319-89a9-6dbc44f3a10a",
   "metadata": {
    "execution": {
     "iopub.execute_input": "2022-01-26T22:50:52.330124Z",
     "iopub.status.busy": "2022-01-26T22:50:52.329304Z",
     "iopub.status.idle": "2022-01-26T22:50:52.736406Z",
     "shell.execute_reply": "2022-01-26T22:50:52.735408Z",
     "shell.execute_reply.started": "2022-01-26T22:50:52.330062Z"
    },
    "tags": []
   },
   "outputs": [
    {
     "data": {
      "text/plain": [
       "(2257, 23605)"
      ]
     },
     "execution_count": 27,
     "metadata": {},
     "output_type": "execute_result"
    }
   ],
   "source": [
    "tfidf_vectorizer = TfidfVectorizer()\n",
    "X_train_tfidf = tfidf_vectorizer.fit_transform(corpus)\n",
    "X_train_tfidf.shape"
   ]
  },
  {
   "cell_type": "markdown",
   "id": "a4862007-6016-450b-860d-912659ba9272",
   "metadata": {},
   "source": [
    "#### Topic modeling"
   ]
  },
  {
   "cell_type": "code",
   "execution_count": null,
   "id": "e793a296-89d9-4872-a697-91e11236becf",
   "metadata": {},
   "outputs": [],
   "source": [
    "clf = LDA()\n",
    "clf.fit(X_train_tfidf, target)"
   ]
  },
  {
   "cell_type": "code",
   "execution_count": null,
   "id": "675b3c86-87c5-4399-bb8c-834b847070a3",
   "metadata": {},
   "outputs": [],
   "source": [
    "pyLDAvis.graphlab.prepare(topic_model, bows)\n"
   ]
  },
  {
   "cell_type": "markdown",
   "id": "ea9d26e4-47bd-4438-81bd-7c759e7afc83",
   "metadata": {},
   "source": [
    "### Classifier"
   ]
  },
  {
   "cell_type": "markdown",
   "id": "363a6fe5-3f2f-45c8-927b-4b93ba578d82",
   "metadata": {},
   "source": [
    "#### Naive classifier"
   ]
  },
  {
   "cell_type": "markdown",
   "id": "a6befeb5-66d7-4bc0-9e42-bba37c0da1e9",
   "metadata": {
    "execution": {
     "iopub.execute_input": "2022-01-26T22:05:21.575248Z",
     "iopub.status.busy": "2022-01-26T22:05:21.574811Z",
     "iopub.status.idle": "2022-01-26T22:05:21.580992Z",
     "shell.execute_reply": "2022-01-26T22:05:21.578331Z",
     "shell.execute_reply.started": "2022-01-26T22:05:21.575209Z"
    }
   },
   "source": [
    "##### Training"
   ]
  },
  {
   "cell_type": "code",
   "execution_count": 132,
   "id": "6831ffcc-95a2-4afe-9104-d95702c14f84",
   "metadata": {
    "execution": {
     "iopub.execute_input": "2022-01-26T22:01:22.773216Z",
     "iopub.status.busy": "2022-01-26T22:01:22.772746Z",
     "iopub.status.idle": "2022-01-26T22:01:22.805256Z",
     "shell.execute_reply": "2022-01-26T22:01:22.803301Z",
     "shell.execute_reply.started": "2022-01-26T22:01:22.773158Z"
    }
   },
   "outputs": [],
   "source": [
    "clf = MultinomialNB().fit(X_train_tfidf, target)"
   ]
  },
  {
   "cell_type": "code",
   "execution_count": 135,
   "id": "c5aef0e4-4b28-4e82-9fc4-75d167339b47",
   "metadata": {
    "execution": {
     "iopub.execute_input": "2022-01-26T22:02:24.572637Z",
     "iopub.status.busy": "2022-01-26T22:02:24.572252Z",
     "iopub.status.idle": "2022-01-26T22:02:24.581535Z",
     "shell.execute_reply": "2022-01-26T22:02:24.580127Z",
     "shell.execute_reply.started": "2022-01-26T22:02:24.572594Z"
    }
   },
   "outputs": [
    {
     "data": {
      "text/plain": [
       "<2x23605 sparse matrix of type '<class 'numpy.int64'>'\n",
       "\twith 4 stored elements in Compressed Sparse Row format>"
      ]
     },
     "execution_count": 135,
     "metadata": {},
     "output_type": "execute_result"
    }
   ],
   "source": [
    "X_new_counts"
   ]
  },
  {
   "cell_type": "markdown",
   "id": "75c1498d-87b5-4f48-b25f-3561525312b3",
   "metadata": {},
   "source": [
    "##### Prediction\n",
    "\n",
    "To try to predict the outcome on a new document we need to extract the features using almost the same feature extracting chain as before. The difference is that we call `transform` instead of `fit_transform` on the transformers, since they have already been fit to the training set:"
   ]
  },
  {
   "cell_type": "code",
   "execution_count": 138,
   "id": "8cfe53df-f8ab-42b0-a9d0-dc212aeb7014",
   "metadata": {
    "execution": {
     "iopub.execute_input": "2022-01-26T22:03:23.618396Z",
     "iopub.status.busy": "2022-01-26T22:03:23.617893Z",
     "iopub.status.idle": "2022-01-26T22:03:23.632609Z",
     "shell.execute_reply": "2022-01-26T22:03:23.630764Z",
     "shell.execute_reply.started": "2022-01-26T22:03:23.618323Z"
    },
    "tags": []
   },
   "outputs": [
    {
     "name": "stdout",
     "output_type": "stream",
     "text": [
      "God is love => soc.religion.christian\n",
      "OpenGL on the GPU is fast => comp.graphics\n"
     ]
    }
   ],
   "source": [
    "docs_new = ['God is love', 'OpenGL on the GPU is fast']\n",
    "\n",
    "X_new_counts = count_vect.transform(docs_new)\n",
    "X_new_tfidf = tfidf_vectorizer.transform(docs_new)\n",
    "\n",
    "predicted = clf.predict(X_new_tfidf)\n",
    "\n",
    "for doc, category in zip(docs_new, predicted):\n",
    "    print(f\"{doc} => {LABELS[category]}\")"
   ]
  },
  {
   "cell_type": "markdown",
   "id": "4dc906f9-72b9-4d78-8747-e96df2675d1a",
   "metadata": {},
   "source": [
    "#### Building a pipeline\n"
   ]
  },
  {
   "cell_type": "markdown",
   "id": "fc05fac2-f638-4e5a-bb4c-fe966ba9a4e0",
   "metadata": {},
   "source": [
    "##### Training"
   ]
  },
  {
   "cell_type": "markdown",
   "id": "d6f45014-6645-4105-ac2c-ab70eebd8ce2",
   "metadata": {},
   "source": [
    "In order to make the vectorizer => classifier easier to work with, `scikit-learn` provides a Pipeline class that behaves like a compound classifier:"
   ]
  },
  {
   "cell_type": "code",
   "execution_count": 184,
   "id": "a290fce4-1dfc-4399-9efb-b7924d336b86",
   "metadata": {
    "execution": {
     "iopub.execute_input": "2022-01-26T22:21:23.140805Z",
     "iopub.status.busy": "2022-01-26T22:21:23.140203Z",
     "iopub.status.idle": "2022-01-26T22:21:23.164170Z",
     "shell.execute_reply": "2022-01-26T22:21:23.157404Z",
     "shell.execute_reply.started": "2022-01-26T22:21:23.140732Z"
    },
    "tags": []
   },
   "outputs": [
    {
     "data": {
      "text/html": [
       "<style>div.sk-top-container {color: black;background-color: white;}div.sk-toggleable {background-color: white;}label.sk-toggleable__label {cursor: pointer;display: block;width: 100%;margin-bottom: 0;padding: 0.2em 0.3em;box-sizing: border-box;text-align: center;}div.sk-toggleable__content {max-height: 0;max-width: 0;overflow: hidden;text-align: left;background-color: #f0f8ff;}div.sk-toggleable__content pre {margin: 0.2em;color: black;border-radius: 0.25em;background-color: #f0f8ff;}input.sk-toggleable__control:checked~div.sk-toggleable__content {max-height: 200px;max-width: 100%;overflow: auto;}div.sk-estimator input.sk-toggleable__control:checked~label.sk-toggleable__label {background-color: #d4ebff;}div.sk-label input.sk-toggleable__control:checked~label.sk-toggleable__label {background-color: #d4ebff;}input.sk-hidden--visually {border: 0;clip: rect(1px 1px 1px 1px);clip: rect(1px, 1px, 1px, 1px);height: 1px;margin: -1px;overflow: hidden;padding: 0;position: absolute;width: 1px;}div.sk-estimator {font-family: monospace;background-color: #f0f8ff;margin: 0.25em 0.25em;border: 1px dotted black;border-radius: 0.25em;box-sizing: border-box;}div.sk-estimator:hover {background-color: #d4ebff;}div.sk-parallel-item::after {content: \"\";width: 100%;border-bottom: 1px solid gray;flex-grow: 1;}div.sk-label:hover label.sk-toggleable__label {background-color: #d4ebff;}div.sk-serial::before {content: \"\";position: absolute;border-left: 1px solid gray;box-sizing: border-box;top: 2em;bottom: 0;left: 50%;}div.sk-serial {display: flex;flex-direction: column;align-items: center;background-color: white;}div.sk-item {z-index: 1;}div.sk-parallel {display: flex;align-items: stretch;justify-content: center;background-color: white;}div.sk-parallel-item {display: flex;flex-direction: column;position: relative;background-color: white;}div.sk-parallel-item:first-child::after {align-self: flex-end;width: 50%;}div.sk-parallel-item:last-child::after {align-self: flex-start;width: 50%;}div.sk-parallel-item:only-child::after {width: 0;}div.sk-dashed-wrapped {border: 1px dashed gray;margin: 0.2em;box-sizing: border-box;padding-bottom: 0.1em;background-color: white;position: relative;}div.sk-label label {font-family: monospace;font-weight: bold;background-color: white;display: inline-block;line-height: 1.2em;}div.sk-label-container {position: relative;z-index: 2;text-align: center;}div.sk-container {display: inline-block;position: relative;}</style><div class=\"sk-top-container\"><div class=\"sk-container\"><div class=\"sk-item sk-dashed-wrapped\"><div class=\"sk-label-container\"><div class=\"sk-label sk-toggleable\"><input class=\"sk-toggleable__control sk-hidden--visually\" id=\"c58da2f7-8713-48c7-ab80-ea9108b03788\" type=\"checkbox\" ><label class=\"sk-toggleable__label\" for=\"c58da2f7-8713-48c7-ab80-ea9108b03788\">Pipeline</label><div class=\"sk-toggleable__content\"><pre>Pipeline(memory=None,\n",
       "         steps=[('vectorizer',\n",
       "                 TfidfVectorizer(analyzer='word', binary=False,\n",
       "                                 decode_error='strict',\n",
       "                                 dtype=<class 'numpy.float64'>,\n",
       "                                 encoding='utf-8', input='content',\n",
       "                                 lowercase=True, max_df=1.0, max_features=None,\n",
       "                                 min_df=1, ngram_range=(1, 1), norm='l2',\n",
       "                                 preprocessor=None, smooth_idf=True,\n",
       "                                 stop_words=None, strip_accents=None,\n",
       "                                 sublinear_tf=False,\n",
       "                                 token_pattern='(?u)\\\\b\\\\w\\\\w+\\\\b',\n",
       "                                 tokenizer=None, use_idf=True,\n",
       "                                 vocabulary=None)),\n",
       "                ('classifier',\n",
       "                 MultinomialNB(alpha=1.0, class_prior=None, fit_prior=True))],\n",
       "         verbose=False)</pre></div></div></div><div class=\"sk-serial\"><div class=\"sk-item\"><div class=\"sk-estimator sk-toggleable\"><input class=\"sk-toggleable__control sk-hidden--visually\" id=\"a89c1b6e-025d-4f23-b15d-222c4695bd9c\" type=\"checkbox\" ><label class=\"sk-toggleable__label\" for=\"a89c1b6e-025d-4f23-b15d-222c4695bd9c\">TfidfVectorizer</label><div class=\"sk-toggleable__content\"><pre>TfidfVectorizer()</pre></div></div></div><div class=\"sk-item\"><div class=\"sk-estimator sk-toggleable\"><input class=\"sk-toggleable__control sk-hidden--visually\" id=\"32cfb5dc-a68f-44a5-bd1d-eafeab732454\" type=\"checkbox\" ><label class=\"sk-toggleable__label\" for=\"32cfb5dc-a68f-44a5-bd1d-eafeab732454\">MultinomialNB</label><div class=\"sk-toggleable__content\"><pre>MultinomialNB()</pre></div></div></div></div></div></div></div>"
      ],
      "text/plain": [
       "Pipeline(memory=None,\n",
       "         steps=[('vectorizer',\n",
       "                 TfidfVectorizer(analyzer='word', binary=False,\n",
       "                                 decode_error='strict',\n",
       "                                 dtype=<class 'numpy.float64'>,\n",
       "                                 encoding='utf-8', input='content',\n",
       "                                 lowercase=True, max_df=1.0, max_features=None,\n",
       "                                 min_df=1, ngram_range=(1, 1), norm='l2',\n",
       "                                 preprocessor=None, smooth_idf=True,\n",
       "                                 stop_words=None, strip_accents=None,\n",
       "                                 sublinear_tf=False,\n",
       "                                 token_pattern='(?u)\\\\b\\\\w\\\\w+\\\\b',\n",
       "                                 tokenizer=None, use_idf=True,\n",
       "                                 vocabulary=None)),\n",
       "                ('classifier',\n",
       "                 MultinomialNB(alpha=1.0, class_prior=None, fit_prior=True))],\n",
       "         verbose=False)"
      ]
     },
     "execution_count": 184,
     "metadata": {},
     "output_type": "execute_result"
    }
   ],
   "source": [
    "mnb_clf_pipe = Pipeline([\n",
    "    ('vectorizer', TfidfVectorizer()),\n",
    "    ('classifier', MultinomialNB()),\n",
    "])\n",
    "mnb_clf_pipe"
   ]
  },
  {
   "cell_type": "markdown",
   "id": "753669d2-8c40-4a32-a008-77eb82e8c356",
   "metadata": {},
   "source": [
    "The names vectorizer and classifier are arbitrary. We will use them to perform grid search for suitable hyperparameters below. We can now train the model with a single command:"
   ]
  },
  {
   "cell_type": "code",
   "execution_count": 185,
   "id": "83a69c69-55da-4ef8-bbc0-e8e8a23dff0e",
   "metadata": {
    "execution": {
     "iopub.execute_input": "2022-01-26T22:21:26.009532Z",
     "iopub.status.busy": "2022-01-26T22:21:26.008082Z",
     "iopub.status.idle": "2022-01-26T22:21:26.531575Z",
     "shell.execute_reply": "2022-01-26T22:21:26.530618Z",
     "shell.execute_reply.started": "2022-01-26T22:21:26.009453Z"
    },
    "tags": []
   },
   "outputs": [
    {
     "data": {
      "text/html": [
       "<style>div.sk-top-container {color: black;background-color: white;}div.sk-toggleable {background-color: white;}label.sk-toggleable__label {cursor: pointer;display: block;width: 100%;margin-bottom: 0;padding: 0.2em 0.3em;box-sizing: border-box;text-align: center;}div.sk-toggleable__content {max-height: 0;max-width: 0;overflow: hidden;text-align: left;background-color: #f0f8ff;}div.sk-toggleable__content pre {margin: 0.2em;color: black;border-radius: 0.25em;background-color: #f0f8ff;}input.sk-toggleable__control:checked~div.sk-toggleable__content {max-height: 200px;max-width: 100%;overflow: auto;}div.sk-estimator input.sk-toggleable__control:checked~label.sk-toggleable__label {background-color: #d4ebff;}div.sk-label input.sk-toggleable__control:checked~label.sk-toggleable__label {background-color: #d4ebff;}input.sk-hidden--visually {border: 0;clip: rect(1px 1px 1px 1px);clip: rect(1px, 1px, 1px, 1px);height: 1px;margin: -1px;overflow: hidden;padding: 0;position: absolute;width: 1px;}div.sk-estimator {font-family: monospace;background-color: #f0f8ff;margin: 0.25em 0.25em;border: 1px dotted black;border-radius: 0.25em;box-sizing: border-box;}div.sk-estimator:hover {background-color: #d4ebff;}div.sk-parallel-item::after {content: \"\";width: 100%;border-bottom: 1px solid gray;flex-grow: 1;}div.sk-label:hover label.sk-toggleable__label {background-color: #d4ebff;}div.sk-serial::before {content: \"\";position: absolute;border-left: 1px solid gray;box-sizing: border-box;top: 2em;bottom: 0;left: 50%;}div.sk-serial {display: flex;flex-direction: column;align-items: center;background-color: white;}div.sk-item {z-index: 1;}div.sk-parallel {display: flex;align-items: stretch;justify-content: center;background-color: white;}div.sk-parallel-item {display: flex;flex-direction: column;position: relative;background-color: white;}div.sk-parallel-item:first-child::after {align-self: flex-end;width: 50%;}div.sk-parallel-item:last-child::after {align-self: flex-start;width: 50%;}div.sk-parallel-item:only-child::after {width: 0;}div.sk-dashed-wrapped {border: 1px dashed gray;margin: 0.2em;box-sizing: border-box;padding-bottom: 0.1em;background-color: white;position: relative;}div.sk-label label {font-family: monospace;font-weight: bold;background-color: white;display: inline-block;line-height: 1.2em;}div.sk-label-container {position: relative;z-index: 2;text-align: center;}div.sk-container {display: inline-block;position: relative;}</style><div class=\"sk-top-container\"><div class=\"sk-container\"><div class=\"sk-item sk-dashed-wrapped\"><div class=\"sk-label-container\"><div class=\"sk-label sk-toggleable\"><input class=\"sk-toggleable__control sk-hidden--visually\" id=\"586d6dd4-100d-4853-834b-e9946a06beb6\" type=\"checkbox\" ><label class=\"sk-toggleable__label\" for=\"586d6dd4-100d-4853-834b-e9946a06beb6\">Pipeline</label><div class=\"sk-toggleable__content\"><pre>Pipeline(memory=None,\n",
       "         steps=[('vectorizer',\n",
       "                 TfidfVectorizer(analyzer='word', binary=False,\n",
       "                                 decode_error='strict',\n",
       "                                 dtype=<class 'numpy.float64'>,\n",
       "                                 encoding='utf-8', input='content',\n",
       "                                 lowercase=True, max_df=1.0, max_features=None,\n",
       "                                 min_df=1, ngram_range=(1, 1), norm='l2',\n",
       "                                 preprocessor=None, smooth_idf=True,\n",
       "                                 stop_words=None, strip_accents=None,\n",
       "                                 sublinear_tf=False,\n",
       "                                 token_pattern='(?u)\\\\b\\\\w\\\\w+\\\\b',\n",
       "                                 tokenizer=None, use_idf=True,\n",
       "                                 vocabulary=None)),\n",
       "                ('classifier',\n",
       "                 MultinomialNB(alpha=1.0, class_prior=None, fit_prior=True))],\n",
       "         verbose=False)</pre></div></div></div><div class=\"sk-serial\"><div class=\"sk-item\"><div class=\"sk-estimator sk-toggleable\"><input class=\"sk-toggleable__control sk-hidden--visually\" id=\"375e1089-2da0-45e0-bd01-5c069690f5b8\" type=\"checkbox\" ><label class=\"sk-toggleable__label\" for=\"375e1089-2da0-45e0-bd01-5c069690f5b8\">TfidfVectorizer</label><div class=\"sk-toggleable__content\"><pre>TfidfVectorizer()</pre></div></div></div><div class=\"sk-item\"><div class=\"sk-estimator sk-toggleable\"><input class=\"sk-toggleable__control sk-hidden--visually\" id=\"363134fc-2225-4df9-ae2f-e5afca07a560\" type=\"checkbox\" ><label class=\"sk-toggleable__label\" for=\"363134fc-2225-4df9-ae2f-e5afca07a560\">MultinomialNB</label><div class=\"sk-toggleable__content\"><pre>MultinomialNB()</pre></div></div></div></div></div></div></div>"
      ],
      "text/plain": [
       "Pipeline(memory=None,\n",
       "         steps=[('vectorizer',\n",
       "                 TfidfVectorizer(analyzer='word', binary=False,\n",
       "                                 decode_error='strict',\n",
       "                                 dtype=<class 'numpy.float64'>,\n",
       "                                 encoding='utf-8', input='content',\n",
       "                                 lowercase=True, max_df=1.0, max_features=None,\n",
       "                                 min_df=1, ngram_range=(1, 1), norm='l2',\n",
       "                                 preprocessor=None, smooth_idf=True,\n",
       "                                 stop_words=None, strip_accents=None,\n",
       "                                 sublinear_tf=False,\n",
       "                                 token_pattern='(?u)\\\\b\\\\w\\\\w+\\\\b',\n",
       "                                 tokenizer=None, use_idf=True,\n",
       "                                 vocabulary=None)),\n",
       "                ('classifier',\n",
       "                 MultinomialNB(alpha=1.0, class_prior=None, fit_prior=True))],\n",
       "         verbose=False)"
      ]
     },
     "execution_count": 185,
     "metadata": {},
     "output_type": "execute_result"
    }
   ],
   "source": [
    "mnb_clf_pipe.fit(corpus, target)"
   ]
  },
  {
   "cell_type": "markdown",
   "id": "d868c8dc-33e0-4855-a258-f8a1e79409d9",
   "metadata": {},
   "source": [
    "##### Prediction"
   ]
  },
  {
   "cell_type": "code",
   "execution_count": 173,
   "id": "5eba3f91-fda5-418e-b3dc-4e8ba269668c",
   "metadata": {
    "execution": {
     "iopub.execute_input": "2022-01-26T22:18:38.014212Z",
     "iopub.status.busy": "2022-01-26T22:18:38.013833Z",
     "iopub.status.idle": "2022-01-26T22:18:38.889203Z",
     "shell.execute_reply": "2022-01-26T22:18:38.888157Z",
     "shell.execute_reply.started": "2022-01-26T22:18:38.014172Z"
    },
    "tags": []
   },
   "outputs": [],
   "source": [
    "twenty_test = fetch_20newsgroups(subset='test', categories=categories, shuffle=True, random_state=42)\n",
    "docs_test = twenty_test.data\n",
    "predicted = mnb_clf_pipe.predict(docs_test)"
   ]
  },
  {
   "cell_type": "code",
   "execution_count": 176,
   "id": "8271eccf-7ebd-4d8b-a070-7af2d36604c3",
   "metadata": {
    "execution": {
     "iopub.execute_input": "2022-01-26T22:18:49.134409Z",
     "iopub.status.busy": "2022-01-26T22:18:49.134040Z",
     "iopub.status.idle": "2022-01-26T22:18:49.484576Z",
     "shell.execute_reply": "2022-01-26T22:18:49.483591Z",
     "shell.execute_reply.started": "2022-01-26T22:18:49.134366Z"
    }
   },
   "outputs": [
    {
     "data": {
      "image/png": "[encoded data removed]",
      "text/plain": [
       "<Figure size 432x288 with 2 Axes>"
      ]
     },
     "metadata": {
      "needs_background": "light"
     },
     "output_type": "display_data"
    }
   ],
   "source": [
    "sns.heatmap(confusion_matrix(twenty_test.target, predicted, normalize=\"true\"),\n",
    "           annot=True, fmt='.2g', cmap=\"Greens\");"
   ]
  },
  {
   "cell_type": "code",
   "execution_count": 174,
   "id": "9cd89c26-46d6-495a-bdcb-4809a752a8a9",
   "metadata": {
    "execution": {
     "iopub.execute_input": "2022-01-26T22:18:39.605961Z",
     "iopub.status.busy": "2022-01-26T22:18:39.605525Z",
     "iopub.status.idle": "2022-01-26T22:18:39.626709Z",
     "shell.execute_reply": "2022-01-26T22:18:39.624839Z",
     "shell.execute_reply.started": "2022-01-26T22:18:39.605912Z"
    },
    "tags": []
   },
   "outputs": [
    {
     "name": "stdout",
     "output_type": "stream",
     "text": [
      "                        precision    recall  f1-score   support\n",
      "\n",
      "           alt.atheism       0.57      0.97      0.72       188\n",
      "         comp.graphics       0.91      0.92      0.92       383\n",
      "               sci.med       0.79      0.95      0.86       330\n",
      "soc.religion.christian       0.97      0.64      0.77       601\n",
      "\n",
      "              accuracy                           0.82      1502\n",
      "             macro avg       0.81      0.87      0.82      1502\n",
      "          weighted avg       0.87      0.82      0.82      1502\n",
      "\n"
     ]
    }
   ],
   "source": [
    "print(classification_report(predicted, twenty_test.target, target_names=twenty_test.target_names))"
   ]
  },
  {
   "cell_type": "markdown",
   "id": "ca8ed0e8-182f-48b7-add1-126cc55ee84b",
   "metadata": {},
   "source": [
    "### Random forest\n",
    "\n",
    "We achieved 82% accuracy. Let’s see if we can do better with a random forest classifier, which is widely regarded as one of the best text classification algorithms (although it’s also a bit slower than naïve Bayes). We can change the learner by simply plugging a different classifier object into our pipeline:"
   ]
  },
  {
   "cell_type": "code",
   "execution_count": 157,
   "id": "ae4a1dc3-7415-4e7b-ad23-6bef0597a960",
   "metadata": {
    "execution": {
     "iopub.execute_input": "2022-01-26T22:14:16.676645Z",
     "iopub.status.busy": "2022-01-26T22:14:16.676335Z",
     "iopub.status.idle": "2022-01-26T22:14:16.701088Z",
     "shell.execute_reply": "2022-01-26T22:14:16.697987Z",
     "shell.execute_reply.started": "2022-01-26T22:14:16.676615Z"
    },
    "tags": []
   },
   "outputs": [
    {
     "data": {
      "text/html": [
       "<style>div.sk-top-container {color: black;background-color: white;}div.sk-toggleable {background-color: white;}label.sk-toggleable__label {cursor: pointer;display: block;width: 100%;margin-bottom: 0;padding: 0.2em 0.3em;box-sizing: border-box;text-align: center;}div.sk-toggleable__content {max-height: 0;max-width: 0;overflow: hidden;text-align: left;background-color: #f0f8ff;}div.sk-toggleable__content pre {margin: 0.2em;color: black;border-radius: 0.25em;background-color: #f0f8ff;}input.sk-toggleable__control:checked~div.sk-toggleable__content {max-height: 200px;max-width: 100%;overflow: auto;}div.sk-estimator input.sk-toggleable__control:checked~label.sk-toggleable__label {background-color: #d4ebff;}div.sk-label input.sk-toggleable__control:checked~label.sk-toggleable__label {background-color: #d4ebff;}input.sk-hidden--visually {border: 0;clip: rect(1px 1px 1px 1px);clip: rect(1px, 1px, 1px, 1px);height: 1px;margin: -1px;overflow: hidden;padding: 0;position: absolute;width: 1px;}div.sk-estimator {font-family: monospace;background-color: #f0f8ff;margin: 0.25em 0.25em;border: 1px dotted black;border-radius: 0.25em;box-sizing: border-box;}div.sk-estimator:hover {background-color: #d4ebff;}div.sk-parallel-item::after {content: \"\";width: 100%;border-bottom: 1px solid gray;flex-grow: 1;}div.sk-label:hover label.sk-toggleable__label {background-color: #d4ebff;}div.sk-serial::before {content: \"\";position: absolute;border-left: 1px solid gray;box-sizing: border-box;top: 2em;bottom: 0;left: 50%;}div.sk-serial {display: flex;flex-direction: column;align-items: center;background-color: white;}div.sk-item {z-index: 1;}div.sk-parallel {display: flex;align-items: stretch;justify-content: center;background-color: white;}div.sk-parallel-item {display: flex;flex-direction: column;position: relative;background-color: white;}div.sk-parallel-item:first-child::after {align-self: flex-end;width: 50%;}div.sk-parallel-item:last-child::after {align-self: flex-start;width: 50%;}div.sk-parallel-item:only-child::after {width: 0;}div.sk-dashed-wrapped {border: 1px dashed gray;margin: 0.2em;box-sizing: border-box;padding-bottom: 0.1em;background-color: white;position: relative;}div.sk-label label {font-family: monospace;font-weight: bold;background-color: white;display: inline-block;line-height: 1.2em;}div.sk-label-container {position: relative;z-index: 2;text-align: center;}div.sk-container {display: inline-block;position: relative;}</style><div class=\"sk-top-container\"><div class=\"sk-container\"><div class=\"sk-item sk-dashed-wrapped\"><div class=\"sk-label-container\"><div class=\"sk-label sk-toggleable\"><input class=\"sk-toggleable__control sk-hidden--visually\" id=\"4992940a-447d-410b-892e-1acfd0b94348\" type=\"checkbox\" ><label class=\"sk-toggleable__label\" for=\"4992940a-447d-410b-892e-1acfd0b94348\">Pipeline</label><div class=\"sk-toggleable__content\"><pre>Pipeline(memory=None,\n",
       "         steps=[('vectorizer',\n",
       "                 TfidfVectorizer(analyzer='word', binary=False,\n",
       "                                 decode_error='strict',\n",
       "                                 dtype=<class 'numpy.float64'>,\n",
       "                                 encoding='utf-8', input='content',\n",
       "                                 lowercase=True, max_df=1.0, max_features=None,\n",
       "                                 min_df=1, ngram_range=(1, 1), norm='l2',\n",
       "                                 preprocessor=None, smooth_idf=True,\n",
       "                                 stop_words=None, strip_accents=None,\n",
       "                                 sublinear_tf=False,\n",
       "                                 token_patt...\n",
       "                 RandomForestClassifier(bootstrap=True, ccp_alpha=0.0,\n",
       "                                        class_weight=None, criterion='gini',\n",
       "                                        max_depth=None, max_features='auto',\n",
       "                                        max_leaf_nodes=None, max_samples=None,\n",
       "                                        min_impurity_decrease=0.0,\n",
       "                                        min_impurity_split=None,\n",
       "                                        min_samples_leaf=1, min_samples_split=2,\n",
       "                                        min_weight_fraction_leaf=0.0,\n",
       "                                        n_estimators=100, n_jobs=None,\n",
       "                                        oob_score=False, random_state=None,\n",
       "                                        verbose=0, warm_start=False))],\n",
       "         verbose=False)</pre></div></div></div><div class=\"sk-serial\"><div class=\"sk-item\"><div class=\"sk-estimator sk-toggleable\"><input class=\"sk-toggleable__control sk-hidden--visually\" id=\"34849e32-010a-4418-acdf-836b6d7c2b67\" type=\"checkbox\" ><label class=\"sk-toggleable__label\" for=\"34849e32-010a-4418-acdf-836b6d7c2b67\">TfidfVectorizer</label><div class=\"sk-toggleable__content\"><pre>TfidfVectorizer()</pre></div></div></div><div class=\"sk-item\"><div class=\"sk-estimator sk-toggleable\"><input class=\"sk-toggleable__control sk-hidden--visually\" id=\"7bf6a44d-8f5e-4fad-852b-82ec667f45e0\" type=\"checkbox\" ><label class=\"sk-toggleable__label\" for=\"7bf6a44d-8f5e-4fad-852b-82ec667f45e0\">RandomForestClassifier</label><div class=\"sk-toggleable__content\"><pre>RandomForestClassifier()</pre></div></div></div></div></div></div></div>"
      ],
      "text/plain": [
       "Pipeline(memory=None,\n",
       "         steps=[('vectorizer',\n",
       "                 TfidfVectorizer(analyzer='word', binary=False,\n",
       "                                 decode_error='strict',\n",
       "                                 dtype=<class 'numpy.float64'>,\n",
       "                                 encoding='utf-8', input='content',\n",
       "                                 lowercase=True, max_df=1.0, max_features=None,\n",
       "                                 min_df=1, ngram_range=(1, 1), norm='l2',\n",
       "                                 preprocessor=None, smooth_idf=True,\n",
       "                                 stop_words=None, strip_accents=None,\n",
       "                                 sublinear_tf=False,\n",
       "                                 token_patt...\n",
       "                 RandomForestClassifier(bootstrap=True, ccp_alpha=0.0,\n",
       "                                        class_weight=None, criterion='gini',\n",
       "                                        max_depth=None, max_features='auto',\n",
       "                                        max_leaf_nodes=None, max_samples=None,\n",
       "                                        min_impurity_decrease=0.0,\n",
       "                                        min_impurity_split=None,\n",
       "                                        min_samples_leaf=1, min_samples_split=2,\n",
       "                                        min_weight_fraction_leaf=0.0,\n",
       "                                        n_estimators=100, n_jobs=None,\n",
       "                                        oob_score=False, random_state=None,\n",
       "                                        verbose=0, warm_start=False))],\n",
       "         verbose=False)"
      ]
     },
     "execution_count": 157,
     "metadata": {},
     "output_type": "execute_result"
    }
   ],
   "source": [
    "rf_clf_pipe = Pipeline([\n",
    "    ('vectorizer', TfidfVectorizer()),\n",
    "    ('classifier', RandomForestClassifier()),\n",
    "])\n",
    "rf_clf_pipe"
   ]
  },
  {
   "cell_type": "code",
   "execution_count": 178,
   "id": "21699aec-6252-43e3-a7df-8ea8163b4473",
   "metadata": {
    "execution": {
     "iopub.execute_input": "2022-01-26T22:19:12.474829Z",
     "iopub.status.busy": "2022-01-26T22:19:12.474448Z",
     "iopub.status.idle": "2022-01-26T22:19:16.154513Z",
     "shell.execute_reply": "2022-01-26T22:19:16.153302Z",
     "shell.execute_reply.started": "2022-01-26T22:19:12.474789Z"
    },
    "tags": []
   },
   "outputs": [],
   "source": [
    "rf_clf_pipe.fit(corpus, target)\n",
    "rf_predicted = rf_clf_pipe.predict(docs_test)"
   ]
  },
  {
   "cell_type": "code",
   "execution_count": 180,
   "id": "f7cb9aa9-4597-420a-af8a-69637bab478b",
   "metadata": {
    "execution": {
     "iopub.execute_input": "2022-01-26T22:19:23.973378Z",
     "iopub.status.busy": "2022-01-26T22:19:23.973061Z",
     "iopub.status.idle": "2022-01-26T22:19:24.306839Z",
     "shell.execute_reply": "2022-01-26T22:19:24.305565Z",
     "shell.execute_reply.started": "2022-01-26T22:19:23.973346Z"
    },
    "tags": []
   },
   "outputs": [
    {
     "data": {
      "image/png": "[encoded data removed]",
      "text/plain": [
       "<Figure size 432x288 with 2 Axes>"
      ]
     },
     "metadata": {
      "needs_background": "light"
     },
     "output_type": "display_data"
    }
   ],
   "source": [
    "sns.heatmap(confusion_matrix(twenty_test.target, rf_predicted, normalize=\"true\"),\n",
    "            annot=True, fmt='.2g', cmap=\"Greens\");"
   ]
  },
  {
   "cell_type": "code",
   "execution_count": 181,
   "id": "ffb11023-fbb8-4745-be31-1235fa3921c1",
   "metadata": {
    "execution": {
     "iopub.execute_input": "2022-01-26T22:19:26.689422Z",
     "iopub.status.busy": "2022-01-26T22:19:26.689107Z",
     "iopub.status.idle": "2022-01-26T22:19:26.708991Z",
     "shell.execute_reply": "2022-01-26T22:19:26.707584Z",
     "shell.execute_reply.started": "2022-01-26T22:19:26.689389Z"
    },
    "tags": []
   },
   "outputs": [
    {
     "name": "stdout",
     "output_type": "stream",
     "text": [
      "                        precision    recall  f1-score   support\n",
      "\n",
      "           alt.atheism       0.99      0.34      0.51       319\n",
      "         comp.graphics       0.64      0.96      0.77       389\n",
      "               sci.med       0.81      0.66      0.73       396\n",
      "soc.religion.christian       0.70      0.86      0.77       398\n",
      "\n",
      "              accuracy                           0.72      1502\n",
      "             macro avg       0.78      0.70      0.69      1502\n",
      "          weighted avg       0.77      0.72      0.70      1502\n",
      "\n"
     ]
    }
   ],
   "source": [
    "print(classification_report(twenty_test.target, rf_predicted,\n",
    "                            target_names=twenty_test.target_names))"
   ]
  },
  {
   "cell_type": "markdown",
   "id": "b7049a6d-be30-47aa-8007-081d08fb3fd6",
   "metadata": {},
   "source": [
    "### Optimization"
   ]
  },
  {
   "cell_type": "markdown",
   "id": "7904b251-0a9b-4880-8328-fb76209e71ba",
   "metadata": {},
   "source": [
    "#### Parameter tuning using grid search"
   ]
  },
  {
   "cell_type": "code",
   "execution_count": 186,
   "id": "ddf03c15-b648-4177-84c1-921b61fdcbb4",
   "metadata": {
    "execution": {
     "iopub.execute_input": "2022-01-26T22:21:44.147422Z",
     "iopub.status.busy": "2022-01-26T22:21:44.147115Z",
     "iopub.status.idle": "2022-01-26T22:21:44.167120Z",
     "shell.execute_reply": "2022-01-26T22:21:44.166008Z",
     "shell.execute_reply.started": "2022-01-26T22:21:44.147389Z"
    },
    "tags": []
   },
   "outputs": [
    {
     "data": {
      "text/html": [
       "<style>div.sk-top-container {color: black;background-color: white;}div.sk-toggleable {background-color: white;}label.sk-toggleable__label {cursor: pointer;display: block;width: 100%;margin-bottom: 0;padding: 0.2em 0.3em;box-sizing: border-box;text-align: center;}div.sk-toggleable__content {max-height: 0;max-width: 0;overflow: hidden;text-align: left;background-color: #f0f8ff;}div.sk-toggleable__content pre {margin: 0.2em;color: black;border-radius: 0.25em;background-color: #f0f8ff;}input.sk-toggleable__control:checked~div.sk-toggleable__content {max-height: 200px;max-width: 100%;overflow: auto;}div.sk-estimator input.sk-toggleable__control:checked~label.sk-toggleable__label {background-color: #d4ebff;}div.sk-label input.sk-toggleable__control:checked~label.sk-toggleable__label {background-color: #d4ebff;}input.sk-hidden--visually {border: 0;clip: rect(1px 1px 1px 1px);clip: rect(1px, 1px, 1px, 1px);height: 1px;margin: -1px;overflow: hidden;padding: 0;position: absolute;width: 1px;}div.sk-estimator {font-family: monospace;background-color: #f0f8ff;margin: 0.25em 0.25em;border: 1px dotted black;border-radius: 0.25em;box-sizing: border-box;}div.sk-estimator:hover {background-color: #d4ebff;}div.sk-parallel-item::after {content: \"\";width: 100%;border-bottom: 1px solid gray;flex-grow: 1;}div.sk-label:hover label.sk-toggleable__label {background-color: #d4ebff;}div.sk-serial::before {content: \"\";position: absolute;border-left: 1px solid gray;box-sizing: border-box;top: 2em;bottom: 0;left: 50%;}div.sk-serial {display: flex;flex-direction: column;align-items: center;background-color: white;}div.sk-item {z-index: 1;}div.sk-parallel {display: flex;align-items: stretch;justify-content: center;background-color: white;}div.sk-parallel-item {display: flex;flex-direction: column;position: relative;background-color: white;}div.sk-parallel-item:first-child::after {align-self: flex-end;width: 50%;}div.sk-parallel-item:last-child::after {align-self: flex-start;width: 50%;}div.sk-parallel-item:only-child::after {width: 0;}div.sk-dashed-wrapped {border: 1px dashed gray;margin: 0.2em;box-sizing: border-box;padding-bottom: 0.1em;background-color: white;position: relative;}div.sk-label label {font-family: monospace;font-weight: bold;background-color: white;display: inline-block;line-height: 1.2em;}div.sk-label-container {position: relative;z-index: 2;text-align: center;}div.sk-container {display: inline-block;position: relative;}</style><div class=\"sk-top-container\"><div class=\"sk-container\"><div class=\"sk-item sk-dashed-wrapped\"><div class=\"sk-label-container\"><div class=\"sk-label sk-toggleable\"><input class=\"sk-toggleable__control sk-hidden--visually\" id=\"768c682c-6946-409e-916f-aeb084204af4\" type=\"checkbox\" ><label class=\"sk-toggleable__label\" for=\"768c682c-6946-409e-916f-aeb084204af4\">Pipeline</label><div class=\"sk-toggleable__content\"><pre>Pipeline(memory=None,\n",
       "         steps=[('vectorizer',\n",
       "                 TfidfVectorizer(analyzer='word', binary=False,\n",
       "                                 decode_error='strict',\n",
       "                                 dtype=<class 'numpy.float64'>,\n",
       "                                 encoding='utf-8', input='content',\n",
       "                                 lowercase=True, max_df=1.0, max_features=None,\n",
       "                                 min_df=1, ngram_range=(1, 1), norm='l2',\n",
       "                                 preprocessor=None, smooth_idf=True,\n",
       "                                 stop_words=None, strip_accents=None,\n",
       "                                 sublinear_tf=False,\n",
       "                                 token_pattern='(?u)\\\\b\\\\w\\\\w+\\\\b',\n",
       "                                 tokenizer=None, use_idf=True,\n",
       "                                 vocabulary=None)),\n",
       "                ('classifier',\n",
       "                 MultinomialNB(alpha=1.0, class_prior=None, fit_prior=True))],\n",
       "         verbose=False)</pre></div></div></div><div class=\"sk-serial\"><div class=\"sk-item\"><div class=\"sk-estimator sk-toggleable\"><input class=\"sk-toggleable__control sk-hidden--visually\" id=\"14ea07d2-a494-44e5-afca-9841b76f5f4f\" type=\"checkbox\" ><label class=\"sk-toggleable__label\" for=\"14ea07d2-a494-44e5-afca-9841b76f5f4f\">TfidfVectorizer</label><div class=\"sk-toggleable__content\"><pre>TfidfVectorizer()</pre></div></div></div><div class=\"sk-item\"><div class=\"sk-estimator sk-toggleable\"><input class=\"sk-toggleable__control sk-hidden--visually\" id=\"99893147-9d31-4211-b11f-56b0ab16e2da\" type=\"checkbox\" ><label class=\"sk-toggleable__label\" for=\"99893147-9d31-4211-b11f-56b0ab16e2da\">MultinomialNB</label><div class=\"sk-toggleable__content\"><pre>MultinomialNB()</pre></div></div></div></div></div></div></div>"
      ],
      "text/plain": [
       "Pipeline(memory=None,\n",
       "         steps=[('vectorizer',\n",
       "                 TfidfVectorizer(analyzer='word', binary=False,\n",
       "                                 decode_error='strict',\n",
       "                                 dtype=<class 'numpy.float64'>,\n",
       "                                 encoding='utf-8', input='content',\n",
       "                                 lowercase=True, max_df=1.0, max_features=None,\n",
       "                                 min_df=1, ngram_range=(1, 1), norm='l2',\n",
       "                                 preprocessor=None, smooth_idf=True,\n",
       "                                 stop_words=None, strip_accents=None,\n",
       "                                 sublinear_tf=False,\n",
       "                                 token_pattern='(?u)\\\\b\\\\w\\\\w+\\\\b',\n",
       "                                 tokenizer=None, use_idf=True,\n",
       "                                 vocabulary=None)),\n",
       "                ('classifier',\n",
       "                 MultinomialNB(alpha=1.0, class_prior=None, fit_prior=True))],\n",
       "         verbose=False)"
      ]
     },
     "execution_count": 186,
     "metadata": {},
     "output_type": "execute_result"
    }
   ],
   "source": [
    "mnb_clf_pipe"
   ]
  },
  {
   "cell_type": "code",
   "execution_count": 192,
   "id": "3617e807-f44e-4cfc-b954-94957328c1b1",
   "metadata": {
    "execution": {
     "iopub.execute_input": "2022-01-26T22:25:19.918241Z",
     "iopub.status.busy": "2022-01-26T22:25:19.917681Z",
     "iopub.status.idle": "2022-01-26T22:25:19.946540Z",
     "shell.execute_reply": "2022-01-26T22:25:19.945165Z",
     "shell.execute_reply.started": "2022-01-26T22:25:19.918146Z"
    },
    "tags": []
   },
   "outputs": [
    {
     "data": {
      "text/plain": [
       "dict_keys(['explained_variance', 'r2', 'max_error', 'neg_median_absolute_error', 'neg_mean_absolute_error', 'neg_mean_absolute_percentage_error', 'neg_mean_squared_error', 'neg_mean_squared_log_error', 'neg_root_mean_squared_error', 'neg_mean_poisson_deviance', 'neg_mean_gamma_deviance', 'accuracy', 'top_k_accuracy', 'roc_auc', 'roc_auc_ovr', 'roc_auc_ovo', 'roc_auc_ovr_weighted', 'roc_auc_ovo_weighted', 'balanced_accuracy', 'average_precision', 'neg_log_loss', 'neg_brier_score', 'adjusted_rand_score', 'rand_score', 'homogeneity_score', 'completeness_score', 'v_measure_score', 'mutual_info_score', 'adjusted_mutual_info_score', 'normalized_mutual_info_score', 'fowlkes_mallows_score', 'precision', 'precision_macro', 'precision_micro', 'precision_samples', 'precision_weighted', 'recall', 'recall_macro', 'recall_micro', 'recall_samples', 'recall_weighted', 'f1', 'f1_macro', 'f1_micro', 'f1_samples', 'f1_weighted', 'jaccard', 'jaccard_macro', 'jaccard_micro', 'jaccard_samples', 'jaccard_weighted'])"
      ]
     },
     "execution_count": 192,
     "metadata": {},
     "output_type": "execute_result"
    }
   ],
   "source": [
    "metrics.SCORERS.keys()"
   ]
  },
  {
   "cell_type": "code",
   "execution_count": 246,
   "id": "960dd55b-e4c9-47b0-a311-95d49b089486",
   "metadata": {
    "execution": {
     "iopub.execute_input": "2022-01-26T22:43:48.561068Z",
     "iopub.status.busy": "2022-01-26T22:43:48.560777Z",
     "iopub.status.idle": "2022-01-26T22:43:48.568871Z",
     "shell.execute_reply": "2022-01-26T22:43:48.566127Z",
     "shell.execute_reply.started": "2022-01-26T22:43:48.561038Z"
    },
    "tags": []
   },
   "outputs": [],
   "source": [
    "grid_params = {\n",
    "    \"vectorizer__max_df\": (0.75, 0.9, 1.0),\n",
    "    \"vectorizer__min_df\": (0.001, 0.01, 0.05),\n",
    "    'vectorizer__use_idf': (True, False),\n",
    "    'vectorizer__norm': ('l1', 'l2'),\n",
    "    # classifier hyperparameters\n",
    "    'classifier__alpha': (1e-2, 1e-3),\n",
    "    'classifier__fit_prior': [True, False],\n",
    "}\n",
    "\n",
    "# stratified cross validate\n",
    "skf = StratifiedKFold(n_splits=5, random_state=42, shuffle=True)\n",
    "\n",
    "gs_clf = GridSearchCV(mnb_clf_pipe, grid_params, cv=skf, n_jobs=-1, verbose=1, scoring=\"f1_weighted\")"
   ]
  },
  {
   "cell_type": "code",
   "execution_count": 199,
   "id": "2c224f15-0cf7-41da-87b7-831d1913b7e4",
   "metadata": {
    "execution": {
     "iopub.execute_input": "2022-01-26T22:28:01.247296Z",
     "iopub.status.busy": "2022-01-26T22:28:01.246594Z",
     "iopub.status.idle": "2022-01-26T22:30:51.547411Z",
     "shell.execute_reply": "2022-01-26T22:30:51.546450Z",
     "shell.execute_reply.started": "2022-01-26T22:28:01.247216Z"
    },
    "tags": []
   },
   "outputs": [
    {
     "name": "stdout",
     "output_type": "stream",
     "text": [
      "Fitting 5 folds for each of 144 candidates, totalling 720 fits\n",
      "CPU times: user 4.57 s, sys: 961 ms, total: 5.53 s\n",
      "Wall time: 2min 50s\n"
     ]
    }
   ],
   "source": [
    "%%time\n",
    "gs_clf = gs_clf.fit(corpus,target)\n"
   ]
  },
  {
   "cell_type": "code",
   "execution_count": 203,
   "id": "c41a06c1-049a-4942-9bdc-f31913a0f4fc",
   "metadata": {
    "execution": {
     "iopub.execute_input": "2022-01-26T22:31:01.785847Z",
     "iopub.status.busy": "2022-01-26T22:31:01.785502Z",
     "iopub.status.idle": "2022-01-26T22:31:01.794809Z",
     "shell.execute_reply": "2022-01-26T22:31:01.792550Z",
     "shell.execute_reply.started": "2022-01-26T22:31:01.785812Z"
    },
    "tags": []
   },
   "outputs": [
    {
     "name": "stdout",
     "output_type": "stream",
     "text": [
      "Best f1 score: 0.974272804385451\n",
      "\n",
      "Best parameters: \n",
      "{'classifier__alpha': 0.001, 'classifier__fit_prior': False, 'vectorizer__max_df': 0.5, 'vectorizer__min_df': 0.001, 'vectorizer__norm': 'l2', 'vectorizer__use_idf': False}\n"
     ]
    }
   ],
   "source": [
    "print(f\"Best f1 score: {gs_clf.best_score_}\")\n",
    "best_param = gs_clf.best_params_\n",
    "print(f\"\\nBest parameters: \\n{best_param}\")"
   ]
  },
  {
   "cell_type": "code",
   "execution_count": 205,
   "id": "8558367a-93e4-44bd-a7b4-adcd46385399",
   "metadata": {
    "execution": {
     "iopub.execute_input": "2022-01-26T22:31:54.575014Z",
     "iopub.status.busy": "2022-01-26T22:31:54.574569Z",
     "iopub.status.idle": "2022-01-26T22:31:54.669715Z",
     "shell.execute_reply": "2022-01-26T22:31:54.668765Z",
     "shell.execute_reply.started": "2022-01-26T22:31:54.574970Z"
    },
    "tags": []
   },
   "outputs": [
    {
     "data": {
      "text/html": [
       "<div>\n",
       "<style scoped>\n",
       "    .dataframe tbody tr th:only-of-type {\n",
       "        vertical-align: middle;\n",
       "    }\n",
       "\n",
       "    .dataframe tbody tr th {\n",
       "        vertical-align: top;\n",
       "    }\n",
       "\n",
       "    .dataframe thead th {\n",
       "        text-align: right;\n",
       "    }\n",
       "</style>\n",
       "<table border=\"1\" class=\"dataframe\">\n",
       "  <thead>\n",
       "    <tr style=\"text-align: right;\">\n",
       "      <th></th>\n",
       "      <th>mean_fit_time</th>\n",
       "      <th>std_fit_time</th>\n",
       "      <th>mean_score_time</th>\n",
       "      <th>std_score_time</th>\n",
       "      <th>param_classifier__alpha</th>\n",
       "      <th>param_classifier__fit_prior</th>\n",
       "      <th>param_vectorizer__max_df</th>\n",
       "      <th>param_vectorizer__min_df</th>\n",
       "      <th>param_vectorizer__norm</th>\n",
       "      <th>param_vectorizer__use_idf</th>\n",
       "      <th>params</th>\n",
       "      <th>split0_test_score</th>\n",
       "      <th>split1_test_score</th>\n",
       "      <th>split2_test_score</th>\n",
       "      <th>split3_test_score</th>\n",
       "      <th>split4_test_score</th>\n",
       "      <th>mean_test_score</th>\n",
       "      <th>std_test_score</th>\n",
       "      <th>rank_test_score</th>\n",
       "    </tr>\n",
       "  </thead>\n",
       "  <tbody>\n",
       "    <tr>\n",
       "      <th>0</th>\n",
       "      <td>0.785549</td>\n",
       "      <td>0.107785</td>\n",
       "      <td>0.202326</td>\n",
       "      <td>0.047937</td>\n",
       "      <td>0.01</td>\n",
       "      <td>True</td>\n",
       "      <td>0.5</td>\n",
       "      <td>0.001</td>\n",
       "      <td>l1</td>\n",
       "      <td>True</td>\n",
       "      <td>{'classifier__alpha': 0.01, 'classifier__fit_p...</td>\n",
       "      <td>0.959756</td>\n",
       "      <td>0.966670</td>\n",
       "      <td>0.927991</td>\n",
       "      <td>0.953244</td>\n",
       "      <td>0.955413</td>\n",
       "      <td>0.952615</td>\n",
       "      <td>0.013138</td>\n",
       "      <td>73</td>\n",
       "    </tr>\n",
       "    <tr>\n",
       "      <th>1</th>\n",
       "      <td>1.069600</td>\n",
       "      <td>0.087738</td>\n",
       "      <td>0.272268</td>\n",
       "      <td>0.040898</td>\n",
       "      <td>0.01</td>\n",
       "      <td>True</td>\n",
       "      <td>0.5</td>\n",
       "      <td>0.001</td>\n",
       "      <td>l1</td>\n",
       "      <td>False</td>\n",
       "      <td>{'classifier__alpha': 0.01, 'classifier__fit_p...</td>\n",
       "      <td>0.936353</td>\n",
       "      <td>0.950769</td>\n",
       "      <td>0.904055</td>\n",
       "      <td>0.927613</td>\n",
       "      <td>0.941795</td>\n",
       "      <td>0.932117</td>\n",
       "      <td>0.015920</td>\n",
       "      <td>82</td>\n",
       "    </tr>\n",
       "    <tr>\n",
       "      <th>2</th>\n",
       "      <td>0.803183</td>\n",
       "      <td>0.102691</td>\n",
       "      <td>0.255786</td>\n",
       "      <td>0.073591</td>\n",
       "      <td>0.01</td>\n",
       "      <td>True</td>\n",
       "      <td>0.5</td>\n",
       "      <td>0.001</td>\n",
       "      <td>l2</td>\n",
       "      <td>True</td>\n",
       "      <td>{'classifier__alpha': 0.01, 'classifier__fit_p...</td>\n",
       "      <td>0.973419</td>\n",
       "      <td>0.977884</td>\n",
       "      <td>0.966712</td>\n",
       "      <td>0.962269</td>\n",
       "      <td>0.977817</td>\n",
       "      <td>0.971620</td>\n",
       "      <td>0.006203</td>\n",
       "      <td>22</td>\n",
       "    </tr>\n",
       "    <tr>\n",
       "      <th>3</th>\n",
       "      <td>1.005750</td>\n",
       "      <td>0.089433</td>\n",
       "      <td>0.242033</td>\n",
       "      <td>0.038215</td>\n",
       "      <td>0.01</td>\n",
       "      <td>True</td>\n",
       "      <td>0.5</td>\n",
       "      <td>0.001</td>\n",
       "      <td>l2</td>\n",
       "      <td>False</td>\n",
       "      <td>{'classifier__alpha': 0.01, 'classifier__fit_p...</td>\n",
       "      <td>0.980014</td>\n",
       "      <td>0.977844</td>\n",
       "      <td>0.957761</td>\n",
       "      <td>0.971151</td>\n",
       "      <td>0.975613</td>\n",
       "      <td>0.972477</td>\n",
       "      <td>0.007922</td>\n",
       "      <td>12</td>\n",
       "    </tr>\n",
       "    <tr>\n",
       "      <th>4</th>\n",
       "      <td>0.690550</td>\n",
       "      <td>0.124991</td>\n",
       "      <td>0.169028</td>\n",
       "      <td>0.056351</td>\n",
       "      <td>0.01</td>\n",
       "      <td>True</td>\n",
       "      <td>0.5</td>\n",
       "      <td>0.01</td>\n",
       "      <td>l1</td>\n",
       "      <td>True</td>\n",
       "      <td>{'classifier__alpha': 0.01, 'classifier__fit_p...</td>\n",
       "      <td>0.920978</td>\n",
       "      <td>0.932333</td>\n",
       "      <td>0.893010</td>\n",
       "      <td>0.916392</td>\n",
       "      <td>0.930232</td>\n",
       "      <td>0.918589</td>\n",
       "      <td>0.014066</td>\n",
       "      <td>89</td>\n",
       "    </tr>\n",
       "    <tr>\n",
       "      <th>...</th>\n",
       "      <td>...</td>\n",
       "      <td>...</td>\n",
       "      <td>...</td>\n",
       "      <td>...</td>\n",
       "      <td>...</td>\n",
       "      <td>...</td>\n",
       "      <td>...</td>\n",
       "      <td>...</td>\n",
       "      <td>...</td>\n",
       "      <td>...</td>\n",
       "      <td>...</td>\n",
       "      <td>...</td>\n",
       "      <td>...</td>\n",
       "      <td>...</td>\n",
       "      <td>...</td>\n",
       "      <td>...</td>\n",
       "      <td>...</td>\n",
       "      <td>...</td>\n",
       "      <td>...</td>\n",
       "    </tr>\n",
       "    <tr>\n",
       "      <th>139</th>\n",
       "      <td>0.599649</td>\n",
       "      <td>0.019260</td>\n",
       "      <td>0.160196</td>\n",
       "      <td>0.035439</td>\n",
       "      <td>0.001</td>\n",
       "      <td>False</td>\n",
       "      <td>1.0</td>\n",
       "      <td>0.01</td>\n",
       "      <td>l2</td>\n",
       "      <td>False</td>\n",
       "      <td>{'classifier__alpha': 0.001, 'classifier__fit_...</td>\n",
       "      <td>0.964550</td>\n",
       "      <td>0.973464</td>\n",
       "      <td>0.946605</td>\n",
       "      <td>0.955567</td>\n",
       "      <td>0.955643</td>\n",
       "      <td>0.959166</td>\n",
       "      <td>0.009128</td>\n",
       "      <td>40</td>\n",
       "    </tr>\n",
       "    <tr>\n",
       "      <th>140</th>\n",
       "      <td>0.797022</td>\n",
       "      <td>0.058026</td>\n",
       "      <td>0.181154</td>\n",
       "      <td>0.023424</td>\n",
       "      <td>0.001</td>\n",
       "      <td>False</td>\n",
       "      <td>1.0</td>\n",
       "      <td>0.05</td>\n",
       "      <td>l1</td>\n",
       "      <td>True</td>\n",
       "      <td>{'classifier__alpha': 0.001, 'classifier__fit_...</td>\n",
       "      <td>0.856215</td>\n",
       "      <td>0.911160</td>\n",
       "      <td>0.857624</td>\n",
       "      <td>0.882283</td>\n",
       "      <td>0.873722</td>\n",
       "      <td>0.876201</td>\n",
       "      <td>0.020049</td>\n",
       "      <td>97</td>\n",
       "    </tr>\n",
       "    <tr>\n",
       "      <th>141</th>\n",
       "      <td>0.883900</td>\n",
       "      <td>0.071038</td>\n",
       "      <td>0.233355</td>\n",
       "      <td>0.089750</td>\n",
       "      <td>0.001</td>\n",
       "      <td>False</td>\n",
       "      <td>1.0</td>\n",
       "      <td>0.05</td>\n",
       "      <td>l1</td>\n",
       "      <td>False</td>\n",
       "      <td>{'classifier__alpha': 0.001, 'classifier__fit_...</td>\n",
       "      <td>0.869281</td>\n",
       "      <td>0.897718</td>\n",
       "      <td>0.861972</td>\n",
       "      <td>0.877740</td>\n",
       "      <td>0.873603</td>\n",
       "      <td>0.876063</td>\n",
       "      <td>0.012020</td>\n",
       "      <td>99</td>\n",
       "    </tr>\n",
       "    <tr>\n",
       "      <th>142</th>\n",
       "      <td>1.104608</td>\n",
       "      <td>0.069427</td>\n",
       "      <td>0.207127</td>\n",
       "      <td>0.040726</td>\n",
       "      <td>0.001</td>\n",
       "      <td>False</td>\n",
       "      <td>1.0</td>\n",
       "      <td>0.05</td>\n",
       "      <td>l2</td>\n",
       "      <td>True</td>\n",
       "      <td>{'classifier__alpha': 0.001, 'classifier__fit_...</td>\n",
       "      <td>0.853626</td>\n",
       "      <td>0.904348</td>\n",
       "      <td>0.857599</td>\n",
       "      <td>0.884446</td>\n",
       "      <td>0.866968</td>\n",
       "      <td>0.873397</td>\n",
       "      <td>0.018771</td>\n",
       "      <td>112</td>\n",
       "    </tr>\n",
       "    <tr>\n",
       "      <th>143</th>\n",
       "      <td>0.689845</td>\n",
       "      <td>0.137570</td>\n",
       "      <td>0.123954</td>\n",
       "      <td>0.051531</td>\n",
       "      <td>0.001</td>\n",
       "      <td>False</td>\n",
       "      <td>1.0</td>\n",
       "      <td>0.05</td>\n",
       "      <td>l2</td>\n",
       "      <td>False</td>\n",
       "      <td>{'classifier__alpha': 0.001, 'classifier__fit_...</td>\n",
       "      <td>0.869011</td>\n",
       "      <td>0.895324</td>\n",
       "      <td>0.862031</td>\n",
       "      <td>0.875390</td>\n",
       "      <td>0.871546</td>\n",
       "      <td>0.874660</td>\n",
       "      <td>0.011213</td>\n",
       "      <td>108</td>\n",
       "    </tr>\n",
       "  </tbody>\n",
       "</table>\n",
       "<p>144 rows × 19 columns</p>\n",
       "</div>"
      ],
      "text/plain": [
       "     mean_fit_time  std_fit_time  mean_score_time  std_score_time  \\\n",
       "0         0.785549      0.107785         0.202326        0.047937   \n",
       "1         1.069600      0.087738         0.272268        0.040898   \n",
       "2         0.803183      0.102691         0.255786        0.073591   \n",
       "3         1.005750      0.089433         0.242033        0.038215   \n",
       "4         0.690550      0.124991         0.169028        0.056351   \n",
       "..             ...           ...              ...             ...   \n",
       "139       0.599649      0.019260         0.160196        0.035439   \n",
       "140       0.797022      0.058026         0.181154        0.023424   \n",
       "141       0.883900      0.071038         0.233355        0.089750   \n",
       "142       1.104608      0.069427         0.207127        0.040726   \n",
       "143       0.689845      0.137570         0.123954        0.051531   \n",
       "\n",
       "    param_classifier__alpha param_classifier__fit_prior  \\\n",
       "0                      0.01                        True   \n",
       "1                      0.01                        True   \n",
       "2                      0.01                        True   \n",
       "3                      0.01                        True   \n",
       "4                      0.01                        True   \n",
       "..                      ...                         ...   \n",
       "139                   0.001                       False   \n",
       "140                   0.001                       False   \n",
       "141                   0.001                       False   \n",
       "142                   0.001                       False   \n",
       "143                   0.001                       False   \n",
       "\n",
       "    param_vectorizer__max_df param_vectorizer__min_df param_vectorizer__norm  \\\n",
       "0                        0.5                    0.001                     l1   \n",
       "1                        0.5                    0.001                     l1   \n",
       "2                        0.5                    0.001                     l2   \n",
       "3                        0.5                    0.001                     l2   \n",
       "4                        0.5                     0.01                     l1   \n",
       "..                       ...                      ...                    ...   \n",
       "139                      1.0                     0.01                     l2   \n",
       "140                      1.0                     0.05                     l1   \n",
       "141                      1.0                     0.05                     l1   \n",
       "142                      1.0                     0.05                     l2   \n",
       "143                      1.0                     0.05                     l2   \n",
       "\n",
       "    param_vectorizer__use_idf  \\\n",
       "0                        True   \n",
       "1                       False   \n",
       "2                        True   \n",
       "3                       False   \n",
       "4                        True   \n",
       "..                        ...   \n",
       "139                     False   \n",
       "140                      True   \n",
       "141                     False   \n",
       "142                      True   \n",
       "143                     False   \n",
       "\n",
       "                                                params  split0_test_score  \\\n",
       "0    {'classifier__alpha': 0.01, 'classifier__fit_p...           0.959756   \n",
       "1    {'classifier__alpha': 0.01, 'classifier__fit_p...           0.936353   \n",
       "2    {'classifier__alpha': 0.01, 'classifier__fit_p...           0.973419   \n",
       "3    {'classifier__alpha': 0.01, 'classifier__fit_p...           0.980014   \n",
       "4    {'classifier__alpha': 0.01, 'classifier__fit_p...           0.920978   \n",
       "..                                                 ...                ...   \n",
       "139  {'classifier__alpha': 0.001, 'classifier__fit_...           0.964550   \n",
       "140  {'classifier__alpha': 0.001, 'classifier__fit_...           0.856215   \n",
       "141  {'classifier__alpha': 0.001, 'classifier__fit_...           0.869281   \n",
       "142  {'classifier__alpha': 0.001, 'classifier__fit_...           0.853626   \n",
       "143  {'classifier__alpha': 0.001, 'classifier__fit_...           0.869011   \n",
       "\n",
       "     split1_test_score  split2_test_score  split3_test_score  \\\n",
       "0             0.966670           0.927991           0.953244   \n",
       "1             0.950769           0.904055           0.927613   \n",
       "2             0.977884           0.966712           0.962269   \n",
       "3             0.977844           0.957761           0.971151   \n",
       "4             0.932333           0.893010           0.916392   \n",
       "..                 ...                ...                ...   \n",
       "139           0.973464           0.946605           0.955567   \n",
       "140           0.911160           0.857624           0.882283   \n",
       "141           0.897718           0.861972           0.877740   \n",
       "142           0.904348           0.857599           0.884446   \n",
       "143           0.895324           0.862031           0.875390   \n",
       "\n",
       "     split4_test_score  mean_test_score  std_test_score  rank_test_score  \n",
       "0             0.955413         0.952615        0.013138               73  \n",
       "1             0.941795         0.932117        0.015920               82  \n",
       "2             0.977817         0.971620        0.006203               22  \n",
       "3             0.975613         0.972477        0.007922               12  \n",
       "4             0.930232         0.918589        0.014066               89  \n",
       "..                 ...              ...             ...              ...  \n",
       "139           0.955643         0.959166        0.009128               40  \n",
       "140           0.873722         0.876201        0.020049               97  \n",
       "141           0.873603         0.876063        0.012020               99  \n",
       "142           0.866968         0.873397        0.018771              112  \n",
       "143           0.871546         0.874660        0.011213              108  \n",
       "\n",
       "[144 rows x 19 columns]"
      ]
     },
     "execution_count": 205,
     "metadata": {},
     "output_type": "execute_result"
    }
   ],
   "source": [
    "pd.DataFrame(gs_clf.cv_results_)"
   ]
  },
  {
   "cell_type": "code",
   "execution_count": 206,
   "id": "0b2ab784-d161-4a0b-abd6-0a1cf8852557",
   "metadata": {
    "execution": {
     "iopub.execute_input": "2022-01-26T22:32:42.691973Z",
     "iopub.status.busy": "2022-01-26T22:32:42.691663Z",
     "iopub.status.idle": "2022-01-26T22:32:42.701668Z",
     "shell.execute_reply": "2022-01-26T22:32:42.699523Z",
     "shell.execute_reply.started": "2022-01-26T22:32:42.691942Z"
    }
   },
   "outputs": [
    {
     "data": {
      "text/plain": [
       "{'classifier__alpha': 0.001,\n",
       " 'classifier__fit_prior': False,\n",
       " 'vectorizer__max_df': 0.5,\n",
       " 'vectorizer__min_df': 0.001,\n",
       " 'vectorizer__norm': 'l2',\n",
       " 'vectorizer__use_idf': False}"
      ]
     },
     "execution_count": 206,
     "metadata": {},
     "output_type": "execute_result"
    }
   ],
   "source": [
    "best_param"
   ]
  },
  {
   "cell_type": "code",
   "execution_count": 237,
   "id": "84736482-ba8f-48e7-aab3-a086aef4d0cf",
   "metadata": {
    "execution": {
     "iopub.execute_input": "2022-01-26T22:42:07.621871Z",
     "iopub.status.busy": "2022-01-26T22:42:07.621316Z",
     "iopub.status.idle": "2022-01-26T22:42:07.644337Z",
     "shell.execute_reply": "2022-01-26T22:42:07.642607Z",
     "shell.execute_reply.started": "2022-01-26T22:42:07.621803Z"
    },
    "tags": []
   },
   "outputs": [
    {
     "data": {
      "text/html": [
       "<style>div.sk-top-container {color: black;background-color: white;}div.sk-toggleable {background-color: white;}label.sk-toggleable__label {cursor: pointer;display: block;width: 100%;margin-bottom: 0;padding: 0.2em 0.3em;box-sizing: border-box;text-align: center;}div.sk-toggleable__content {max-height: 0;max-width: 0;overflow: hidden;text-align: left;background-color: #f0f8ff;}div.sk-toggleable__content pre {margin: 0.2em;color: black;border-radius: 0.25em;background-color: #f0f8ff;}input.sk-toggleable__control:checked~div.sk-toggleable__content {max-height: 200px;max-width: 100%;overflow: auto;}div.sk-estimator input.sk-toggleable__control:checked~label.sk-toggleable__label {background-color: #d4ebff;}div.sk-label input.sk-toggleable__control:checked~label.sk-toggleable__label {background-color: #d4ebff;}input.sk-hidden--visually {border: 0;clip: rect(1px 1px 1px 1px);clip: rect(1px, 1px, 1px, 1px);height: 1px;margin: -1px;overflow: hidden;padding: 0;position: absolute;width: 1px;}div.sk-estimator {font-family: monospace;background-color: #f0f8ff;margin: 0.25em 0.25em;border: 1px dotted black;border-radius: 0.25em;box-sizing: border-box;}div.sk-estimator:hover {background-color: #d4ebff;}div.sk-parallel-item::after {content: \"\";width: 100%;border-bottom: 1px solid gray;flex-grow: 1;}div.sk-label:hover label.sk-toggleable__label {background-color: #d4ebff;}div.sk-serial::before {content: \"\";position: absolute;border-left: 1px solid gray;box-sizing: border-box;top: 2em;bottom: 0;left: 50%;}div.sk-serial {display: flex;flex-direction: column;align-items: center;background-color: white;}div.sk-item {z-index: 1;}div.sk-parallel {display: flex;align-items: stretch;justify-content: center;background-color: white;}div.sk-parallel-item {display: flex;flex-direction: column;position: relative;background-color: white;}div.sk-parallel-item:first-child::after {align-self: flex-end;width: 50%;}div.sk-parallel-item:last-child::after {align-self: flex-start;width: 50%;}div.sk-parallel-item:only-child::after {width: 0;}div.sk-dashed-wrapped {border: 1px dashed gray;margin: 0.2em;box-sizing: border-box;padding-bottom: 0.1em;background-color: white;position: relative;}div.sk-label label {font-family: monospace;font-weight: bold;background-color: white;display: inline-block;line-height: 1.2em;}div.sk-label-container {position: relative;z-index: 2;text-align: center;}div.sk-container {display: inline-block;position: relative;}</style><div class=\"sk-top-container\"><div class=\"sk-container\"><div class=\"sk-item sk-dashed-wrapped\"><div class=\"sk-label-container\"><div class=\"sk-label sk-toggleable\"><input class=\"sk-toggleable__control sk-hidden--visually\" id=\"245bfab7-4838-43d5-b035-0ec50da67fa6\" type=\"checkbox\" ><label class=\"sk-toggleable__label\" for=\"245bfab7-4838-43d5-b035-0ec50da67fa6\">Pipeline</label><div class=\"sk-toggleable__content\"><pre>Pipeline(memory=None,\n",
       "         steps=[('vectorizer',\n",
       "                 TfidfVectorizer(analyzer='word', binary=False,\n",
       "                                 decode_error='strict',\n",
       "                                 dtype=<class 'numpy.float64'>,\n",
       "                                 encoding='utf-8', input='content',\n",
       "                                 lowercase=True, max_df=0.5, max_features=None,\n",
       "                                 min_df=0.001, ngram_range=(1, 1), norm='l2',\n",
       "                                 preprocessor=None, smooth_idf=True,\n",
       "                                 stop_words=None, strip_accents=None,\n",
       "                                 sublinear_tf=False,\n",
       "                                 token_pattern='(?u)\\\\b\\\\w\\\\w+\\\\b',\n",
       "                                 tokenizer=None, use_idf=False,\n",
       "                                 vocabulary=None)),\n",
       "                ('classifier',\n",
       "                 MultinomialNB(alpha=0.001, class_prior=None,\n",
       "                               fit_prior=False))],\n",
       "         verbose=False)</pre></div></div></div><div class=\"sk-serial\"><div class=\"sk-item\"><div class=\"sk-estimator sk-toggleable\"><input class=\"sk-toggleable__control sk-hidden--visually\" id=\"eff408e1-87e1-454f-9d03-ccf5eb1619db\" type=\"checkbox\" ><label class=\"sk-toggleable__label\" for=\"eff408e1-87e1-454f-9d03-ccf5eb1619db\">TfidfVectorizer</label><div class=\"sk-toggleable__content\"><pre>TfidfVectorizer(max_df=0.5, min_df=0.001, use_idf=False)</pre></div></div></div><div class=\"sk-item\"><div class=\"sk-estimator sk-toggleable\"><input class=\"sk-toggleable__control sk-hidden--visually\" id=\"2df6f165-9ebd-4fdd-812d-d2401ad124bd\" type=\"checkbox\" ><label class=\"sk-toggleable__label\" for=\"2df6f165-9ebd-4fdd-812d-d2401ad124bd\">MultinomialNB</label><div class=\"sk-toggleable__content\"><pre>MultinomialNB(alpha=0.001, fit_prior=False)</pre></div></div></div></div></div></div></div>"
      ],
      "text/plain": [
       "Pipeline(memory=None,\n",
       "         steps=[('vectorizer',\n",
       "                 TfidfVectorizer(analyzer='word', binary=False,\n",
       "                                 decode_error='strict',\n",
       "                                 dtype=<class 'numpy.float64'>,\n",
       "                                 encoding='utf-8', input='content',\n",
       "                                 lowercase=True, max_df=0.5, max_features=None,\n",
       "                                 min_df=0.001, ngram_range=(1, 1), norm='l2',\n",
       "                                 preprocessor=None, smooth_idf=True,\n",
       "                                 stop_words=None, strip_accents=None,\n",
       "                                 sublinear_tf=False,\n",
       "                                 token_pattern='(?u)\\\\b\\\\w\\\\w+\\\\b',\n",
       "                                 tokenizer=None, use_idf=False,\n",
       "                                 vocabulary=None)),\n",
       "                ('classifier',\n",
       "                 MultinomialNB(alpha=0.001, class_prior=None,\n",
       "                               fit_prior=False))],\n",
       "         verbose=False)"
      ]
     },
     "execution_count": 237,
     "metadata": {},
     "output_type": "execute_result"
    }
   ],
   "source": [
    "mnb_clf_pipe = Pipeline([\n",
    "    ('vectorizer', TfidfVectorizer(max_df=best_param.get(\"vectorizer__max_df\"),\n",
    "                                   min_df=best_param.get(\"vectorizer__min_df\"),\n",
    "                                   norm=best_param.get(\"vectorizer__norm\"),\n",
    "                                   use_idf=best_param.get(\"vectorizer__use_idf\"),\n",
    "                                  )),\n",
    "    ('classifier', MultinomialNB(alpha=best_param.get(\"classifier__alpha\"),\n",
    "                                 fit_prior=best_param.get(\"classifier__fit_prior\"),\n",
    "                                )),\n",
    "])\n",
    "mnb_clf_pipe"
   ]
  },
  {
   "cell_type": "code",
   "execution_count": 242,
   "id": "f65ca2ff-c67f-4a5d-9946-d4322352f540",
   "metadata": {
    "execution": {
     "iopub.execute_input": "2022-01-26T22:43:16.302817Z",
     "iopub.status.busy": "2022-01-26T22:43:16.302483Z",
     "iopub.status.idle": "2022-01-26T22:43:17.292950Z",
     "shell.execute_reply": "2022-01-26T22:43:17.291899Z",
     "shell.execute_reply.started": "2022-01-26T22:43:16.302781Z"
    },
    "tags": []
   },
   "outputs": [],
   "source": [
    "y_train_pred = mnb_clf_pipe.fit(corpus, target).predict(corpus)"
   ]
  },
  {
   "cell_type": "code",
   "execution_count": 244,
   "id": "10fb42be-3a21-457e-9102-13aa5c9d5c98",
   "metadata": {
    "execution": {
     "iopub.execute_input": "2022-01-26T22:43:29.764503Z",
     "iopub.status.busy": "2022-01-26T22:43:29.764008Z",
     "iopub.status.idle": "2022-01-26T22:43:29.785595Z",
     "shell.execute_reply": "2022-01-26T22:43:29.784558Z",
     "shell.execute_reply.started": "2022-01-26T22:43:29.764429Z"
    },
    "tags": []
   },
   "outputs": [
    {
     "name": "stdout",
     "output_type": "stream",
     "text": [
      "              precision    recall  f1-score   support\n",
      "\n",
      "           0       1.00      1.00      1.00       480\n",
      "           1       0.99      1.00      1.00       584\n",
      "           2       1.00      0.99      0.99       594\n",
      "           3       1.00      0.99      0.99       599\n",
      "\n",
      "    accuracy                           1.00      2257\n",
      "   macro avg       1.00      1.00      1.00      2257\n",
      "weighted avg       1.00      1.00      1.00      2257\n",
      "\n"
     ]
    }
   ],
   "source": [
    "print(classification_report(target, y_train_pred))"
   ]
  },
  {
   "cell_type": "markdown",
   "id": "2778aa14-0699-48c0-8603-c8ecddb85319",
   "metadata": {},
   "source": [
    "#### Cross validate"
   ]
  },
  {
   "cell_type": "code",
   "execution_count": 257,
   "id": "7d89510b-d5c6-49d1-ae5d-7a54c0c69dfe",
   "metadata": {
    "execution": {
     "iopub.execute_input": "2022-01-26T22:45:36.356282Z",
     "iopub.status.busy": "2022-01-26T22:45:36.355804Z",
     "iopub.status.idle": "2022-01-26T22:45:38.502087Z",
     "shell.execute_reply": "2022-01-26T22:45:38.500947Z",
     "shell.execute_reply.started": "2022-01-26T22:45:36.356245Z"
    },
    "tags": []
   },
   "outputs": [],
   "source": [
    "cv_scores = cross_validate(\n",
    "            mnb_clf_pipe, corpus, target, scoring=[\"f1_weighted\", \"accuracy\"],\n",
    "            return_train_score=True, cv=skf, n_jobs=-1)"
   ]
  },
  {
   "cell_type": "code",
   "execution_count": 258,
   "id": "4671f2e9-a53b-4857-a655-158deae65ab8",
   "metadata": {
    "execution": {
     "iopub.execute_input": "2022-01-26T22:45:38.504505Z",
     "iopub.status.busy": "2022-01-26T22:45:38.503887Z",
     "iopub.status.idle": "2022-01-26T22:45:38.533923Z",
     "shell.execute_reply": "2022-01-26T22:45:38.532366Z",
     "shell.execute_reply.started": "2022-01-26T22:45:38.504449Z"
    },
    "tags": []
   },
   "outputs": [
    {
     "data": {
      "text/html": [
       "<div>\n",
       "<style scoped>\n",
       "    .dataframe tbody tr th:only-of-type {\n",
       "        vertical-align: middle;\n",
       "    }\n",
       "\n",
       "    .dataframe tbody tr th {\n",
       "        vertical-align: top;\n",
       "    }\n",
       "\n",
       "    .dataframe thead th {\n",
       "        text-align: right;\n",
       "    }\n",
       "</style>\n",
       "<table border=\"1\" class=\"dataframe\">\n",
       "  <thead>\n",
       "    <tr style=\"text-align: right;\">\n",
       "      <th></th>\n",
       "      <th>fit_time</th>\n",
       "      <th>score_time</th>\n",
       "      <th>test_f1_weighted</th>\n",
       "      <th>train_f1_weighted</th>\n",
       "      <th>test_accuracy</th>\n",
       "      <th>train_accuracy</th>\n",
       "    </tr>\n",
       "  </thead>\n",
       "  <tbody>\n",
       "    <tr>\n",
       "      <th>0</th>\n",
       "      <td>0.868076</td>\n",
       "      <td>0.133253</td>\n",
       "      <td>0.977830</td>\n",
       "      <td>0.997784</td>\n",
       "      <td>0.977876</td>\n",
       "      <td>0.997784</td>\n",
       "    </tr>\n",
       "    <tr>\n",
       "      <th>1</th>\n",
       "      <td>0.845692</td>\n",
       "      <td>0.143360</td>\n",
       "      <td>0.957827</td>\n",
       "      <td>0.997230</td>\n",
       "      <td>0.957965</td>\n",
       "      <td>0.997230</td>\n",
       "    </tr>\n",
       "    <tr>\n",
       "      <th>2</th>\n",
       "      <td>0.816650</td>\n",
       "      <td>0.139838</td>\n",
       "      <td>0.977748</td>\n",
       "      <td>0.997231</td>\n",
       "      <td>0.977827</td>\n",
       "      <td>0.997231</td>\n",
       "    </tr>\n",
       "    <tr>\n",
       "      <th>3</th>\n",
       "      <td>0.838765</td>\n",
       "      <td>0.120479</td>\n",
       "      <td>0.980043</td>\n",
       "      <td>0.998893</td>\n",
       "      <td>0.980044</td>\n",
       "      <td>0.998893</td>\n",
       "    </tr>\n",
       "    <tr>\n",
       "      <th>4</th>\n",
       "      <td>0.283354</td>\n",
       "      <td>0.059824</td>\n",
       "      <td>0.966714</td>\n",
       "      <td>0.997785</td>\n",
       "      <td>0.966741</td>\n",
       "      <td>0.997785</td>\n",
       "    </tr>\n",
       "  </tbody>\n",
       "</table>\n",
       "</div>"
      ],
      "text/plain": [
       "   fit_time  score_time  test_f1_weighted  train_f1_weighted  test_accuracy  \\\n",
       "0  0.868076    0.133253          0.977830           0.997784       0.977876   \n",
       "1  0.845692    0.143360          0.957827           0.997230       0.957965   \n",
       "2  0.816650    0.139838          0.977748           0.997231       0.977827   \n",
       "3  0.838765    0.120479          0.980043           0.998893       0.980044   \n",
       "4  0.283354    0.059824          0.966714           0.997785       0.966741   \n",
       "\n",
       "   train_accuracy  \n",
       "0        0.997784  \n",
       "1        0.997230  \n",
       "2        0.997231  \n",
       "3        0.998893  \n",
       "4        0.997785  "
      ]
     },
     "execution_count": 258,
     "metadata": {},
     "output_type": "execute_result"
    }
   ],
   "source": [
    "pd.DataFrame(cv_scores)"
   ]
  },
  {
   "cell_type": "markdown",
   "id": "99d1bd6a-7b3d-4365-b73e-5257a32f6ec4",
   "metadata": {},
   "source": []
  },
  {
   "cell_type": "code",
   "execution_count": null,
   "id": "a87346a6-19fc-489e-9e24-108b0ae6bde4",
   "metadata": {},
   "outputs": [],
   "source": []
  }
 ],
 "metadata": {
  "kernelspec": {
   "display_name": "Python 3",
   "language": "python",
   "name": "python3"
  },
  "language_info": {
   "codemirror_mode": {
    "name": "ipython",
    "version": 3
   },
   "file_extension": ".py",
   "mimetype": "text/x-python",
   "name": "python",
   "nbconvert_exporter": "python",
   "pygments_lexer": "ipython3",
   "version": "3.8.8"
  }
 },
 "nbformat": 4,
 "nbformat_minor": 5
}
