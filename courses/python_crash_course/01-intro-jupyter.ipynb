{
 "cells": [
  {
   "cell_type": "markdown",
   "id": "996e6fcc-39f2-4f0f-b8c5-7b65f6fe2751",
   "metadata": {},
   "source": [
    "Ce cours a été conçu pour introduire les notebooks jupyter.\n",
    "\n",
    "\n",
    "- **Auteur**: [Mously DIAW](https://www.linkedin.com/in/mously-diaw-58412192/)\n",
    "- **Last modification date** : 11/05/2023\n"
   ]
  },
  {
   "cell_type": "markdown",
   "id": "72496e7e-0e21-4bdb-ab4f-c4a1f1acbdd2",
   "metadata": {
    "jp-MarkdownHeadingCollapsed": true,
    "tags": []
   },
   "source": [
    "***\n",
    "# Introduction\n",
    "***\n",
    "\n",
    "Le Jupyter Notebook est un **environnement interactif** qui permet aux utilisateurs de créer des documents, appelés notebook, qui incluent :\n",
    "\n",
    "    - Du code en direct\n",
    "    - des widgets interactifs\n",
    "    - Des gaphiques\n",
    "    - Texte narratif\n",
    "    - des équations, des images, des vidéos, ...\n",
    "    - Le langage de votre choix : Jupyter prend en charge plus de 40 langages de programmation, dont Python, R, Julia et Scala.\n",
    "    - Sortie interactive : Votre code peut produire des sorties riches et interactives : HTML, images, vidéos, LaTeX et types MIME personnalisés.\n",
    "    - Intégration des big data : tirez parti des outils de big data, tels qu'Apache Spark, à partir de Python, R et Scala. Exploitez ces mêmes données avec pandas, scikit-learn, ggplot2 et TensorFlow.\n",
    "    \n",
    "C'est un logiciel libres (open source) et des services Web pour l'informatique interactive dans presque tous les langages de programmation\n",
    "\n",
    "\n",
    "Ces documents fournissent un **enregistrement complet et autonome d'un calcul** qui peut être <br>\n",
    "convertis en différents formats (html, pdf, .py, LaTeX, ...) et partagés avec d'autres en utilisant le courrier électronique, Dropbox, les systèmes de contrôle de version (comme git/GitHub) ou nbviewer.jupyter.org.\n",
    "\n",
    "Un grand avantage de `Jupyter Notebook` est qu'il vous permet de combiner à la fois des cellules de `code` (par exemple Python), `Markdown` et `Raw` dans un seul document, de sorte que vous pouvez facilement documenter vos flux de travail.\n",
    "\n",
    "Un fichier `Jupyter Notebook` utilise des cellules pour organiser le contenu, et il peut contenir à la fois des cellules qui rendent du texte écrit en utilisant la syntaxe `Markdown` ainsi que des cellules qui contiennent et exécutent du code (ex: `Python`).\n",
    "Ainsi, vous pouvez utiliser une combinaison de cellules `Markdown` et `Code Python` pour organiser et documenter votre Notebook Jupyter afin que d'autres puissent facilement lire et suivre votre flux de travail.\n",
    "Les documents notebook ont l'(extention `.ipynb`\n",
    "\n",
    "\n",
    "Voir le [guide d'installation](https://docs.jupyter.org/en/latest/install.html#installhttps://docs.jupyter.org/en/latest/install.html#install) pour savoir comment installer le notebook et ses dépendances."
   ]
  },
  {
   "cell_type": "markdown",
   "id": "bf572f1d-f952-4ca6-8195-11dd2a185a24",
   "metadata": {},
   "source": [
    "**Les avantages d'un notebook pour la science des données (data science)**\n",
    "\n",
    "Pouvoir inclure à la fois des cellules Markdown et des cellules de code (par exemple, Python) dans un fichier, jupyter notebook prend en charge la science reproductible en vous permettant de :\n",
    "\n",
    "- Documentez votre flux de travail : vous pouvez ajouter du texte au document qui décrit les étapes de votre flux de travail de traitement <br>(par exemple, comment les données sont traitées et quels résultats sont produits).\n",
    "- Décrivez vos données : vous pouvez décrire les données que vous utilisez (par exemple, source, prétraitement, métadonnées).\n",
    "- Interpréter les sorties de code : vous pouvez ajouter du texte qui interprète ou discute des sorties.\n",
    "\n",
    "**TOUT DANS UN SEUL DOCUMENT !**\n",
    "\n",
    "Lorsqu'elle est utilisée efficacement, la documentation Markdown peut aider toute personne qui ouvre votre Jupyter Notebook à suivre, comprendre et même reproduire votre flux de travail."
   ]
  },
  {
   "cell_type": "markdown",
   "id": "174a14e6-47f0-4ee5-b47e-2872f8c5cba6",
   "metadata": {},
   "source": [
    "# Installation de Jupyter"
   ]
  },
  {
   "cell_type": "markdown",
   "id": "6e948874-3ff6-44dc-a097-2fcefa1253f0",
   "metadata": {},
   "source": [
    "Les outils du projet Jupyter peuvent être installés via le [Python Package Index] (https://pypi.org/), le principal référentiel de logiciels créés pour le langage de programmation Python.\n",
    "\n",
    "L'[outil d'installation recommandé](https://packaging.python.org/en/latest/guides/tool-recommendations/#installation-tool-recommendations) pour Python est [pip](https://pip.pypa.io/en/stable/). Si vous avez besoin d'une gestion de l'environnement plutôt que d'une simple installation, consultez [conda](https://docs.conda.io/en/latest/), [mamba](https://mamba.readthedocs.io/en/latest/) ou [pipenv](https://pipenv.pypa.io/en/latest/).\n",
    "\n",
    "\n",
    "## JupyterLab\n",
    "\n",
    "JupyterLab est le dernier environnement de développement interactif basé sur le web pour les notebooks, le code et les données.<br>Son interface flexible permet aux utilisateurs de configurer et d'organiser les flux de travail dans la science des données, le calcul scientifique, le journalisme informatique et l'apprentissage automatique.<br>Une conception modulaire invite les extensions à étendre et à enrichir les fonctionnalités.\n",
    "\n",
    "Installez JupyterLab avec pip : `pip install jupyterlab` ou avec conda ``conda install jupyterlab`\n",
    "\n",
    "**Note** : Si vous installez JupyterLab avec conda ou mamba, nous vous recommandons d'utiliser le *[canal conda-forge](https://conda-forge.org/)*.\n",
    "\n",
    "Une fois installé, lancez JupyterLab avec : `jupyter lab`\n",
    "\n",
    "\n",
    "## Jupyter Notebook\n",
    "\n",
    "Le Notebook Jupyter est l'application web originale pour la création et le partage de documents informatiques.<br>Il offre une expérience simple, rationalisée et centrée sur le document.\n",
    "Installez le Notebook Jupyter classique avec : `pip install notebook` ou `conda install notebook`\n",
    "\n",
    "Pour lancer le notebook : `jupyter notebook`\n",
    "\n",
    "\n",
    "Une fois le notebook lancé via votre terminal, cela imprimera des informations sur le serveur dans votre console et ouvrira un navigateur Web à l'URL de l'application Web (par défaut, `http://127.0.0.1:8888`).\n",
    "\n",
    "La page d'accueil de l'application Web de notebook Jupyter, le **tableau de bord (dashbord)**, affiche les éléments actuellement disponibles dans le répertoire (par défaut, le dossier à partir duquel le serveur de notebook a été démarré).\n",
    "\n",
    "Vous pouvez créer de nouveaux notebooks à partir du tableau de bord avec le bouton \"Nouveau ou New\" ou ouvrir ceux qui existent déjà en cliquant sur leur nom. Vous pouvez également faire glisser et déposer des notebooks `.ipynb` et des fichiers de code source Python standard `.py` dans la zone de liste des notebooks.\n",
    "\n",
    "Lors du démarrage d'un serveur de notebook à partir de la ligne de commande, vous pouvez également ouvrir directement un notebook particulier, en contournant le tableau de bord, avec `jupyter notebook my_notebook.ipynb`. L'extension `.ipynb` est supposée si aucune extension n'est donnée.\n",
    "\n",
    "\n",
    "<br><br>**Remarques** :<br>\n",
    "Vous pouvez démarrer plusieurs serveurs de notebooks en même temps si vous souhaitez travailler sur des notebooks dans des répertoires différents.<br>\n",
    "Par défaut, le premier serveur de notebook démarre sur le port 8888, et les serveurs de notebooks ultérieurs recherchent des ports proches de celui-ci.<br>\n",
    "Vous pouvez également spécifier manuellement le port avec l'option `--port`."
   ]
  },
  {
   "cell_type": "markdown",
   "id": "1d71d406-e11a-4758-aa0f-409136b366dc",
   "metadata": {},
   "source": [
    "# Notebooks et confidentialité"
   ]
  },
  {
   "cell_type": "markdown",
   "id": "6dba5115-9c7c-419d-923c-88e9f5793182",
   "metadata": {},
   "source": [
    "Étant donné que vous utilisez Jupyter dans un navigateur Web, certaines personnes sont naturellement préoccupées par son utilisation avec des données sensibles.<br>Cependant, si vous avez suivi les [instructions d'installation] standard (https://docs.jupyter.org/en/latest/ install.html), Jupyter s'exécute en fait sur votre propre ordinateur.<br>Si l'URL dans la barre d'adresse commence par `http://localhost:` ou `http://127.0.0.1:`, c'est votre ordinateur qui agit en tant que serveur.<br>Jupyter n'envoie vos données nulle part ailleurs et comme il s'agit d'une solution ouverte (open source), d'autres personnes peuvent vérifier que nous sommes honnêtes à ce sujet (donc pas de transfert ou de récupération des données).\n",
    "\n",
    "Vous pouvez également utiliser Jupyter à distance : votre entreprise ou votre université peut, par exemple, gérer le serveur pour vous. Si vous souhaitez travailler avec des données sensibles dans ces cas, parlez-en à votre personnel informatique ou de protection des données.\n",
    "\n",
    "L'objectif est de garantir que d'autres pages de votre navigateur ou d'autres utilisateurs sur le même ordinateur ne puissent pas accéder à votre serveur portable. Voir [Security in the Jupyter notebook server](https://jupyter-notebook.readthedocs.io/en/stable/security.html#server-security) pour en savoir plus à ce sujet."
   ]
  },
  {
   "cell_type": "markdown",
   "id": "9108c4fc-0fa7-425f-956f-9d679fbbd2b6",
   "metadata": {},
   "source": [
    "# Composants d'un notebook"
   ]
  },
  {
   "cell_type": "markdown",
   "id": "6dff1ac3-56c7-41d7-b5d3-7826148405c9",
   "metadata": {},
   "source": [
    "Le Jupyter Notebook combine trois composants :\n",
    "\n",
    "- **L'application Web** : une application Web interactive permettant d'écrire et d'exécuter du code de manière interactive et de créer des documents notebooks.\n",
    "\n",
    "- **Noyaux (kernels)** : processus distincts lancés par l'application Web qui exécute le code des utilisateurs dans un language donné et renvoie la sortie à <br>l'application Web de notebook. Le noyau gère également des choses comme les calculs pour les widgets interactifs, l'achèvement des onglets et l'introspection.\n",
    "\n",
    "- **Documents (notebook)** : documents autonomes qui contiennent une représentation de tout le contenu visible dans l'application Web de notebook, <br>y compris les entrées et les sorties des calculs, le texte narratif, les équations, les images et les représentations multimédia enrichies d'objets. Les notebooks sont simplement des <br>fichiers sur votre système de fichiers local ou dans un serveur avec une extension `.ipynb`."
   ]
  },
  {
   "cell_type": "markdown",
   "id": "06d9b33f-dc3c-4bd1-b338-1fdf2ebd43f3",
   "metadata": {},
   "source": [
    "# Notebook: application web"
   ]
  },
  {
   "cell_type": "markdown",
   "id": "2c744372-58fc-4828-b253-4b3fdef6098e",
   "metadata": {},
   "source": [
    "L'application web notebook permet aux utilisateurs de :\n",
    "\n",
    "    - Editer du code dans le navigateur, avec mise en évidence automatique de la syntaxe, indentation et complétion/introspection des tabulations.\n",
    "    - Exécuter du code à partir du navigateur, avec les résultats des calculs attachés au code qui les a générés.\n",
    "    - Voir les résultats des calculs avec des représentations multimédias, telles que HTML, LaTeX, PNG, SVG, PDF, etc.\n",
    "    - Créer et utiliser des widgets JavaScript interactifs, qui lient des contrôles d'interface utilisateur interactifs et des visualisations.\n",
    "    - Rédiger des textes narratifs à l'aide du langage de balisage Markdown.\n",
    "    - Inclure des équations mathématiques en utilisant la syntaxe LaTeX dans Markdown."
   ]
  },
  {
   "cell_type": "markdown",
   "id": "aefe90be-02c4-4cb8-94bf-443f8f555324",
   "metadata": {},
   "source": [
    "# Kernels"
   ]
  },
  {
   "cell_type": "markdown",
   "id": "5a76dff6-2663-4951-a9cc-255f8901d316",
   "metadata": {},
   "source": [
    "Grâce au noyau (kernel) et à l'architecture de messagerie de Jupyter, le Notebook permet d'exécuter du code dans une gamme de langages de programmation différents. Pour chaque notebook qu'un utilisateur ouvre, l'application Web démarre un noyau qui exécute le code de ce notebook. Chaque noyau est capable d'exécuter du code dans un seul langage de programmation et des noyaux sont disponibles dans les langages suivants :\n",
    "\n",
    "    - Python (https://github.com/ipython/ipython)\n",
    "\n",
    "    - Julia (https://github.com/JuliaLang/IJulia.jl)\n",
    "\n",
    "    - R (https://github.com/IRkernel/IRkernel)\n",
    "\n",
    "    - Ruby (https://github.com/minrk/iruby)\n",
    "\n",
    "    - Scala (https://github.com/Bridgewater/scala-notebook)\n",
    "\n",
    "    - node.js (https://gist.github.com/Carreau/4279371)\n",
    "\n",
    "    - Go (https://github.com/takluyver/igo)\n",
    "\n",
    "Le noyau par défaut exécute du code Python. Le bloc-notes offre aux utilisateurs un moyen simple de choisir lequel de ces noyaux est utilisé pour un bloc-notes donné.\n",
    "\n",
    "Chacun de ces noyaux communique avec l'application Web (jupyter) et le navigateur Web à l'aide d'un protocole de message JSONdécrit [ici]((https://en.wikipedia.org/wiki/JSON)). La plupart des utilisateurs n'ont pas besoin de connaître ces détails, mais cela aide à comprendre que \"les noyaux exécutent du code\"."
   ]
  },
  {
   "cell_type": "markdown",
   "id": "b5bd84b3-2724-480e-bbef-f60b8a3251ee",
   "metadata": {},
   "source": [
    "# Documents: notebook"
   ]
  },
  {
   "cell_type": "markdown",
   "id": "25f408c4-2e09-4ad2-882e-f1072bca0530",
   "metadata": {},
   "source": [
    "Les documents Notebook contiennent les **entrées et sorties** d'une session interactive ainsi que le <br> **texte narratif** qui accompagne le code mais n'est pas destiné à l'exécution.\n",
    "La **sortie enrichie** générée par l'exécution de code <br>, y compris le code HTML, les images, la vidéo et les graphiques, est intégrée dans le notebook, ce qui en fait un enregistrement <br>complet et autonome d'un calcul.\n",
    "\n",
    "Lorsque vous exécutez l'application Web de jupyter notebook sur votre ordinateur, les documents ne sont que des <br>**fichiers sur votre système de fichiers local** avec une extension `.ipynb`. Cela vous permet d'utiliser des flux de travail familiers pour <br>organiser vos notebooks dans des dossiers et de les partager avec d'autres.\n",
    "\n",
    "Les notebooks consistent en une **séquence linéaire de cellules**. Il existe trois types de cellules de base :\n",
    "\n",
    "- **Cellules de code** : entrée et sortie de code en direct exécuté dans le noyau\n",
    "- **Cellules Markdown** : texte narratif avec équations LaTeX intégrées\n",
    "- **Cellules brutes** : texte non formaté inclus, sans modification, lorsque les blocs-notes sont convertis en différents formats à l'aide de nbconvert\n",
    "\n",
    "En interne, les notebooks sont **données** [JSON](https://en.wikipedia.org/wiki/JSON) avec des **valeurs binaires** [base64](https://en.wikipedia.org/wiki /Base64) encodés.<br>\n",
    "Cela leur permet d'être ** lus et manipulés par programme ** par n'importe quel langage de programmation.<br>\n",
    "Étant donné que JSON est un format texte, les notebooks sont compatibles avec le contrôle de version.\n",
    "\n",
    "**Les notebooks peuvent être exportés** vers différents formats statiques, y compris HTML, reStructeredText, LaTeX, PDF, <br>et diaporamas [(reveal.js](https://revealjs.com/)) à l'aide de l'utilitaire `nbconvert` de Jupyter .\n",
    "\n",
    "De plus, tout notebook disponible à partir d'une **URL publique ou sur GitHub peut être partagé** via [nbviewer](https://nbviewer.org/).<br>\n",
    "Ce service charge le document à partir de l'URL et le restitue sous la forme d'une page Web statique.<br>\n",
    "La page Web résultante peut ainsi être partagée avec d'autres ** sans qu'ils aient besoin d'installer le Jupyter Notebook **."
   ]
  },
  {
   "cell_type": "markdown",
   "id": "1284faa8-5512-45b1-9e6b-a12e0baa0372",
   "metadata": {},
   "source": [
    "# Notebook: les principes de base"
   ]
  },
  {
   "cell_type": "markdown",
   "id": "06f5d5de-b07d-427c-a7c1-7d3b3a2f5b01",
   "metadata": {},
   "source": [
    "### Interface UI\n",
    "\n",
    "*UI: User Interface*"
   ]
  },
  {
   "cell_type": "markdown",
   "id": "c2af672e-b30f-4f43-ae21-1ec8901c33f4",
   "metadata": {},
   "source": [
    "#### Jupyter notebook"
   ]
  },
  {
   "cell_type": "markdown",
   "id": "1f59c77a-9488-4ed0-a60e-50e7554ee733",
   "metadata": {
    "execution": {
     "iopub.execute_input": "2023-05-05T08:03:34.940621Z",
     "iopub.status.busy": "2023-05-05T08:03:34.939624Z",
     "iopub.status.idle": "2023-05-05T08:03:34.977507Z",
     "shell.execute_reply": "2023-05-05T08:03:34.976008Z",
     "shell.execute_reply.started": "2023-05-05T08:03:34.940621Z"
    }
   },
   "source": [
    "Les notebooks Jupyter sont des documents qui combinent du code exécutable en direct avec du texte narratif (Markdown), des équations (LaTeX), des images, des visualisations interactives et d'autres sorties riches.\n",
    "\n",
    "\n",
    "**Lançons jupyter notebook**: `jupyter notebook` ou `jupyter notebook --port 8890` via le console ou le navigateur d'anaconda (Anaconda Prompt)<br><br>\n",
    "\n",
    "Vous devriez voir apparaître du texte dans votre terminal :\n",
    "\n",
    "<img src=\"images/lancer-jupyter-notebook.png\" width=\"1200\">\n",
    "\n",
    "**Remarques**: le notebook s'est lancé sur le port 8889 car j'avais déjà un jupyter lab qui a été lancé en premier sur mon ordinateur. Il s'agit des détails sur le serveur qui s'exécute sur votre machine - il gère essentiellement toutes les communications entre votre navigateur et votre machine.\n",
    "\n",
    "Une nouvelle fenêtre ou un nouvel onglet devrait s'ouvrir dans votre navigateur Web, qui ressemble à un explorateur de fichiers.\n",
    "\n",
    "<img src=\"images/dashboard-jupyter-notebook.png\" width=\"1000\">\n",
    "\n",
    "Vous pouvez l'utiliser pour entrer dans des sous-répertoires et ouvrir tous les notebooks que vous avez enregistrés. Vous devrez utiliser cet explorateur de fichiers chaque fois que vous souhaitez ouvrir un notebook Jupyter, ancien ou nouveau. Dans le coin supérieur droit de cette fenêtre, cliquez sur le menu déroulant intitulé \"New\", et sélectionnez le language pour créer un notebook (ex: Python 3).\n",
    "\n",
    "<img src=\"https://jupyter-notebook.readthedocs.io/en/stable/_images/dashboard_files_tab_new.png\" width=\"300\">\n",
    "\n",
    "Un nouvel onglet s'ouvrira dans votre navigateur, révélant un \"notebook Jupyter\" avec le préfixe `Untitled` fonctionnant avec un kernel Python 3. En cliquant sur Fichier > Renommer dans le notebook, vous pourrez le renommer. `.ipynb` est le suffixe (extension) de type de fichier utilisé pour les notebooks Jupyter.\n",
    "\n",
    "Lorsque vous créez un notebook, le nom du notebook, une barre de menu, une barre d'outils et une cellule de code vide s'affichent.\n",
    "\n",
    "<img src=\"images/jupyter_create_newnotebook.png\" width=\"1200\">\n",
    "\n",
    "L'interface utilisateur du notebook comporte les zones principales (Menu,  Barre d'outils, ...).\n",
    "\n",
    "Le notebook propose une visite interactive de ces éléments qui peut être démarrée via l'onglet du menu \"Help\" ou \"Aide\".\n",
    "\n",
    "\n",
    "Les notebooks et les fichiers peuvent être téléchargés dans le répertoire.\n",
    "\n",
    "Les notebooks restent en cours d'exécution jusqu'à ce que vous les arrrêtiez explicitement ; fermer la page du notebook n'est pas suffisant.\n",
    "\n",
    "Pour arrêter, supprimer, dupliquer ou renommer un notebook, cochez la case à côté de celui-ci et un tableau de commandes apparaîtra en haut de la liste (comme indiqué ci-dessous).\n",
    "Vous pouvez également utiliser les mêmes opérations sur les répertoires et les fichiers, le cas échéant.\n",
    "\n",
    "![arrêt](https://jupyter-notebook.readthedocs.io/en/stable/_images/dashboard_files_tab_btns.png)\n",
    "\n",
    "Pour voir tous vos notebooks en cours d'exécution ainsi que leurs répertoires, cliquez sur l'onglet \"Running\" :\n",
    "\n",
    "<img src=\"https://jupyter-notebook.readthedocs.io/en/stable/_images/dashboard_running_tab.png\" width=\"800\">\n",
    "Cette vue offre un moyen pratique de suivre les notebooks que vous démarrez lorsque vous naviguez dans le système de fichiers.\n"
   ]
  },
  {
   "cell_type": "markdown",
   "id": "0b1ed20f-c418-4ba9-92fd-07b48775dd2b",
   "metadata": {},
   "source": [
    "##### Mode d'édition et mode rendu"
   ]
  },
  {
   "cell_type": "markdown",
   "id": "dd32db90-6bc4-47ca-bfc1-7ba7a9eb6a59",
   "metadata": {},
   "source": [
    "Une fois que vous avez cliqué sur une cellule pour la sélectionner, vous pouvez interagir avec elle de deux manières, appelées modes.\n",
    "\n",
    "<br>**Mode édition:**\n",
    "\n",
    "- Nous entrons en mode d'édition en appuyant sur la touche «Entrée» ou en double-cliquant sur la cellule.\n",
    "- Nous savons que nous sommes dans ce mode lorsque nous voyons une bordure de cellule `verte` à gauche et une invite dans la zone de cellule.\n",
    "- Lorsque nous sommes en mode édition, nous pouvons taper dans la cellule, comme dans un éditeur de texte normal.\n",
    "\n",
    "<br>**Mode rendu:**\n",
    "\n",
    "- Nous entrons en mode rendu en appuyant sur «Echap» ou en cliquant en dehors de la zone de cellule.\n",
    "- Nous savons que nous sommes dans ce mode lorsque nous voyons une bordure de cellule `bleue` à gauche.\n",
    "- Dans ce mode, le texte apparait formatté."
   ]
  },
  {
   "cell_type": "markdown",
   "id": "26d78bc1-51ef-4bfc-b735-86d55cbfc651",
   "metadata": {},
   "source": [
    "#### JupyterLab"
   ]
  },
  {
   "cell_type": "markdown",
   "id": "6fd4eef9-d5f1-4287-b958-ecbb58b55b28",
   "metadata": {},
   "source": [
    "**Lançons jupyter lab**: `jupyter lab` ou `jupyter lab --port 8900` via le console ou le navigateur d'anaconda (Anaconda Prompt) <br><br>\n",
    "\n",
    "<img src=\"images/lancer-jupyter-lab.png\" width=\"1200\">\n",
    "\n",
    "Une nouvelle fenêtre ou un nouvel onglet devrait s'ouvrir dans votre navigateur Web, qui ressemble à un explorateur de fichiers.\n",
    "\n",
    "<img src=\"images/dashboard-jupyter-lab.png\" width=\"1000\">\n",
    "\n",
    "\n",
    "Comme on le voit ici, cette interface vous permet de lancer des notebooks pour de multiples langages mais aussi d’ouvrir des consoles ou n’importe quel type de fichiers en utilisant le navigateur à gauche.\n",
    "\n",
    "<img src=\"https://jupyterlab.readthedocs.io/en/stable/_images/jupyterlab.png\" width=\"1000\">\n",
    "\n",
    "\n",
    "Voici quelques points importants qui différencient Jupyter notebook et JupyterLab.\n",
    "\n",
    "- Fondamentalement, Jupyterlab est l'interface utilisateur de nouvelle génération pour l'exécution et l'édition de notebook, tout comme le notebook Jupyter.\n",
    "- Jupyterlab est plus avancé et offre plus de fonctionnalités que Jupyter.\n",
    "- Il possède une structure modulaire qui vous permet de créer et d'exécuter plusieurs documents dans différents onglets de la même fenêtre.<br> JupyterLab s'exécute dans un seul onglet, avec des sous-onglets affichés dans cette fenêtre, tandis que Jupyter Notebook ouvre des onglets différents dans votre navigateur web.\n",
    "- Il donne l'impression d'une expérience similaire à celle d'un [IDE](https://realpython.com/python-ides-code-editors-guide/#:~:text=An%20IDE%20(or%20Integrated%20Development,syntax%20highlighting%20and%20auto%2Dcompletion) (Integrated Development Environment)\n",
    "\n",
    "\n",
    "JupyterLab est en constante évolution mais apparaît aujourd'hui comme une solution de développement complètement open source parfaitement adaptée au data scientist et à ses besoins.\n",
    "\n",
    "**Un seul conseil : Testez-le**\n",
    "\n",
    "\n",
    "**Barre latérale gauche**\n",
    "La barre latérale gauche contient un certain nombre d'onglets couramment utilisés :\n",
    "\n",
    "- un navigateur de fichiers,\n",
    "- une liste des onglets ouverts, des noyaux et terminaux en cours d'exécution,\n",
    "- la table des matières,\n",
    "- le responsable des extensions.\n",
    "\n",
    "<img alt=\"The left JupyterLab sidebar showing a variety of files in the file browser.\" src=\"images/jupyterlab-barre-gauche.png\" width=\"300\">\n",
    "\n",
    "\n",
    "\n",
    "**Barre latérale droite**\n",
    "La barre latérale droite contient :\n",
    "\n",
    "- l'inspecteur de propriétés,\n",
    "- le débogueur.\n",
    "\n",
    "<img alt=\"The left JupyterLab sidebar showing a variety of files in the file browser.\" src=\"https://jupyterlab.readthedocs.io/en/stable/_images/interface_right.png\" width=\"300\">\n",
    "\n",
    "\n",
    "La colonne qui permet de passer d'un onglet à l'autre est appelée barre d'activité dans JupyterLab.\n",
    "\n",
    "Les barres latérales peuvent être réduites ou développées en sélectionnant \"Show Left Sidebar\" ou \"Show Right Sidebar\" dans le menu View ou en cliquant sur l'onglet actif de la barre latérale :\n",
    "\n",
    "**Remarques**: vous pouvez consulter ce [lien](https://jupyterlab.readthedocs.io/en/stable/user/interface.html) pour plus de détails"
   ]
  },
  {
   "attachments": {
    "b32d4487-9fec-46d3-b966-78e723f0087f.png": {
     "image/png": "[encoded data removed]"
    }
   },
   "cell_type": "markdown",
   "id": "a545f7b3-c48a-4310-ae31-cdcb6c8d300a",
   "metadata": {},
   "source": [
    "Edit mode is indicated by a green/blue cell border and a prompt showing in the editor area:\n",
    "\n",
    "<img src=\"attachment:b32d4487-9fec-46d3-b966-78e723f0087f.png\" width=\"1500\">\n",
    "\n",
    "When a cell is in edit mode, you can type into the cell, like a normal text editor.\n",
    "\n",
    "Enter edit mode by pressing `Shift+Enter` or using the `mouse to click` on a cell’s editor area."
   ]
  },
  {
   "cell_type": "markdown",
   "id": "99b2bf95-3bff-45e4-9f93-d829315be69c",
   "metadata": {},
   "source": [
    "#### Anaconda Prompt: lancer un notebook\n",
    "\n",
    "Vous pouvez également lancer votre notebook via [Anaconda](https://www.anaconda.com/distribution/) Prompt:\n",
    "\n",
    "![anaconda-prompt](https://docs.anaconda.com/_images/nav-tabs.png)\n",
    "\n",
    "Anaconda Navigator est une interface graphique de bureau (GUI) incluse dans Anaconda qui vous permet de lancer des applications et de gérer les paquets conda, les environnements et les canaux sans utiliser les commandes de l'interface de ligne de commande (CLI)."
   ]
  },
  {
   "cell_type": "markdown",
   "id": "40b43f4e-4ba0-4593-9df2-ee0bed107481",
   "metadata": {
    "jp-MarkdownHeadingCollapsed": true,
    "tags": []
   },
   "source": [
    "### Navigation avec la souris\n",
    "\n",
    "Toutes les navigations et actions dans le Notebook sont disponibles à l'aide de la souris via la barre de menus et la barre d'outils, qui se trouvent toutes deux au-dessus de la zone principale du Notebook :\n",
    "\n",
    "<img src=\"https://jupyter-notebook.readthedocs.io/en/stable/_images/menubar_toolbar.png\" width=\"800\">\n"
   ]
  },
  {
   "cell_type": "markdown",
   "id": "3476817b-5d00-4ec7-8b32-001b36b3eb29",
   "metadata": {},
   "source": [
    "### Raccourcis clavier"
   ]
  },
  {
   "cell_type": "markdown",
   "id": "a18ba2c4-104d-4f45-a3b5-2e84a502c32f",
   "metadata": {},
   "source": [
    "L'interface utilisateur de Jupyter a été optimisée pour une utilisation efficace du clavier. <br>\n",
    "Ceci est rendu possible en ayant deux ensembles différents de raccourcis clavier : un ensemble qui est actif en mode édition et un autre en mode commande.\n",
    "Voici quelques exemples:\n",
    "\n",
    "- `Flèche vers le haut/Flèche vers le bas` : Naviguer entre les cellules\n",
    "- `A` : insère une nouvelle cellule au-dessus de la cellule actuelle.\n",
    "- 'B' : insère une nouvelle cellule sous la cellule actuelle.\n",
    "- 'C' : copie la cellule sélectionnée.\n",
    "- 'V' : collez la cellule copiée sous la cellule actuelle.\n",
    "- `D` : Supprimer la cellule sélectionnée.\n",
    "- 'Z' : annule la dernière opération de cellule.\n",
    "- 'M' : convertit la cellule sélectionnée en cellule de démarquage.\n",
    "- 'Y' : convertit la cellule sélectionnée en cellule de code.\n",
    "- `Shift` + `Flèche vers le haut/Flèche vers le bas` : sélectionnez plusieurs cellules.\n",
    "- `Ctrl` + `Shift` + `-` : Divise la cellule courante au niveau du curseur.\n",
    "- `Ctrl` + `Shift` + `Minus` : Divise la cellule courante au niveau du curseur.\n",
    "- `Maj` + `M` : Fusionner les cellules sélectionnées.\n",
    "- `Ctrl` + `Shift` + `P` : Ouvre la palette de commandes.\n",
    "- `Maj` + `Entrée` : Exécute la cellule courante et déplace le curseur vers la cellule suivante.\n",
    "- `Ctrl` + `Entrée` : Exécute la cellule courante sans déplacer le curseur.\n",
    "\n",
    "Plus de détails peuvent être trouvés [ici](https://mljar.com/blog/jupyter-notebook-shortcuts/)"
   ]
  },
  {
   "cell_type": "markdown",
   "id": "cc58009a-acfc-47df-867c-6cf385f41d59",
   "metadata": {},
   "source": [
    "# Code"
   ]
  },
  {
   "cell_type": "markdown",
   "id": "eb3fb7af-07fb-48f1-ac4a-42ee604e0a9e",
   "metadata": {},
   "source": [
    "## Définition"
   ]
  },
  {
   "cell_type": "markdown",
   "id": "fe6a3523-13f3-4dcb-8799-6069a59f04df",
   "metadata": {},
   "source": [
    "Une cellule de code vous permet de modifier et d'écrire un nouveau code, avec une coloration syntaxique complète et une complétion de tabulation. Le langage de programmation que vous utilisez dépend du noyau et le noyau par défaut (IPython) exécute le code Python.\n",
    "\n",
    "Il existe plusieurs options pour exécuter une cellule de code parmi lesquelles vous avez:\n",
    "\n",
    "* `Shift+Enter`: exécuter la ou les cellules sélectionnés (s)\n",
    "* `Alt-Enter` exécuter la cellule courante et en insérer une nouvelle en dessous.\n",
    "* `Ctrl-Enter` exécute la cellule courante et n'avance pas.\n",
    "* ou utiliser la bare d'outils\n",
    "\n",
    "Lorsqu'une cellule de code est exécutée, le code qu'elle contient est envoyé au noyau associé au carnet.<br><br>\n",
    "Les résultats de ce calcul sont ensuite affichés dans le carnet en tant que sortie de la cellule.<br>\n",
    "La sortie n'est pas limitée au texte, de nombreuses autres formes de sortie étant également possibles, y compris les figures matplotlib et les tableaux HTML (tels qu'utilisés, par exemple, dans pandas). C'est ce qu'on appelle la capacité d'affichage riche d'IPython.\n",
    "\n",
    "Lorsque vous écrivez du code Python, la saisie de certaines chaînes, par exemple from ou le signe égal (=), indique au notebook de les colorier ou de les mettre en surbrillance pour plus de clarté. Les lignes de codes commençant par le signe dièse (#) sont interprétées comme des commentaires, colorées en vert et mises en italique. Elles ne sont pas exécutées comme du code par le notebook."
   ]
  },
  {
   "cell_type": "code",
   "execution_count": null,
   "id": "3b45fe84-1243-404a-99f5-8d5f6b4a6667",
   "metadata": {},
   "outputs": [],
   "source": [
    "# ceci est un commentaire\n",
    "nom_prenom = \"Mme DIAW\""
   ]
  },
  {
   "cell_type": "markdown",
   "id": "d76b1e8e-de07-450f-b5ac-121ff8f9c44b",
   "metadata": {},
   "source": [
    "## Comment créer une nouvelle cellule ?"
   ]
  },
  {
   "cell_type": "markdown",
   "id": "27de8b8b-055e-4847-8ed2-636f5ea349d5",
   "metadata": {
    "execution": {
     "iopub.execute_input": "2023-05-05T10:18:51.284688Z",
     "iopub.status.busy": "2023-05-05T10:18:51.284688Z",
     "iopub.status.idle": "2023-05-05T10:18:51.295682Z",
     "shell.execute_reply": "2023-05-05T10:18:51.294733Z",
     "shell.execute_reply.started": "2023-05-05T10:18:51.284688Z"
    },
    "tags": []
   },
   "source": [
    "Pour créer une nouvelle cellule, vous avez plusieurs possibilités :\n",
    "\n",
    "1- Cliquer sur l’icône + sous la barre de menu.<br>\n",
    "2- Cliquer sur le menu Insert, puis Insert Cell Below (par exemple).<br>\n",
    "3- si vous avez déjà créés dans cellules, vous pouvez faire un clic à gauche de la cellule puis appuyer sur la touche:<br>\n",
    " * `A` pour insérer une nouvelle cellule au dessus\n",
    " * `B` pour insérer une nouvelle cellule en dessous\n",
    " \n",
    "Par défaut, les nouvelles cellules créées sont au formet `code`\n",
    "\n",
    "Pour changer le type d'une cellule vous pouvez utiliser la barre de menu ou cliquer sur la barre latérale de la cellule et appuyer sur `Y` pour revenir au format `code`"
   ]
  },
  {
   "cell_type": "markdown",
   "id": "9e17629d-4534-4200-be36-b7dd8d8d184b",
   "metadata": {},
   "source": [
    "## Menu d'exécution"
   ]
  },
  {
   "cell_type": "markdown",
   "id": "0e0bb95e-f047-4ab5-8ec2-101e3b646f5d",
   "metadata": {
    "execution": {
     "iopub.execute_input": "2023-05-04T12:18:01.841141Z",
     "iopub.status.busy": "2023-05-04T12:18:01.840144Z",
     "iopub.status.idle": "2023-05-04T12:18:01.851231Z",
     "shell.execute_reply": "2023-05-04T12:18:01.851208Z",
     "shell.execute_reply.started": "2023-05-04T12:18:01.841141Z"
    }
   },
   "source": [
    "Le menu \"Run\" comporte un certain nombre d'éléments permettant d'exécuter du code de différentes manières. Ceux-ci incluent :\n",
    "\n",
    "* Exécutez et sélectionnez ci-dessous\n",
    "* Exécuter et insérer ci-dessous\n",
    "* Exécuter tout\n",
    "* Exécuter tout ci-dessus\n",
    "* Exécutez la cellule sélectionnée et tout ci-dessous\n"
   ]
  },
  {
   "cell_type": "markdown",
   "id": "8ecb767c-cdf0-4f6d-9b2f-c23108591e40",
   "metadata": {},
   "source": [
    "## Redémarrer le kernel\n",
    "\n",
    "Le noyau maintient l'état des calculs d'un ordinateur portable. Vous pouvez réinitialiser cet état en redémarrant le noyau. Pour ce faire, cliquez sur le bouton dans la barre d'outils."
   ]
  },
  {
   "cell_type": "markdown",
   "id": "caa87b72-88ba-4e20-b77b-ebbb4b47495a",
   "metadata": {},
   "source": [
    "## Cellule de résultat (Outputs)\n",
    "\n",
    "Pour mieux gérer les résultats importants, la zone de sortie peut être réduite. Exécutez la cellule suivante, puis\n",
    "\n",
    "    * un simple ou double clic sur la zone active à gauche de la sortie\n",
    "    * un clic droit de la souris sur `Enable Scrolling for Outputs` or `Clear Outputs`\n",
    "    * ou aller dans l'onglet `View` et choisir la tâche à exécuter, ex 'Collapse selected Ouptuts'\n",
    "    "
   ]
  },
  {
   "cell_type": "code",
   "execution_count": null,
   "id": "b2b258ac-a91d-4794-ac9f-700555abf311",
   "metadata": {
    "tags": []
   },
   "outputs": [],
   "source": [
    "for i in range(50):\n",
    "    print(i)"
   ]
  },
  {
   "cell_type": "code",
   "execution_count": null,
   "id": "93146e3c-fefa-41d8-9ad3-8bec6e04af4f",
   "metadata": {
    "scrolled": true,
    "tags": []
   },
   "outputs": [],
   "source": [
    "for i in range(500):\n",
    "    print(2**i - 1)"
   ]
  },
  {
   "cell_type": "markdown",
   "id": "55b25f34-463d-454a-9d19-e29ae8fc7afc",
   "metadata": {},
   "source": [
    "## Cellule magics\n",
    "\n",
    "https://ipython.readthedocs.io/en/stable/interactive/magics.html\n",
    "\n",
    "- `%run` : Exécute un fichier script externe dans le cadre de la cellule en cours d'exécution.\n",
    "- `%cd` : Change le répertoire de travail actuel.\n",
    "- `%history` : Imprime l'historique des entrées (variables _i<n>), la plus récente étant la dernière.\n",
    "Par exemple, si %run myscript.py apparaît dans une cellule de code, myscript.py sera exécuté par le noyau dans le cadre de cette cellule.\n",
    "- `%timeit` : Compte les boucles, mesure et rapporte la durée d'exécution d'une cellule de code.\n",
    "- `%writefile` [-a]: Sauvegarde le contenu d'une cellule dans un fichier.\n",
    "- `%load` : Charge le code dans le frontend actuel. (%loadpy a gagné en flexibilité et n'a plus besoin de l'extension .py).\n",
    "- `%store`: Sauvegarde une variable pour l'utiliser dans un autre notebook.\n",
    "- `%pwd`: Imprime le chemin du répertoire dans lequel vous travaillez actuellement.\n",
    "- `%%javascript`: Exécute la cellule en tant que code JavaScript."
   ]
  },
  {
   "cell_type": "code",
   "execution_count": 1,
   "id": "943cd480-da3a-410b-88da-8394ea70e62b",
   "metadata": {
    "execution": {
     "iopub.execute_input": "2023-05-11T12:53:54.174327Z",
     "iopub.status.busy": "2023-05-11T12:53:54.173770Z",
     "iopub.status.idle": "2023-05-11T12:53:54.275496Z",
     "shell.execute_reply": "2023-05-11T12:53:54.273144Z",
     "shell.execute_reply.started": "2023-05-11T12:53:54.174233Z"
    }
   },
   "outputs": [
    {
     "data": {
      "text/plain": [
       "'/Users/mouslydiaw/ensae_project/courses/python_crash_course'"
      ]
     },
     "execution_count": 1,
     "metadata": {},
     "output_type": "execute_result"
    }
   ],
   "source": [
    "%pwd"
   ]
  },
  {
   "cell_type": "markdown",
   "id": "b0694d4c-3c31-4dc3-86f5-082486c70d53",
   "metadata": {},
   "source": [
    "## Quelques exemples pratiques\n",
    "\n",
    "Dans Python avec Jupyter, on a accès au shell/terminal de l'environnement facilement :"
   ]
  },
  {
   "cell_type": "code",
   "execution_count": null,
   "id": "8cd40384-aacb-4cb1-99d0-9da1f08df15f",
   "metadata": {
    "jp-MarkdownHeadingCollapsed": true,
    "tags": []
   },
   "outputs": [],
   "source": [
    "# installer des packages\n",
    "\n",
    "!pip install numpy"
   ]
  },
  {
   "cell_type": "code",
   "execution_count": 2,
   "id": "788304e6-b84e-4cf3-ae9f-9a8cf8fe6d4a",
   "metadata": {
    "execution": {
     "iopub.execute_input": "2023-05-11T12:55:22.983778Z",
     "iopub.status.busy": "2023-05-11T12:55:22.983242Z",
     "iopub.status.idle": "2023-05-11T12:55:23.190666Z",
     "shell.execute_reply": "2023-05-11T12:55:23.188927Z",
     "shell.execute_reply.started": "2023-05-11T12:55:22.983716Z"
    }
   },
   "outputs": [
    {
     "name": "stdout",
     "output_type": "stream",
     "text": [
      "total 28040\n",
      "  200 -rw-rw-r--@  1 mouslydiaw  staff   100671 11 mai 14:53 01-intro-jupyter.ipynb\n",
      "  688 -rw-rw-r--@  1 mouslydiaw  staff   349465  5 mai 17:25 02-python-crash-course.ipynb\n",
      "    8 -rw-rw-r--@  1 mouslydiaw  staff      606  4 mai 15:30 03-tools-for-data-analysis.ipynb\n",
      " 1184 -rw-r--r--@  1 mouslydiaw  staff   603845 23 déc  2021 Introduction to Jupyter.html\n",
      "   64 -rw-r--r--   1 mouslydiaw  staff    30034 11 mai 14:52 Introduction to Jupyter.ipynb\n",
      "11424 -rw-r--r--@  1 mouslydiaw  staff  5846927 23 déc  2021 Introduction to Python.html\n",
      "14472 -rw-r--r--   1 mouslydiaw  staff  7408651 23 déc  2021 Introduction to Python.ipynb\n",
      "    0 drwxr-xr-x   6 mouslydiaw  staff      192  9 mai 09:00 excercice\n",
      "    0 drwxrwxr-x@ 10 mouslydiaw  staff      320  5 mai 15:18 images\n"
     ]
    }
   ],
   "source": [
    "## lister le contenu du répertoire courant\n",
    "!ls -ls | head -n 10"
   ]
  },
  {
   "cell_type": "markdown",
   "id": "27abfea5-9071-45a1-aa82-350168ea2f3d",
   "metadata": {},
   "source": [
    "# Markdown"
   ]
  },
  {
   "cell_type": "markdown",
   "id": "a00aaa3c-573e-4603-acd1-fa4bc56bbbfc",
   "metadata": {
    "tags": []
   },
   "source": [
    "## Défintion"
   ]
  },
  {
   "cell_type": "markdown",
   "id": "09af8d44-a564-4bf0-8003-eb10ee7339c6",
   "metadata": {},
   "source": [
    "`Markdown` est une syntaxe lisible par l'homme (également appelée langage de balisage) pour formater des documents texte. <br> \n",
    "`Markdown` peut être utilisé pour produire des documents bien formatés, y compris des PDF et des pages Web.\n",
    "\n",
    "Lorsque vous formatez du texte à l'aide de `Markdown` dans un document, cela revient à utiliser les outils de formatage (par exemple, gras, titre 1, titre 2) <br>dans un outil de traitement de texte tel que Microsoft Word ou Google Docs. <br>Cependant, au lieu d'utiliser des boutons pour appliquer le formatage, vous utilisez une syntaxe telle que ` **cette syntaxe met le texte en gras** ` ou `# Voici un titre`.\n",
    "\n",
    "La syntaxe `Markdown` vous permet de formater le texte de plusieurs façons, comme créer des titres, mettre des mots en gras et en italique, <br>créer des listes à puces, ajouter des liens, formater des symboles mathématiques et créer des tableaux. <br>Ces options vous permettent de mettre en forme le texte de manière visuellement attrayante et organisée pour présenter vos idées.\n",
    "\n",
    "\n",
    "**Remarques**: pour plus de détails, vous pouvez consulter ce [site](https://nbviewer.org/github/jupyter/notebook/blob/6.4.x/docs/source/examples/Notebook/Working%20With%20Markdown%20Cells.ipynb)"
   ]
  },
  {
   "cell_type": "markdown",
   "id": "cee655b0-34a6-40b6-ba55-ad1d429c101b",
   "metadata": {
    "tags": [],
    "toc-hr-collapsed": true
   },
   "source": [
    "## Comment créer une cellule Markdown ?"
   ]
  },
  {
   "cell_type": "markdown",
   "id": "9e7e8cbf-a4b8-420d-91aa-d0ba8d1240f5",
   "metadata": {
    "tags": []
   },
   "source": [
    "1- un clic à gauche de la cellule puis appuyer sur la touche `M` de votre clavier\n",
    "\n",
    "2- Créer une nouvelle cellule ensuite utiliser la barre de menu pour changer son type\n",
    "\n",
    "<img alt=\"markdown\" src=\"https://python.sdv.univ-paris-diderot.fr/img/jupyter-markdown-1.png\" width=\"500\">\n"
   ]
  },
  {
   "cell_type": "markdown",
   "id": "c3d79951-b8a3-46f8-b627-d8cd96ffc926",
   "metadata": {},
   "source": [
    "## Les bases de Markdown"
   ]
  },
  {
   "cell_type": "markdown",
   "id": "63873df7-a045-4954-bd9a-5257c2363840",
   "metadata": {},
   "source": [
    "### En tête"
   ]
  },
  {
   "cell_type": "markdown",
   "id": "4a80aa68-8f2e-45c6-ba65-c9570502e916",
   "metadata": {
    "execution": {
     "iopub.execute_input": "2023-05-05T12:08:42.913733Z",
     "iopub.status.busy": "2023-05-05T12:08:42.913733Z",
     "iopub.status.idle": "2023-05-05T12:08:42.927686Z",
     "shell.execute_reply": "2023-05-05T12:08:42.926689Z",
     "shell.execute_reply.started": "2023-05-05T12:08:42.913733Z"
    }
   },
   "source": [
    "Vous pouvez créer un titre en utilisant le signe dièse (#). Pour que les en-têtes s'affichent correctement, il doit y avoir un espace entre le # et le texte de l'en-tête.\n",
    "\n",
    "Le titre 1 est indiqué par un signe #, le titre 2 est indiqué par deux signes ##, etc., comme suit :\n",
    "    \n",
    "<pre class=\"highlight\"><code>\n",
    "    <span class=\"gu\"># A first-level heading</span>\n",
    "    <span class=\"gu\">## A second-level heading</span>\n",
    "\n",
    "    <span class=\"gu\">### A three-level heading</span>\n",
    "\n",
    "    <span class=\"gu\">#### A four-level heading</span>\n",
    "</code></pre>"
   ]
  },
  {
   "cell_type": "raw",
   "id": "690b7e76-479e-4459-9e3d-ccb7d73e5a03",
   "metadata": {},
   "source": [
    "# A first-level heading\n",
    "## A second-level heading\n",
    "### A three-level heading\n",
    "#### A four-level heading"
   ]
  },
  {
   "cell_type": "markdown",
   "id": "37044030-c174-4222-a514-9a22c237164d",
   "metadata": {},
   "source": [
    "### LaTeX: équations"
   ]
  },
  {
   "cell_type": "markdown",
   "id": "efadab1b-82de-4286-8627-2364e200244c",
   "metadata": {
    "execution": {
     "iopub.execute_input": "2023-05-05T12:12:23.175831Z",
     "iopub.status.busy": "2023-05-05T12:12:23.174834Z",
     "iopub.status.idle": "2023-05-05T12:12:23.200867Z",
     "shell.execute_reply": "2023-05-05T12:12:23.200867Z",
     "shell.execute_reply.started": "2023-05-05T12:12:23.175831Z"
    }
   },
   "source": [
    "1- Des expressions ``sur la même ligne`` peuvent être ajoutées en entourant le code latex avec $ :\n",
    "\n",
    "<pre><span></span>$e^{i\\pi} + 1 = 0$ </pre>\n",
    "\n",
    "**Il s'affichera comme suit :**\n",
    "$e^{i\\pi} + 1 = 0$\n",
    "\n",
    "\n",
    "2- Les expressions sur leur `propre ligne` sont entourées de `$$` ou `\\begin{equation}` :\n",
    "\n",
    "    a- $$\n",
    "<pre><span></span>$$e^{i\\pi} + 1 = 0$$ </pre>\n",
    "\n",
    "$$e^{i\\pi} + 1 = 0$$\n",
    "\n",
    "\n",
    "    b- \\begin{equation}\n",
    "<pre><span></span><span class=\"k\">\\begin</span><span class=\"nb\">{</span>equation<span class=\"nb\">}</span>\n",
    "e<span class=\"nb\">^</span>x=<span class=\"k\">\\sum</span><span class=\"nb\">_{</span>i=0<span class=\"nb\">}^</span><span class=\"k\">\\infty</span> <span class=\"k\">\\frac</span><span class=\"nb\">{</span>1<span class=\"nb\">}{</span>i!<span class=\"nb\">}</span>x<span class=\"nb\">^</span>i\n",
    "<span class=\"k\">\\end</span><span class=\"nb\">{</span>equation<span class=\"nb\">}</span>\n",
    "</pre>\n",
    "\n",
    "\\begin{equation}\n",
    "e^x=\\sum_{i=0}^\\infty \\frac{1}{i!}x^i\n",
    "\\end{equation}\n",
    "\n",
    "    c- Autres exemples:\n",
    "\n",
    "    c.1- Equations de Lorenz\n",
    "\n",
    "\\begin{align}\n",
    "\\dot{x} & = \\sigma(y-x) \\\\\n",
    "\\dot{y} & = \\rho x - y - xz \\\\\n",
    "\\dot{z} & = -\\beta z + xy\n",
    "\\end{align}\n",
    "\n",
    "    c.2- Inégalité de Cauchy-Schwarz\n",
    "    \n",
    "\\begin{equation*}\n",
    "\\left( \\sum_{k=1}^n a_k b_k \\right)^2 \\leq \\left( \\sum_{k=1}^n a_k^2 \\right) \\left( \\sum_{k=1}^n b_k^2 \\right)\n",
    "\\end{equation*}\n",
    "\n",
    "    c.3- Produit croisé\n",
    "    \n",
    "\\begin{equation*}\n",
    "\\mathbf{V}_1 \\times \\mathbf{V}_2 =  \\begin{vmatrix}\n",
    "\\mathbf{i} & \\mathbf{j} & \\mathbf{k} \\\\\n",
    "\\frac{\\partial X}{\\partial u} &  \\frac{\\partial Y}{\\partial u} & 0 \\\\\n",
    "\\frac{\\partial X}{\\partial v} &  \\frac{\\partial Y}{\\partial v} & 0\n",
    "\\end{vmatrix}\n",
    "\\end{equation*}\n",
    "\n",
    "    c.4- Probabilité\n",
    "    \n",
    "\\begin{equation*}\n",
    "P(E)   = {n \\choose k} p^k (1-p)^{ n-k}\n",
    "\\end{equation*}\n"
   ]
  },
  {
   "cell_type": "markdown",
   "id": "8d150b07-4be2-499d-acac-e8c16ce3c8ea",
   "metadata": {
    "execution": {
     "iopub.execute_input": "2023-05-05T12:13:30.771365Z",
     "iopub.status.busy": "2023-05-05T12:13:30.771365Z",
     "iopub.status.idle": "2023-05-05T12:13:30.777345Z",
     "shell.execute_reply": "2023-05-05T12:13:30.777345Z",
     "shell.execute_reply.started": "2023-05-05T12:13:30.771365Z"
    },
    "toc-hr-collapsed": true
   },
   "source": [
    "### Listes d'énumération\n",
    "\n",
    "Vous pouvez également utiliser ``Markdown`` pour créer des listes en utilisant la syntaxe suivante :"
   ]
  },
  {
   "cell_type": "markdown",
   "id": "90ae6a64-d7ad-4ee5-9c7e-91e3632d9ed5",
   "metadata": {
    "execution": {
     "iopub.execute_input": "2023-05-05T12:16:20.260470Z",
     "iopub.status.busy": "2023-05-05T12:16:20.259472Z",
     "iopub.status.idle": "2023-05-05T12:16:20.270440Z",
     "shell.execute_reply": "2023-05-05T12:16:20.269489Z",
     "shell.execute_reply.started": "2023-05-05T12:16:20.260470Z"
    }
   },
   "source": [
    "<pre class=\"highlight\"><code><span class=\"p\">*</span> Ceci est une liste à puces\n",
    "<span class=\"p\">*</span> Ceci est une liste à puces\n",
    "<span class=\"p\">*</span> Ceci est une liste à puces<span class=\"sb\">\n",
    "\n",
    "\n",
    "</span><span class=\"p\">1.</span> Et vous pouvez également créer des listes ordonnées\n",
    "<span class=\"p\">2.</span> en utilisant des nombres\n",
    "<span class=\"p\">3.</span> et répertorier les nouveaux éléments dans les listes\n",
    "<span class=\"p\">4.</span> sur leurs propres lignes\n",
    "</code></pre>"
   ]
  },
  {
   "cell_type": "markdown",
   "id": "8e50ce44-1601-4ae1-a374-03162247bd6c",
   "metadata": {},
   "source": [
    "**Il s'affichera comme suit :**\n",
    "\n",
    "* Ceci est une liste à puces\n",
    "* Ceci est une liste à puces\n",
    "* Ceci est une liste à puces\n",
    "\n",
    "\n",
    "1. Et vous pouvez également créer des listes ordonnées\n",
    "2. en utilisant des nombres\n",
    "3. et répertorier les nouveaux éléments dans les listes\n",
    "4. sur leurs propres lignes"
   ]
  },
  {
   "cell_type": "markdown",
   "id": "6bf19580-3003-4393-bbed-7c2b8f2fed77",
   "metadata": {
    "execution": {
     "iopub.execute_input": "2023-05-05T12:18:32.012506Z",
     "iopub.status.busy": "2023-05-05T12:18:32.011506Z",
     "iopub.status.idle": "2023-05-05T12:18:32.035488Z",
     "shell.execute_reply": "2023-05-05T12:18:32.034491Z",
     "shell.execute_reply.started": "2023-05-05T12:18:32.012506Z"
    }
   },
   "source": [
    "Notez qu'il y a un espace entre ``*`` ou ``1``. et le texte. L'espace déclenche l'action de création de la liste à l'aide de Markdown."
   ]
  },
  {
   "cell_type": "markdown",
   "id": "f6752287-1bb3-45e4-b837-3843456780e1",
   "metadata": {},
   "source": [
    "### Gras et italique"
   ]
  },
  {
   "cell_type": "markdown",
   "id": "27b18995-99c3-4862-a8ef-ccb0299b2502",
   "metadata": {},
   "source": [
    "Vous pouvez également utiliser:\n",
    "`**` pour mettre en gras\n",
    "`*` pour mettre les mots en italique.\n",
    "\n",
    "Pour mettre des mots en gras et en italique, les symboles doivent toucher le mot et doivent être répétés avant et après le mot en utilisant la syntaxe suivante :\n",
    "\n",
    "<pre class=\"highlight\"><code><span class=\"ge\">*Ce sont des mots en italique, pas une liste à puces*</span>\n",
    "<span class=\"gs\">**Ce sont des mots en gras, pas une liste à puces**</span>\n",
    "<span class=\"p\">\n",
    "*</span> <span class=\"gs\">**Ceci est une puce avec des mots en gras**</span>\n",
    "<span class=\"p\">*</span> <span class=\"ge\">*Ceci est une puce avec des mots en italique*</span>\n",
    "</code></pre>\n",
    "\n",
    "Vous pouvez aussi utiliser les syntaxes ``HTML`` * <...>xxx </...>*"
   ]
  },
  {
   "cell_type": "markdown",
   "id": "4060bea5-1ffb-4f58-89c0-6a4456d6361c",
   "metadata": {},
   "source": [
    "**Il s'affichera comme suit :**\n",
    "\n",
    "*Ce sont des mots en italique, pas une liste à puces*\n",
    "\n",
    "**Ce sont des mots en gras, pas une liste à puces**\n",
    "\n",
    "* **Ceci est une puce avec des mots en gras**\n",
    "* *Ceci est une puce avec des mots en italique*"
   ]
  },
  {
   "cell_type": "markdown",
   "id": "e75bf295-6f96-4f92-8f16-bfefcb810958",
   "metadata": {},
   "source": [
    "### Mettre en évidence le code"
   ]
  },
  {
   "cell_type": "markdown",
   "id": "b0ca005f-c482-4eb2-8677-45e718f4b8c9",
   "metadata": {
    "execution": {
     "iopub.execute_input": "2023-05-05T12:22:45.326755Z",
     "iopub.status.busy": "2023-05-05T12:22:45.325763Z",
     "iopub.status.idle": "2023-05-05T12:22:45.350139Z",
     "shell.execute_reply": "2023-05-05T12:22:45.348827Z",
     "shell.execute_reply.started": "2023-05-05T12:22:45.326755Z"
    }
   },
   "source": [
    "Si vous souhaitez mettre en surbrillance une fonction ou du **code dans un paragraphe de texte brut**, vous pouvez utiliser un backtick (`) de chaque côté du texte comme ceci :\n",
    "    \n",
    "<pre class=\"highlight\"><code><span class=\"sb\">`Voici du code !`</span>\n",
    "</code></pre>\n",
    "\n",
    "**qui s'affiche comme ceci :**\n",
    "\n",
    "`Voici du code !`"
   ]
  },
  {
   "cell_type": "markdown",
   "id": "efedb499-eea3-4c15-87eb-10e34a63ed4c",
   "metadata": {},
   "source": [
    "**Blocs de Code**: Vous pouvez également utiliser des backticks triples (```) pour les blocs de code sur plusieurs lignes:\n",
    "\n",
    "```python\n",
    "print(\"Bonjour tout le monde\")\n",
    "```\n",
    "\n",
    "```javascript\n",
    "console.log(\"Bonjour tout le monde\")\n",
    "```"
   ]
  },
  {
   "cell_type": "markdown",
   "id": "c01f7b14-7a4b-4593-a6dd-6c85726a11b7",
   "metadata": {},
   "source": [
    "### Lignes horizontales"
   ]
  },
  {
   "cell_type": "markdown",
   "id": "adfd70d4-1923-4d75-8e25-922ffbb75546",
   "metadata": {},
   "source": [
    "Vous pouvez également créer une ligne horizontale ou une règle pour mettre en évidence un bloc de syntaxe Markdown (similaire à la mise en évidence d'un bloc de code à l'aide des backticks) :\n",
    "\n",
    "<pre class=\"highlight\"><code><span class=\"p\">***\n",
    "</span>\n",
    "Voici un texte important!\n",
    "<span class=\"p\">\n",
    "***\n",
    "</span></code></pre>\n",
    "\n",
    "**qui s'affiche comme ceci :**\n",
    "\n",
    "***\n",
    "Voici un texte important !\n",
    "***"
   ]
  },
  {
   "cell_type": "markdown",
   "id": "3ab9ca55-87ee-4628-b785-180f7241708a",
   "metadata": {
    "tags": []
   },
   "source": [
    "### Lien hypertexte"
   ]
  },
  {
   "cell_type": "markdown",
   "id": "8cf2050c-b3a8-4dc2-b42f-03e3d1cb06c5",
   "metadata": {
    "execution": {
     "iopub.execute_input": "2023-05-05T12:26:08.960670Z",
     "iopub.status.busy": "2023-05-05T12:26:08.959674Z",
     "iopub.status.idle": "2023-05-05T12:26:08.980780Z",
     "shell.execute_reply": "2023-05-05T12:26:08.979763Z",
     "shell.execute_reply.started": "2023-05-05T12:26:08.960670Z"
    }
   },
   "source": [
    "Vous pouvez également utiliser HTML dans les cellules Markdown pour créer des liens hypertexte vers des sites Web en utilisant la syntaxe suivante :\n",
    "\n",
    "    1- `[mots hyperliens](url-to-the-website)`\n",
    "    2- `<a href=\"url-to-the-website\" target=\"_blank\">mots hyperliens</a>`\n",
    "\n",
    "Vous pouvez identifier les mots qui feront l'objet d'un lien hypertexte (c'est-à-dire qui invitent une page Web à s'ouvrir lorsqu'on clique dessus) en remplaçant \"mots hyperliens\" dans l'exemple ci-dessus.\n",
    "\n",
    "Par exemple, la syntaxe suivante :\n",
    "\n",
    "`Des ressources supplémentaires sont disponibles sur <a href=\"https://jupyter-notebook.readthedocs.io/en/stable/examples/Notebook/Working%20With%20Markdown%20Cells.html\" target=\"_blank\">ce lien </a>`\n",
    "\n",
    "**s'affichera comme suit avec** ``ce lien`` comme mots hyperliens :\n",
    "\n",
    "Des ressources supplémentaires sont disponibles sur <a href=\"https://jupyter-notebook.readthedocs.io/en/stable/examples/Notebook/Working%20With%20Markdown%20Cells.html\" target=\"_blank\">ce lien</a>"
   ]
  },
  {
   "cell_type": "markdown",
   "id": "32109641-fa45-4e50-95b7-2b7a76b4225c",
   "metadata": {
    "tags": []
   },
   "source": [
    "### Insérer des images externes"
   ]
  },
  {
   "cell_type": "markdown",
   "id": "dc6fdc6f-85ae-4dc3-8a1c-59fda368eea8",
   "metadata": {
    "execution": {
     "iopub.execute_input": "2023-05-05T12:28:29.905205Z",
     "iopub.status.busy": "2023-05-05T12:28:29.905205Z",
     "iopub.status.idle": "2023-05-05T12:28:29.933725Z",
     "shell.execute_reply": "2023-05-05T12:28:29.932731Z",
     "shell.execute_reply.started": "2023-05-05T12:28:29.905205Z"
    }
   },
   "source": [
    "Vous pouvez également utiliser Markdown pour créer un lien vers des images sur le Web en utilisant la syntaxe suivante :\n",
    "\n",
    "- `![texte alternatif ici](url-vers-image-ici)`\n",
    "- `<img alt=\"texte alternatif ici\" src=\"url-vers-image-ici\" width=\"500\">`\n",
    "\n",
    "Le texte alternatif est le texte alternatif qui apparaît si une image ne se charge pas sur la page Web ; <br>il est également utilisé par les outils de lecture d'écran pour identifier l'image aux utilisateurs des outils de lecture d'écran.\n",
    "\n",
    "Par exemple, la syntaxe suivante :\n",
    "\n",
    "``![Le logo Markdown est ici.](https://www.fullstackpython.com/img/logos/markdown.png)``\n",
    "\n",
    "sera rendu comme suit avec un texte alternatif de Markdown Logo is here. :\n",
    "\n",
    "\n",
    "<img alt=\"Le logo Markdown est ici\" src=\"https://www.fullstackpython.com/img/logos/markdown.png\" width=\"500\">"
   ]
  },
  {
   "cell_type": "markdown",
   "id": "299d2b53-d749-448e-ad45-274562b8b6e6",
   "metadata": {},
   "source": [
    "### Insérer des fichiers"
   ]
  },
  {
   "cell_type": "markdown",
   "id": "a481de53-c6b2-4295-bd8f-b9a0d8937768",
   "metadata": {},
   "source": [
    "Vous pouvez également ajouter des images à une cellule Markdown en utilisant des chemins relatifs vers les fichierslocaux en utilisant :\n",
    "\n",
    "``![texte alternatif ici](chemin-vers-l'image-ici)``\n",
    "\n",
    "Pour que les chemins relatifs (images stockées sur votre ordinateur) fonctionnent dans Jupyter Notebook, il est préférable de placer l'image dans un emplacement sur votre ordinateur qui est RELATIVE à votre fichier `.ipynb`. C'est là qu'une bonne gestion des fichiers devient extrêmement importante.\n",
    "\n",
    "\n",
    "Pour un exemple simple d'utilisation de chemins relatifs, imaginez que vous avez un sous-répertoire nommé ``images`` dans votre répertoire ``notebook-courses`` (c'est-à-dire ``notebook-courses/images/``).\n",
    "\n",
    "Si votre fichier Jupyter Notebook (``.ipynb``) est situé à la racine de ce répertoire (c'est-à-dire ``notebook-courses/xxxx.ipynb``), et toutes les ``images`` que vous souhaitez inclure dans votre rapport sont situés dans le sous-répertoire images (c'est-à-dire ``notebook-courses/images/``), alors le chemin que vous utiliseriez pour chaque image est :\n",
    "\n",
    "``images/nom-image.png``\n",
    "\n",
    "\n",
    "Si toutes vos images se trouvent dans le sous-répertoire ``images``, vous pourrez les retrouver facilement. Cela suit également les bonnes pratiques de gestion des fichiers, car toutes les images que vous utilisez dans votre rapport sont contenues dans le répertoire de votre projet.\n",
    "\n",
    "\n",
    "``![python-logo](images/python_logo.svg)`` affichera :\n",
    "\n",
    "![python-logo](images/python_logo.svg)"
   ]
  },
  {
   "attachments": {
    "6aaf8fe0-a3c3-437c-8710-1aa2641ce0d4.jpg": {
     "image/jpeg": "[encoded data removed]"
    }
   },
   "cell_type": "markdown",
   "id": "943ca80c-b7d1-48b8-84f8-ce1a22d9755b",
   "metadata": {
    "execution": {
     "iopub.execute_input": "2023-05-05T12:35:08.655587Z",
     "iopub.status.busy": "2023-05-05T12:35:08.654549Z",
     "iopub.status.idle": "2023-05-05T12:35:08.679465Z",
     "shell.execute_reply": "2023-05-05T12:35:08.678468Z",
     "shell.execute_reply.started": "2023-05-05T12:35:08.654549Z"
    }
   },
   "source": [
    "Depuis la version 5.0 de Jupyter, en plus de référencer un fichier externe, vous pouvez joindre un fichier à une cellule Markdown. Pour ce faire, faites glisser le fichier depuis une cellule Markdown tout en le modifiant :\n",
    "![download.jpg](attachment:6aaf8fe0-a3c3-437c-8710-1aa2641ce0d4.jpg)\n",
    "\n",
    "Cette image provient [ici](https://jupyter-notebook.readthedocs.io/en/stable/examples/Notebook/Working%20With%20Markdown%20Cells.html#Markdown-basics)\n",
    "\n",
    "**Remarques:** Gardez à l'esprit que les fichiers joints augmenteront la taille de votre notebook."
   ]
  },
  {
   "cell_type": "markdown",
   "id": "e7dbfae7-1f3c-4c5f-9396-f064226fb10e",
   "metadata": {},
   "source": [
    "### Exercice"
   ]
  },
  {
   "cell_type": "markdown",
   "id": "bc088ae6-19d4-4176-af56-927d31538d9f",
   "metadata": {
    "execution": {
     "iopub.execute_input": "2023-05-05T12:45:46.865147Z",
     "iopub.status.busy": "2023-05-05T12:45:46.864155Z",
     "iopub.status.idle": "2023-05-05T12:45:46.879366Z",
     "shell.execute_reply": "2023-05-05T12:45:46.878166Z",
     "shell.execute_reply.started": "2023-05-05T12:45:46.865147Z"
    }
   },
   "source": [
    "1. Ouvrez ou créez un nouveau notebook.\n",
    "\n",
    "2. Ajoutez une nouvelle cellule \"Markdown\" et incluez :\n",
    "    * Un titre pour le notebook (par exemple, `Introduction à Jupyter - Chapitre 1`)\n",
    "    * Une **liste à puces** avec :\n",
    "        * Un mot en gras pour `Auteur`: puis ajoutez du texte pour votre nom et prénom.\n",
    "        * Un mot en gras et italique `Date` de création : puis ajoutez du texte pour la date d'aujourd'hui.\n",
    "3. Ajoutez une autre cellule \"Markdown\" et incluez :\n",
    "    * Une liste de vos trois matières préférées.\n",
    "        * Mettez en italique le premier élément de votre liste.\n",
    "        * Ajoutez un hyperlien (c'est-à-dire des pages Web) pour le deuxième élément de votre liste (incluez le nom du cours dans le titre de l'hyperlien).\n",
    "        * Ajoutez une image pour le dernier élément de votre liste (incluez le nom dans le texte alternatif de l'image et modifier ses dimensions)."
   ]
  },
  {
   "cell_type": "markdown",
   "id": "ca0957c1-2994-4c8d-b6de-52013e86f7a6",
   "metadata": {},
   "source": [
    "# Raw"
   ]
  },
  {
   "cell_type": "markdown",
   "id": "bf46ab05-db33-4cb0-ba1a-e23ae302c99f",
   "metadata": {},
   "source": [
    "## Définition"
   ]
  },
  {
   "cell_type": "raw",
   "id": "16e3e26b-a417-40a7-b0dc-7021761317b8",
   "metadata": {
    "raw_mimetype": "text/restructuredtext",
    "tags": []
   },
   "source": [
    "Les cellules \"Raw\" (brute) offrent un espace dans lequel vous pouvez écrire directement des données. <br>\n",
    "Les cellules brutes ne sont pas évaluées par le notebook. Lorsqu'elles sont converties dans un autre format, les cellules brutes arrivent dans le format de destination sans avoir été modifiées.\n",
    "Par exemple, vous pouvez taper du LaTeX complet dans une cellule brute, qui ne sera rendu par LaTeX qu'après conversion par nbconvert.\n",
    "\n",
    "Vous pouvez utiliser des cellules Raw pour écrire directement la sortie ou enregistrer du code que vous ne souhaitez pas exécuter. <br>\n",
    "Les cellules Raw ne sont pas évaluées par le notebook. Ce type de cellule est rarement utilisé."
   ]
  },
  {
   "cell_type": "markdown",
   "id": "33065280-7511-4ef9-ab6c-c22c44680043",
   "metadata": {},
   "source": [
    "## Usage"
   ]
  },
  {
   "cell_type": "markdown",
   "id": "f853907d-517e-4923-932d-8fda20a373fc",
   "metadata": {},
   "source": [
    "Les cellules brutes sont créées différemment selon l'interface utilisateur.\n",
    "\n",
    "<br>**Jupyter notebook**<br>\n",
    "Pour sélectionner un format souhaité dans Jupyter Notebook, sélectionnez la cellule contenant votre code spécial et choisissez des options dans les menus déroulants suivants :\n",
    "\n",
    "1. Sélectionnez \"Raw NBConvert\" dans la barre d'outils du menu (juste en dessous des deux menus \"Widgets\" et \"Aide\").\n",
    "\n",
    "2. Cliquez sur le menu déroulant \"Raw NBConvert Format\" dans la cellule (optionnel: et sélectionnez \"reST\" dans la barre latérale de droite).\n",
    "\n",
    "<br>**JupyterLab**<br>\n",
    "Pour sélectionner un format souhaité dans JupyterLab, activez d'abord la barre latérale droite en cliquant sur `Afficher` dans la barre d'outils du menu. Ensuite, vous vous assurez que devant Afficher la barre latérale droite, il y a une coche (activé). Une fois la barre latérale droite affichée, vous êtes prêt à partir.\n",
    "\n",
    "1. Sélectionnez maintenant la cellule contenant votre code spécial et choisissez des options dans les menus déroulants suivants :\n",
    "\n",
    "2. Sélectionnez \"Raw\" dans la barre d'outils Notebook (juste à côté des symboles qui exécutent les cellules ou rechargent le noyau).\n",
    "\n",
    "3. Cliquez sur \"Raw NBConvert Format\" dans la barre latérale droite et sélectionnez \"ReStructured Text\" (le format reST est interprété et parsé par Sphinx)\n",
    "\n",
    "\n",
    "<br><br>**Remarques:** le raccourci `cliquer sur le coté gauche de la cellule` puis appuyer sur la touche `R` fonctionne quelque soit l'interface utilisé.<br>\n",
    "Pour plus d'informations, vous pouvez consulter ce [site](https://nbsphinx.readthedocs.io/en/0.9.1/raw-cells.html)"
   ]
  },
  {
   "cell_type": "markdown",
   "id": "1570fa15-bb71-47a9-8c33-4691ff08709b",
   "metadata": {},
   "source": [
    "# Conseils"
   ]
  },
  {
   "cell_type": "markdown",
   "id": "5c4a6ceb-2add-4e21-8a45-588bd4e9d3df",
   "metadata": {},
   "source": [
    "- Installer Python et Jupyter sur votre ordinateur personnel ;\n",
    "- Essayer de rédiger un notebook Jupyter au lieu d'utiliser votre éditeur / IDE préféré ;\n",
    "- Apprendre par soi-même à utiliser l'interface de Jupyter ;"
   ]
  },
  {
   "cell_type": "markdown",
   "id": "d1dbeb8a-7ca8-484c-9621-7cf187788994",
   "metadata": {},
   "source": [
    "- Comment utiliser un dépôt GitHub/Bitbucket/GitLab pour héberger des notebooks Jupyter, et les afficher en ligne en utilisant le site [`nbviewer.jupyter.org`](https://nbviewer.jupyter.org/).\n",
    "  + [`nbviewer.jupyter.org/github/Naereen/Tutoriel-notebooks-Jupyter-a-Didapro-8-Lille-fevrier-2020`](https://nbviewer.jupyter.org/github/Naereen/Tutoriel-notebooks-Jupyter-a-Didapro-8-Lille-fevrier-2020)\n",
    "  + Voir [`github.com/Naereen/ALGO1-Info1-2019`](https://github.com/Naereen/ALGO1-Info1-2019/) et [`github.com/Naereen/notebooks`](https://github.com/Naereen/notebooks/) pour des exemples.\n",
    "  \n",
    "  + https://github.com/parente/nbestimate"
   ]
  },
  {
   "cell_type": "markdown",
   "id": "57fc7cae-f707-4849-a645-64a0c37ee5da",
   "metadata": {},
   "source": [
    "- Comment utiliser Binder, Google Colab ou d’autres outils gratuits en ligne, pour ajouter un lien afin que tout utilisateur consultant vos notebooks Jupyter puisse démarrer un environnement interactif, directement depuis son navigateur Web, pour interagir avec le notebook sans rien avoir à installer.\n",
    "  + [`mybinder.org/repo/Naereen/Tutoriel-notebooks-Jupyter-a-Didapro-8-Lille-fevrier-2020`](https://mybinder.org/repo/Naereen/Tutoriel-notebooks-Jupyter-a-Didapro-8-Lille-fevrier-2020)\n",
    "  \n",
    "[![Binder](https://mybinder.org/badge_logo.svg)](https://mybinder.org/v2/gh/Naereen/Tutoriel-notebooks-Jupyter-a-Didapro-8-Lille-fevrier-2020/master)"
   ]
  },
  {
   "cell_type": "markdown",
   "id": "cbe24595-ce5d-416f-aa31-d2edaf11b8e2",
   "metadata": {},
   "source": [
    "- Utiliser les extensions Jupyter pour améliorer l'EDI. Voir [`jupyter-contrib-nbextensions.readthedocs.io`](https://jupyter-contrib-nbextensions.readthedocs.io/en/latest/).\n",
    "  + par exemple pour ajouter automatiquement une table des matières,\n",
    "  + un autre exemple : explorateur de variables (démonstration),\n",
    "  + un dernier exemple (méta) : RISE permet d'afficher une présentation interactive dynamiquement générée depuis le notebook (comme pour ce tutoriel).\n",
    "\n",
    "- Suiver les meilleurs exemples, par exemple le célèbre Peter Norvig (chef de la recherche chez Google) publie des notebooks très intéressants sur son projet [`github.com/norvig/pytudes`](https://github.com/norvig/pytudes), depuis 5 ans."
   ]
  },
  {
   "cell_type": "markdown",
   "id": "52c27fde-e4b0-4176-b2d2-95796d99549f",
   "metadata": {},
   "source": [
    "- Utiliser *Jupyter Lab*, la nouvelle version de l'interface utilisateur de Jupyter (plus moderne).\n",
    "\n",
    "- Partager ses notebooks en ligne, avec ses étudiants et collègues, et recevoir leurs commentaires.\n",
    "\n",
    "- Idée : utiliser [`github.com/jupyter/nbgrader`](https://github.com/jupyter/nbgrader) pour facilement utiliser les notebooks comme support d'évaluation (évaluation automatique du rendu de vos élèves !)."
   ]
  },
  {
   "cell_type": "markdown",
   "id": "89b04f0b-12b0-4272-aa6c-6d9414884adc",
   "metadata": {
    "tags": []
   },
   "source": [
    "# Ressources\n",
    "\n",
    "- [Premiers pas avec Jupyter notebook](https://openclassrooms.com/fr/courses/6204541-initiez-vous-a-python-pour-lanalyse-de-donnees/6211211-faites-vos-premiers-pas-avec-jupyter-notebook#:~:text=Que%20ce%20soit%20pour%20du,ajouter%20un%20%23%20devant%20votre%20texte.)\n",
    "- [Guide d'utilisation rapide du notebook Jupyter](https://pyspc.readthedocs.io/fr/latest/03-guide/)\n",
    "- [Notebook: Commandes essentielles](https://enterprise.arcgis.com/fr/notebook/latest/use/windows/essential-notebook-commands.htm)\n",
    "- [Github: guide sur Markdown](https://docs.github.com/fr/get-started/writing-on-github/getting-started-with-writing-and-formatting-on-github/basic-writing-and-formatting-syntax)\n",
    "- [Jupyter Notebook: Markdown]((https://jupyter-notebook.readthedocs.io/en/stable/examples/Notebook/Working%20With%20Markdown%20Cells.html))\n",
    "- [Généralités sur les cellules Raw](https://nbsphinx.readthedocs.io/en/0.9.1/raw-cells.html)\n",
    "- [Les parties d'un notebook](https://www.ibm.com/docs/en/db2-event-store/2.0.0?topic=notebooks-parts-notebook)\n",
    "- [Introduction à l'utilisation des notebooks Jupyter](https://perso.univ-lyon1.fr/marc.buffat/COURS/INTROPYTHON_HTML/IntroJupyter.html)\n",
    "\n",
    "- Ce tutoriel en ligne : [`frama.link/Atelier-Jupyter-Didapro8`](https://frama.link/Atelier-Jupyter-Didapro8) ([`github.com/Naereen/Tutoriel-notebooks-Jupyter-a-Didapro-8-Lille-fevrier-2020`](https://github.com/Naereen/Tutoriel-notebooks-Jupyter-a-Didapro-8-Lille-fevrier-2020))\n",
    "- Langage Python : [`www.python.org`](https://www.python.org/)\n",
    "- Projet jupyter : [`www.jupyter.org`](https://www.jupyter.org/)\n",
    "- Installeur Anaconda : [`www.anaconda.com/distribution/`](https://www.anaconda.com/distribution/)\n",
    "- Des bons tutoriels : [`plot.ly/python/v3/ipython-notebook-tutorial/`](https://plot.ly/python/v3/ipython-notebook-tutorial/) et [`www.dataquest.io/blog/advanced-jupyter-notebooks-tutorial/`](https://www.dataquest.io/blog/advanced-jupyter-notebooks-tutorial/)\n",
    "- Documentation : [`jupyter-notebook-beginner-guide.readthedocs.io`](https://jupyter-notebook-beginner-guide.readthedocs.io/en/latest/what_is_jupyter.html#id4)\n",
    "\n",
    "- Thomas Kluyver et al. Jupyter Notebooks - a publishing format for reproducible computational workflows. In F. Loizides and B. Schmidt, editors, Positioning and Power in Academic Publishing: Players, Agents and Agendas, pages 87–90. IOS Press, 2016. [`www.jupyter.org`](https://www.jupyter.org/)\n",
    "- Python Software Foundation. Python Language Reference, version 3.6, October 2017. [`www.python.org`](https://www.python.org/)\n",
    "- Fernando Pérez and Brian E. Granger. IPython: a System for Interactive Scientific Computing. Computing in Science and Engineering, 9(3):21–29, May 2007. ISSN 1521-9615. [`ipython.org`](http://ipython.org)."
   ]
  },
  {
   "cell_type": "code",
   "execution_count": null,
   "id": "09e4e900-39e6-4629-862c-8cfcc8a24bfd",
   "metadata": {},
   "outputs": [],
   "source": []
  }
 ],
 "metadata": {
  "kernelspec": {
   "display_name": "Python 3 (ipykernel)",
   "language": "python",
   "name": "python3"
  },
  "language_info": {
   "codemirror_mode": {
    "name": "ipython",
    "version": 3
   },
   "file_extension": ".py",
   "mimetype": "text/x-python",
   "name": "python",
   "nbconvert_exporter": "python",
   "pygments_lexer": "ipython3",
   "version": "3.9.7"
  },
  "toc-autonumbering": true
 },
 "nbformat": 4,
 "nbformat_minor": 5
}
