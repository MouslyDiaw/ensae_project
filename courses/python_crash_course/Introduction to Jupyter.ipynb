{
 "cells": [
  {
   "cell_type": "markdown",
   "metadata": {
    "slideshow": {
     "slide_type": "slide"
    }
   },
   "source": [
    "## Présentation de Jupyter\n",
    "\n",
    "- Qu'est-ce que Jupyter ?\n",
    "- Qu'est-ce qu’un notebook Jupyter ?\n",
    "- Qu'est-ce que l’écosystème Jupyter ?\n",
    "- Quels problèmes résolvent les notebooks Jupyter ?"
   ]
  },
  {
   "cell_type": "markdown",
   "metadata": {
    "slideshow": {
     "slide_type": "subslide"
    }
   },
   "source": [
    "<center><img width=\"600\" src=\"https://923259.smushcdn.com/2321054/wp-content/uploads/2020/08/jupyter-notebook-1536x763.webp?lossy=0&strip=1&webp=1\"></center>"
   ]
  },
  {
   "cell_type": "markdown",
   "metadata": {
    "slideshow": {
     "slide_type": "slide"
    }
   },
   "source": [
    "### Qu’est-ce que Jupyter ?\n",
    "\n",
    "Un environnement de développement intégré (IDE) \"WYSIWYG\" (What-you-see-is-what-you-get) pour (presque) tous les langages de programmation, que l'on utilise depuis un navigateur Internet.\n",
    "\n",
    "Par exemple, il peut être utilisé pour des langages dynamiques interprétés, tels que Python, OCaml, Julia ou Bash, mais aussi pour des langages compilés, tels que C/C++.\n",
    "\n",
    "C'est un ensemble de logiciels libres et gratuits, installables sur n'importe quel ordinateur moderne et qui sont faciles à prendre en main."
   ]
  },
  {
   "cell_type": "markdown",
   "metadata": {
    "slideshow": {
     "slide_type": "slide"
    }
   },
   "source": [
    "### Qu’est-ce qu’un notebook Jupyter ?\n",
    "\n",
    "C'est un fichier, à l'extension `.ipynb` (*ipy*thon *n*ote*b*ook), qui est un format de texte brut de type [JSON](https://www.json.org/).\n",
    "\n",
    "Ce fichier peut être converti en présentation (slide show) comme celle utilisée aujourd'hui, en page web statique (HTML), en document prêt à être imprimé (PDF), en script (Python ou autre)\n",
    "\n",
    "Le format de fichier, et tous les logiciels de l'environnement Jupyter, sont gratuits et sous licence libre, comme Python."
   ]
  },
  {
   "cell_type": "markdown",
   "metadata": {
    "slideshow": {
     "slide_type": "subslide"
    }
   },
   "source": [
    "Un document <span style=\"color:red;\">contient des cellules</span> de texte (en Markdown ↑), et de code ↓.  \n",
    "*Ceci est une cellule de texte*."
   ]
  },
  {
   "cell_type": "code",
   "execution_count": 33,
   "metadata": {
    "execution": {
     "iopub.execute_input": "2021-12-23T16:34:01.699905Z",
     "iopub.status.busy": "2021-12-23T16:34:01.694740Z",
     "iopub.status.idle": "2021-12-23T16:34:01.783899Z",
     "shell.execute_reply": "2021-12-23T16:34:01.782328Z",
     "shell.execute_reply.started": "2021-12-23T16:34:01.699743Z"
    },
    "tags": []
   },
   "outputs": [
    {
     "name": "stdout",
     "output_type": "stream",
     "text": [
      "Hello World!\n"
     ]
    }
   ],
   "source": [
    "print(\"Hello World!\")"
   ]
  },
  {
   "cell_type": "code",
   "execution_count": 34,
   "metadata": {
    "execution": {
     "iopub.execute_input": "2021-12-23T17:11:23.046982Z",
     "iopub.status.busy": "2021-12-23T17:11:23.044035Z",
     "iopub.status.idle": "2021-12-23T17:11:23.470617Z",
     "shell.execute_reply": "2021-12-23T17:11:23.468367Z",
     "shell.execute_reply.started": "2021-12-23T17:11:23.046828Z"
    },
    "tags": []
   },
   "outputs": [
    {
     "name": "stdout",
     "output_type": "stream",
     "text": [
      "Introduction to Jupyter.ipynb: JSON data\n"
     ]
    }
   ],
   "source": [
    "# Et celle ci est une celle de code\n",
    "# (ici dans le terminal, depuis Python dans Jupyter ou IPython, avec !commande ...)\n",
    "!file \"Introduction to Jupyter.ipynb\""
   ]
  },
  {
   "cell_type": "code",
   "execution_count": 5,
   "metadata": {
    "execution": {
     "iopub.execute_input": "2021-12-23T10:30:10.904705Z",
     "iopub.status.busy": "2021-12-23T10:30:10.904151Z",
     "iopub.status.idle": "2021-12-23T10:30:11.047466Z",
     "shell.execute_reply": "2021-12-23T10:30:11.046618Z",
     "shell.execute_reply.started": "2021-12-23T10:30:10.904646Z"
    }
   },
   "outputs": [
    {
     "name": "stdout",
     "output_type": "stream",
     "text": [
      "{\n",
      " \"cells\": [\n",
      "  {\n",
      "   \"cell_type\": \"markdown\",\n",
      "   \"metadata\": {\n",
      "    \"slideshow\": {\n",
      "     \"slide_type\": \"slide\"\n",
      "    }\n",
      "   },\n",
      "   \"source\": [\n"
     ]
    }
   ],
   "source": [
    "!head \"Introduction to Jupyter.ipynb\""
   ]
  },
  {
   "cell_type": "code",
   "execution_count": 6,
   "metadata": {
    "execution": {
     "iopub.execute_input": "2021-12-23T10:30:20.225196Z",
     "iopub.status.busy": "2021-12-23T10:30:20.224716Z",
     "iopub.status.idle": "2021-12-23T10:30:20.366161Z",
     "shell.execute_reply": "2021-12-23T10:30:20.365202Z",
     "shell.execute_reply.started": "2021-12-23T10:30:20.225148Z"
    }
   },
   "outputs": [
    {
     "name": "stdout",
     "output_type": "stream",
     "text": [
      "    \"Un document <span style=\\\"color:red;\\\">contient des cellules</span> de texte (en Markdown ↑), et de code ↓.  \\n\",\n"
     ]
    }
   ],
   "source": [
    "!grep \"contient des cellules\" \"Introduction to Jupyter.ipynb\" | head -n1"
   ]
  },
  {
   "cell_type": "markdown",
   "metadata": {
    "slideshow": {
     "slide_type": "slide"
    }
   },
   "source": [
    "### Qu'est-ce que l’écosystème Jupyter ?\n",
    "Il a commencé sous le nom [ipython](http://www.ipython.org/) il y a environ 15 ans, conçu pour être utilisé uniquement pour le langage de programmation Python, et de nos jours il a évolué en un écosystème open-source mature.\n",
    "\n",
    "*Jupyter* est nommé d'après Jupiter, et pour *Ju*lia, *pyt*hon, et *R*, les trois premiers langages pour lesquels Jupyter était disponible."
   ]
  },
  {
   "cell_type": "markdown",
   "metadata": {
    "slideshow": {
     "slide_type": "subslide"
    }
   },
   "source": [
    "L'environnement Jupyter est utilisé par des centaines de milliers de scientifiques du monde entier, allant d'étudiants au lycée, en prépa et à l'université en France et ailleurs, aux meilleures équipes utilisant les sciences des données et du numérique.\n",
    "\n",
    "Les notebooks Jupyter sont une alternative gratuite et open-source à l’EDI inclus dans les logiciels propriétaires et payants qui dominent le marché :\n",
    "\n",
    "- [MATLAB](https://fr.mathworks.com/help/matlab/),\n",
    "- [Wolfram's Mathematica](https://www.wolframalpha.com/),\n",
    "- et [MapleSoft's Maple](https://www.maplesoft.com/)."
   ]
  },
  {
   "cell_type": "markdown",
   "metadata": {
    "slideshow": {
     "slide_type": "subslide"
    }
   },
   "source": [
    "Parmi ses récentes utilisations réussies, on peut noter :\n",
    "\n",
    "1. La toute première image d’un trou noir obtenue par Katie Bouman et ses collègues.  \n",
    "   Voir par exemple [`www.nationalgeographic.com/science/2019/04/first-picture-black-hole-revealed-m87-event-horizon-telescope-astrophysics/`](http://www.nationalgeographic.com/science/2019/04/first-picture-black-hole-revealed-m87-event-horizon-telescope-astrophysics/) et [`www.bbc.com/news/science-environment-47891902`](http://www.bbc.com/news/science-environment-47891902).\n",
    "\n",
    "2. Ou pour l'analyse de données par des économistes, comme le lauréat de prix Nobel, Paul Romer.  \n",
    "   Voir par exemple [`PaulRomer.net/jupyter-mathematica-and-the-future-of-the-research-paper/`](http://paulromer.net/jupyter-mathematica-and-the-future-of-the-research-paper/)"
   ]
  },
  {
   "cell_type": "markdown",
   "metadata": {
    "slideshow": {
     "slide_type": "slide"
    }
   },
   "source": [
    "### Quels problèmes résolvent les notebooks Jupyter ?\n",
    "\n",
    "Pourquoi c'est un outil puissant, à la fois facile à apprendre et à utiliser pour les débutants et puissant pour les utilisateurs experts.\n",
    "\n",
    "- Un outil unique pour rédiger des petits morceaux de code (exercices, TP, tutoriel, analyse de données etc), avec du texte ou une documentation, les résultats de l'exécution du code, des figures etc,\n",
    "\n",
    "- Facilité de conversion vers d'autres formats : scripts exécutables sans Jupyter, fichiers statiques HTML, fichiers imprimables PDF etc"
   ]
  },
  {
   "cell_type": "markdown",
   "metadata": {
    "slideshow": {
     "slide_type": "subslide"
    }
   },
   "source": [
    "- Encore plus d'autres formats : présentations (slides) interactives,\n",
    "- Stocké comme des fichiers textes, bonne compatibilité avec les gestionnaires de version tels que `git`.\n",
    "\n",
    "<center><img width=\"75%\" src=\"https://perso.crans.org/besson/slides/Tutoriel-notebooks-Jupyter-a-Didapro-8-Lille-fevrier-2020/figs/git_diff_for_jupyter_notebooks.png\"></center>"
   ]
  },
  {
   "cell_type": "markdown",
   "metadata": {
    "slideshow": {
     "slide_type": "slide"
    }
   },
   "source": [
    "---\n",
    "## Comment installer Jupyter\n",
    "\n",
    "En suivant le tutoriel en ligne depuis [`jupyter.org/install.html`](https://jupyter.org/install.html), il est facile d’installer tout l’écosystème Jupyter sur tout ordinateur avec `Python` et un gestionnaire de paquets (`pip` ou `conda`) installé."
   ]
  },
  {
   "cell_type": "markdown",
   "metadata": {
    "slideshow": {
     "slide_type": "subslide"
    }
   },
   "source": [
    "→ [`jupyter.org/install.html`](http://jupyter.org/install.html)\n",
    "<center><img width=\"75%\" src=\"https://perso.crans.org/besson/slides/Tutoriel-notebooks-Jupyter-a-Didapro-8-Lille-fevrier-2020/figs/installing_jupyter.png\"></center>"
   ]
  },
  {
   "cell_type": "markdown",
   "metadata": {
    "slideshow": {
     "slide_type": "subslide"
    }
   },
   "source": [
    "Sur Windows ou Mac OS X, ou même la plupart des systèmes GNU/Linux, un installeur gratuit appelé Anaconda ([`www.anaconda.com/distribution`/](https://www.anaconda.com/distribution/)) installe tout ça en un clic !\n",
    "\n",
    "<center><img width=\"60%\" src=\"https://perso.crans.org/besson/slides/Tutoriel-notebooks-Jupyter-a-Didapro-8-Lille-fevrier-2020/figs/installing_jupyter_with_Anaconda.png\"></center>"
   ]
  },
  {
   "cell_type": "markdown",
   "metadata": {
    "slideshow": {
     "slide_type": "slide"
    }
   },
   "source": [
    "## Comment utiliser Jupyter pour écrire des documents simples\n",
    "\n",
    "Je vais vous montrer l'interface utilisateur graphique des notebooks Jupyter, et nous allons voir ensemble comment éditer des cellules de texte ou de code, et exécuter des cellules.\n",
    "\n",
    "Ceci est une **cellule de texte**. On peut *utiliser* le langage à balise [Markdown](http://commonmark.org/) ! Et $\\LaTeX^2$"
   ]
  },
  {
   "cell_type": "markdown",
   "metadata": {
    "slideshow": {
     "slide_type": "subslide"
    }
   },
   "source": [
    "### Aperçu de l'interface de Jupyter : comment lancer Jupyter\n",
    "\n",
    "- Sous Mac ou GNU/Linux, dans un terminal : `$ jupyter-notebook`,\n",
    "- Sous Windows, avec Anaconda, il y a un lanceur graphique installé.\n",
    "\n",
    "![](https://perso.crans.org/besson/slides/Tutoriel-notebooks-Jupyter-a-Didapro-8-Lille-fevrier-2020/figs/lancer_jupyter_notebook.png)"
   ]
  },
  {
   "cell_type": "markdown",
   "metadata": {
    "slideshow": {
     "slide_type": "subslide"
    }
   },
   "source": [
    "### Aperçu de l'interface de Jupyter : lancement\n",
    "\n",
    "Pour commencer, il vous suffit d'ouvrir votre application terminal et d'aller dans un dossier de votre choix. Je vous recommande d'utiliser un dossier comme celui des documents pour commencer et de créer un sous-dossier appelé Notebooks ou quelque chose de facile à retenir.\n",
    "\n",
    "![](https://www.dataquest.io/wp-content/uploads/2019/01/jupyter-dashboard.jpg)"
   ]
  },
  {
   "cell_type": "markdown",
   "metadata": {},
   "source": [
    "### Aperçu de l'interface de Jupyter: Creer un nouveau notebook\n",
    "![](https://www.dataquest.io/wp-content/uploads/2019/01/new-notebook-menu.jpg)\n",
    "\n",
    "\n",
    "Extension des fichiers noebook: `.ipynb`"
   ]
  },
  {
   "cell_type": "markdown",
   "metadata": {
    "execution": {
     "iopub.execute_input": "2021-12-23T10:22:28.233625Z",
     "iopub.status.busy": "2021-12-23T10:22:28.233254Z",
     "iopub.status.idle": "2021-12-23T10:22:28.482151Z",
     "shell.execute_reply": "2021-12-23T10:22:28.480971Z",
     "shell.execute_reply.started": "2021-12-23T10:22:28.233590Z"
    }
   },
   "source": [
    "### Aperçu de l'interface de Jupyter : un notebook vide\n",
    "\n",
    "![](https://files.realpython.com/media/02_new_notebook.015b2f84bb60.png)\n",
    "\n",
    "__Menu__\n",
    "\n",
    "Le bloc-notes Jupyter possède plusieurs menus que vous pouvez utiliser pour interagir avec votre NOTEBOOK. Le menu se trouve en haut du NOTEBOOK, tout comme les menus d'autres applications. Voici une liste des menus actuels:\n",
    "\n",
    "    Fichier (File)\n",
    "    Editer (Edit)\n",
    "    Afficher (View)\n",
    "    Exécuter (Run)\n",
    "    Noyau (Kernel)\n",
    "    Tabs (Tabs)\n",
    "    Paramètres (Settings)\n",
    "    Aide (Help)"
   ]
  },
  {
   "cell_type": "markdown",
   "metadata": {
    "slideshow": {
     "slide_type": "subslide"
    }
   },
   "source": [
    "### Aperçu de l'interface de Jupyter : un notebook en train d'être édité\n",
    "\n",
    "![](https://perso.crans.org/besson/slides/Tutoriel-notebooks-Jupyter-a-Didapro-8-Lille-fevrier-2020/figs/un_notebook_en_train_detre_edite.png)"
   ]
  },
  {
   "cell_type": "markdown",
   "metadata": {
    "slideshow": {
     "slide_type": "subslide"
    }
   },
   "source": [
    "### Aperçu de l'interface de Jupyter: exécuter des cellules\n",
    "\n",
    "Via le menu ![Run](https://www.dataquest.io/wp-content/uploads/2019/01/run-button.jpg) or appuyer `Ctrl (or Shift) + Enter`."
   ]
  },
  {
   "cell_type": "code",
   "execution_count": null,
   "metadata": {
    "tags": []
   },
   "outputs": [],
   "source": [
    "print(\"Test run\")"
   ]
  },
  {
   "cell_type": "markdown",
   "metadata": {
    "execution": {
     "iopub.execute_input": "2021-12-23T10:55:41.712339Z",
     "iopub.status.busy": "2021-12-23T10:55:41.711861Z",
     "iopub.status.idle": "2021-12-23T10:55:41.765302Z",
     "shell.execute_reply": "2021-12-23T10:55:41.749209Z",
     "shell.execute_reply.started": "2021-12-23T10:55:41.712285Z"
    }
   },
   "source": [
    "Basculez entre le mode édition et le mode commande avec `Esc et Enter (Shift)`\n",
    "Faites défiler vos cellules vers le haut et le bas avec les touches `Haut` et `Bas``.\n",
    "\n",
    "- Appuyez sur `A` ou `B` pour insérer une nouvelle cellule au-dessus ou au-dessous de la cellule active.\n",
    "- M transformera la cellule active en une cellule Markdown.\n",
    "- Y transformera la cellule active en une cellule de code.\n",
    "- D + D (D deux fois) supprime la cellule active.\n",
    "- Z annule la suppression de la cellule.\n",
    "- Maintenez la touche `Maj` et appuyez sur la touche `Haut` ou `Bas` pour sélectionner plusieurs cellules à la fois.\n",
    "Lorsque plusieurs cellules sont sélectionnées, `Shift + M` fusionne votre sélection.\n",
    "`Ctrl + Shift + -`, en mode édition, divise la cellule active au niveau du curseur.\n",
    "Vous pouvez également cliquer et `Shift + Click` dans la marge à gauche de vos cellules pour les sélectionner."
   ]
  },
  {
   "cell_type": "markdown",
   "metadata": {
    "execution": {
     "iopub.execute_input": "2021-12-23T11:09:17.162874Z",
     "iopub.status.busy": "2021-12-23T11:09:17.162559Z",
     "iopub.status.idle": "2021-12-23T11:09:17.179267Z",
     "shell.execute_reply": "2021-12-23T11:09:17.175781Z",
     "shell.execute_reply.started": "2021-12-23T11:09:17.162841Z"
    }
   },
   "source": [
    "### Aperçu de l'interface Jupyter: Commande magic\n",
    "https://ipython.readthedocs.io/en/stable/interactive/magics.html\n",
    "\n",
    "- `%run` : Exécute un fichier script externe dans le cadre de la cellule en cours d'exécution.\n",
    "- `%cd` : Change le répertoire de travail actuel.\n",
    "- `%history` : Imprime l'historique des entrées (variables _i<n>), la plus récente étant la dernière.\n",
    "Par exemple, si %run myscript.py apparaît dans une cellule de code, myscript.py sera exécuté par le noyau dans le cadre de cette cellule.\n",
    "- `%timeit` : Compte les boucles, mesure et rapporte la durée d'exécution d'une cellule de code.\n",
    "- `%writefile` [-a]: Sauvegarde le contenu d'une cellule dans un fichier.\n",
    "- `%load` : Charge le code dans le frontend actuel. (%loadpy a gagné en flexibilité et n'a plus besoin de l'extension .py).\n",
    "- `%store`: Sauvegarde une variable pour l'utiliser dans un autre notebook.\n",
    "- `%pwd`: Imprime le chemin du répertoire dans lequel vous travaillez actuellement.\n",
    "- `%%javascript`: Exécute la cellule en tant que code JavaScript."
   ]
  },
  {
   "cell_type": "code",
   "execution_count": 1,
   "metadata": {
    "execution": {
     "iopub.execute_input": "2021-12-23T17:47:42.255391Z",
     "iopub.status.busy": "2021-12-23T17:47:42.254558Z",
     "iopub.status.idle": "2021-12-23T17:47:42.276148Z",
     "shell.execute_reply": "2021-12-23T17:47:42.274963Z",
     "shell.execute_reply.started": "2021-12-23T17:47:42.254826Z"
    },
    "tags": []
   },
   "outputs": [
    {
     "data": {
      "text/plain": [
       "'/Users/mouslydiaw/Documents/ensae/ensae_project/courses/python_crash_course'"
      ]
     },
     "execution_count": 1,
     "metadata": {},
     "output_type": "execute_result"
    }
   ],
   "source": [
    "%pwd"
   ]
  },
  {
   "cell_type": "markdown",
   "metadata": {
    "slideshow": {
     "slide_type": "slide"
    }
   },
   "source": [
    "---\n",
    "\n",
    "## Présentant ma propre utilisation de notebooks Jupyter\n",
    "\n",
    "Je souhaite vous montrer différents cas d'utilisation des cahiers Jupyter au quotidien pour mes activités d’enseignement, durant les trois dernières années.\n",
    "\n",
    "Je présenterai principalement des exemples de ressources produites à partir d’un notebook Jupyter, et comment convertir des notebooks en HTML."
   ]
  },
  {
   "cell_type": "markdown",
   "metadata": {
    "slideshow": {
     "slide_type": "subslide"
    }
   },
   "source": [
    "### Quelques micro exemples très pratiques\n",
    "\n",
    "Dans Python avec Jupyter, on a accès au shell/terminal de l'environnement facilement :"
   ]
  },
  {
   "cell_type": "code",
   "execution_count": 32,
   "metadata": {
    "execution": {
     "iopub.execute_input": "2021-12-23T11:09:42.522370Z",
     "iopub.status.busy": "2021-12-23T11:09:42.522078Z",
     "iopub.status.idle": "2021-12-23T11:09:48.728369Z",
     "shell.execute_reply": "2021-12-23T11:09:48.726640Z",
     "shell.execute_reply.started": "2021-12-23T11:09:42.522339Z"
    },
    "tags": []
   },
   "outputs": [
    {
     "name": "stdout",
     "output_type": "stream",
     "text": [
      "Requirement already satisfied: numpy in /Users/mouslydiaw/opt/anaconda3/lib/python3.8/site-packages (1.19.5)\n"
     ]
    }
   ],
   "source": [
    "# installer des packages\n",
    "\n",
    "!pip install numpy"
   ]
  },
  {
   "cell_type": "code",
   "execution_count": 2,
   "metadata": {
    "execution": {
     "iopub.execute_input": "2021-12-23T17:50:17.333818Z",
     "iopub.status.busy": "2021-12-23T17:50:17.333471Z",
     "iopub.status.idle": "2021-12-23T17:50:17.533314Z",
     "shell.execute_reply": "2021-12-23T17:50:17.531174Z",
     "shell.execute_reply.started": "2021-12-23T17:50:17.333784Z"
    },
    "scrolled": true,
    "tags": []
   },
   "outputs": [
    {
     "name": "stdout",
     "output_type": "stream",
     "text": [
      "total 27144\n",
      " 1184 -rw-r--r--@ 1 mouslydiaw  staff   603845 23 déc 12:10 Introduction to Jupyter.html\n",
      "   64 -rw-r--r--  1 mouslydiaw  staff    30041 23 déc 18:50 Introduction to Jupyter.ipynb\n",
      "11424 -rw-r--r--@ 1 mouslydiaw  staff  5846927 23 déc 12:23 Introduction to Python.html\n",
      "14472 -rw-r--r--@ 1 mouslydiaw  staff  7408651 23 déc 12:22 Introduction to Python.ipynb\n",
      "    0 drwxr-xr-x@ 5 mouslydiaw  staff      160 23 déc 12:14 excercice\n"
     ]
    }
   ],
   "source": [
    "# lister le contenu du répertoire courant\n",
    "!ls -ls | head -n 10  # head"
   ]
  },
  {
   "cell_type": "markdown",
   "metadata": {},
   "source": [
    "http://manpagesfr.free.fr/man/man1/ls.1.html, pour plus de d'exemples"
   ]
  },
  {
   "cell_type": "code",
   "execution_count": 17,
   "metadata": {
    "execution": {
     "iopub.execute_input": "2021-12-23T10:33:58.811775Z",
     "iopub.status.busy": "2021-12-23T10:33:58.811126Z",
     "iopub.status.idle": "2021-12-23T10:33:58.960870Z",
     "shell.execute_reply": "2021-12-23T10:33:58.959926Z",
     "shell.execute_reply.started": "2021-12-23T10:33:58.811715Z"
    }
   },
   "outputs": [
    {
     "name": "stdout",
     "output_type": "stream",
     "text": [
      "-rw-r--r--@ 1 mouslydiaw  staff   584K 22 déc 22:12 data/data-analysis.csv\n",
      "-rw-r--r--  1 mouslydiaw  staff   3,2M 22 déc 23:05 data/education_stats.csv\n"
     ]
    }
   ],
   "source": [
    "!ls -larth data/* | head -n 10"
   ]
  },
  {
   "cell_type": "markdown",
   "metadata": {
    "slideshow": {
     "slide_type": "slide"
    }
   },
   "source": [
    "---\n",
    "## Conclusion : conseils pour devenir un-e expert-e en Jupyter\n",
    "\n",
    "- Installer Python et Jupyter sur votre ordinateur personnel ;\n",
    "- Essayer de rédiger un notebook Jupyter au lieu d'utiliser votre éditeur / IDE préféré ;\n",
    "- Apprendre par soi-même à utiliser l'interface de Jupyter ;"
   ]
  },
  {
   "cell_type": "markdown",
   "metadata": {
    "slideshow": {
     "slide_type": "subslide"
    }
   },
   "source": [
    "- Comment utiliser un dépôt GitHub/Bitbucket/GitLab pour héberger des notebooks Jupyter, et les afficher en ligne en utilisant le site [`nbviewer.jupyter.org`](https://nbviewer.jupyter.org/).\n",
    "  + [`nbviewer.jupyter.org/github/Naereen/Tutoriel-notebooks-Jupyter-a-Didapro-8-Lille-fevrier-2020`](https://nbviewer.jupyter.org/github/Naereen/Tutoriel-notebooks-Jupyter-a-Didapro-8-Lille-fevrier-2020)\n",
    "  + Voir [`github.com/Naereen/ALGO1-Info1-2019`](https://github.com/Naereen/ALGO1-Info1-2019/) et [`github.com/Naereen/notebooks`](https://github.com/Naereen/notebooks/) pour des exemples.\n",
    "  \n",
    "  + https://github.com/parente/nbestimate"
   ]
  },
  {
   "cell_type": "markdown",
   "metadata": {
    "slideshow": {
     "slide_type": "subslide"
    }
   },
   "source": [
    "- Comment utiliser Binder, Google Colab ou d’autres outils gratuits en ligne, pour ajouter un lien afin que tout utilisateur consultant vos notebooks Jupyter puisse démarrer un environnement interactif, directement depuis son navigateur Web, pour interagir avec le notebook sans rien avoir à installer.\n",
    "  + [`mybinder.org/repo/Naereen/Tutoriel-notebooks-Jupyter-a-Didapro-8-Lille-fevrier-2020`](https://mybinder.org/repo/Naereen/Tutoriel-notebooks-Jupyter-a-Didapro-8-Lille-fevrier-2020)\n",
    "  \n",
    "[![Binder](https://mybinder.org/badge_logo.svg)](https://mybinder.org/v2/gh/Naereen/Tutoriel-notebooks-Jupyter-a-Didapro-8-Lille-fevrier-2020/master)"
   ]
  },
  {
   "cell_type": "markdown",
   "metadata": {
    "slideshow": {
     "slide_type": "subslide"
    }
   },
   "source": [
    "- Utiliser les extensions Jupyter pour améliorer l'EDI. Voir [`jupyter-contrib-nbextensions.readthedocs.io`](https://jupyter-contrib-nbextensions.readthedocs.io/en/latest/).\n",
    "  + par exemple pour ajouter automatiquement une table des matières,\n",
    "  + un autre exemple : explorateur de variables (démonstration),\n",
    "  + un dernier exemple (méta) : RISE permet d'afficher une présentation interactive dynamiquement générée depuis le notebook (comme pour ce tutoriel).\n",
    "\n",
    "- Suiver les meilleurs exemples, par exemple le célèbre Peter Norvig (chef de la recherche chez Google) publie des notebooks très intéressants sur son projet [`github.com/norvig/pytudes`](https://github.com/norvig/pytudes), depuis 5 ans."
   ]
  },
  {
   "cell_type": "markdown",
   "metadata": {},
   "source": [
    "![](https://perso.crans.org/besson/slides/Tutoriel-notebooks-Jupyter-a-Didapro-8-Lille-fevrier-2020/figs/table_des_matieres_extension_Jupyter.png)"
   ]
  },
  {
   "cell_type": "markdown",
   "metadata": {},
   "source": [
    "![](https://perso.crans.org/besson/slides/Tutoriel-notebooks-Jupyter-a-Didapro-8-Lille-fevrier-2020/figs/variable_inspector_extension_Jupyter.png)"
   ]
  },
  {
   "cell_type": "markdown",
   "metadata": {
    "slideshow": {
     "slide_type": "subslide"
    }
   },
   "source": [
    "- Utiliser *Jupyter Lab*, la nouvelle version de l'interface utilisateur de Jupyter (plus moderne).\n",
    "\n",
    "- Partager ses notebooks en ligne, avec ses étudiants et collègues, et recevoir leurs commentaires.\n",
    "\n",
    "- Idée : utiliser [`github.com/jupyter/nbgrader`](https://github.com/jupyter/nbgrader) pour facilement utiliser les notebooks comme support d'évaluation (évaluation automatique du rendu de vos élèves !)."
   ]
  },
  {
   "cell_type": "markdown",
   "metadata": {
    "slideshow": {
     "slide_type": "slide"
    }
   },
   "source": [
    "---\n",
    "## Références et liens\n",
    "\n",
    "Pour terminer, quelques pointeurs pour en apprendre plus par vous-même."
   ]
  },
  {
   "cell_type": "markdown",
   "metadata": {
    "slideshow": {
     "slide_type": "subslide"
    }
   },
   "source": [
    "### Liens\n",
    "- Ce tutoriel en ligne : [`frama.link/Atelier-Jupyter-Didapro8`](https://frama.link/Atelier-Jupyter-Didapro8) ([`github.com/Naereen/Tutoriel-notebooks-Jupyter-a-Didapro-8-Lille-fevrier-2020`](https://github.com/Naereen/Tutoriel-notebooks-Jupyter-a-Didapro-8-Lille-fevrier-2020))\n",
    "- Langage Python : [`www.python.org`](https://www.python.org/)\n",
    "- Projet jupyter : [`www.jupyter.org`](https://www.jupyter.org/)\n",
    "- Installeur Anaconda : [`www.anaconda.com/distribution/`](https://www.anaconda.com/distribution/)\n",
    "- Des bons tutoriels : [`plot.ly/python/v3/ipython-notebook-tutorial/`](https://plot.ly/python/v3/ipython-notebook-tutorial/) et [`www.dataquest.io/blog/advanced-jupyter-notebooks-tutorial/`](https://www.dataquest.io/blog/advanced-jupyter-notebooks-tutorial/)\n",
    "- Documentation : [`jupyter-notebook-beginner-guide.readthedocs.io`](https://jupyter-notebook-beginner-guide.readthedocs.io/en/latest/what_is_jupyter.html#id4)"
   ]
  },
  {
   "cell_type": "markdown",
   "metadata": {
    "slideshow": {
     "slide_type": "subslide"
    }
   },
   "source": [
    "### Publications universitaires\n",
    "- Thomas Kluyver et al. Jupyter Notebooks - a publishing format for reproducible computational workflows. In F. Loizides and B. Schmidt, editors, Positioning and Power in Academic Publishing: Players, Agents and Agendas, pages 87–90. IOS Press, 2016. [`www.jupyter.org`](https://www.jupyter.org/)\n",
    "- Python Software Foundation. Python Language Reference, version 3.6, October 2017. [`www.python.org`](https://www.python.org/)\n",
    "- Fernando Pérez and Brian E. Granger. IPython: a System for Interactive Scientific Computing. Computing in Science and Engineering, 9(3):21–29, May 2007. ISSN 1521-9615. [`ipython.org`](http://ipython.org)."
   ]
  },
  {
   "cell_type": "code",
   "execution_count": null,
   "metadata": {},
   "outputs": [],
   "source": [
    "import pandas as pd"
   ]
  }
 ],
 "metadata": {
  "celltoolbar": "Diaporama",
  "kernelspec": {
   "display_name": "Python 3",
   "language": "python",
   "name": "python3"
  },
  "language_info": {
   "codemirror_mode": {
    "name": "ipython",
    "version": 3
   },
   "file_extension": ".py",
   "mimetype": "text/x-python",
   "name": "python",
   "nbconvert_exporter": "python",
   "pygments_lexer": "ipython3",
   "version": "3.8.8"
  },
  "toc": {
   "colors": {
    "hover_highlight": "#DAA520",
    "running_highlight": "#FF0000",
    "selected_highlight": "#FFD700"
   },
   "moveMenuLeft": true,
   "nav_menu": {
    "height": "562.75px",
    "width": "418px"
   },
   "navigate_menu": true,
   "number_sections": true,
   "sideBar": true,
   "threshold": 4,
   "toc_cell": true,
   "toc_position": {
    "height": "656.8px",
    "left": "0px",
    "right": "1372px",
    "top": "150.2px",
    "width": "417px"
   },
   "toc_section_display": "block",
   "toc_window_display": false
  },
  "varInspector": {
   "cols": {
    "lenName": 16,
    "lenType": 16,
    "lenVar": 40
   },
   "kernels_config": {
    "python": {
     "delete_cmd_postfix": "",
     "delete_cmd_prefix": "del ",
     "library": "var_list.py",
     "varRefreshCmd": "print(var_dic_list())"
    },
    "r": {
     "delete_cmd_postfix": ") ",
     "delete_cmd_prefix": "rm(",
     "library": "var_list.r",
     "varRefreshCmd": "cat(var_dic_list()) "
    }
   },
   "position": {
    "height": "297.183px",
    "left": "2.66667px",
    "right": "20px",
    "top": "158px",
    "width": "433.667px"
   },
   "types_to_exclude": [
    "module",
    "function",
    "builtin_function_or_method",
    "instance",
    "_Feature"
   ],
   "window_display": false
  }
 },
 "nbformat": 4,
 "nbformat_minor": 4
}
