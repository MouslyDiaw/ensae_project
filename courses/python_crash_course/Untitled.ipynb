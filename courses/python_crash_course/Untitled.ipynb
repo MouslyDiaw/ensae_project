{
 "cells": [
  {
   "cell_type": "code",
   "execution_count": 4,
   "id": "2d90727f-05cb-452e-8ff7-31065e19a82e",
   "metadata": {
    "execution": {
     "iopub.execute_input": "2021-12-23T18:50:16.662740Z",
     "iopub.status.busy": "2021-12-23T18:50:16.658329Z",
     "iopub.status.idle": "2021-12-23T18:50:16.685630Z",
     "shell.execute_reply": "2021-12-23T18:50:16.683412Z",
     "shell.execute_reply.started": "2021-12-23T18:50:16.662676Z"
    },
    "tags": []
   },
   "outputs": [
    {
     "data": {
      "text/plain": [
       "{'a fauitr': 'apple', 'category lady': 'apple'}"
      ]
     },
     "execution_count": 4,
     "metadata": {},
     "output_type": "execute_result"
    }
   ],
   "source": [
    "dict1 = {\"a fauitr\": \"apple\", \"category lady\":  \"apple\"}\n",
    "dict1"
   ]
  },
  {
   "cell_type": "code",
   "execution_count": 5,
   "id": "edf7c03d-cd7c-4e5c-8861-ee97e50e32ff",
   "metadata": {
    "execution": {
     "iopub.execute_input": "2021-12-23T18:50:30.963115Z",
     "iopub.status.busy": "2021-12-23T18:50:30.962579Z",
     "iopub.status.idle": "2021-12-23T18:50:30.972084Z",
     "shell.execute_reply": "2021-12-23T18:50:30.970349Z",
     "shell.execute_reply.started": "2021-12-23T18:50:30.963062Z"
    }
   },
   "outputs": [
    {
     "data": {
      "text/plain": [
       "dict_keys(['a fauitr', 'category lady'])"
      ]
     },
     "execution_count": 5,
     "metadata": {},
     "output_type": "execute_result"
    }
   ],
   "source": [
    "dict1.keys()"
   ]
  },
  {
   "cell_type": "code",
   "execution_count": 6,
   "id": "384650b6-aac6-40f3-91aa-5dcd7a8d3949",
   "metadata": {
    "execution": {
     "iopub.execute_input": "2021-12-23T18:50:40.607396Z",
     "iopub.status.busy": "2021-12-23T18:50:40.606398Z",
     "iopub.status.idle": "2021-12-23T18:50:40.616813Z",
     "shell.execute_reply": "2021-12-23T18:50:40.615085Z",
     "shell.execute_reply.started": "2021-12-23T18:50:40.607167Z"
    }
   },
   "outputs": [
    {
     "data": {
      "text/plain": [
       "dict_values(['apple', 'apple'])"
      ]
     },
     "execution_count": 6,
     "metadata": {},
     "output_type": "execute_result"
    }
   ],
   "source": [
    "dict1.values()"
   ]
  },
  {
   "cell_type": "code",
   "execution_count": 9,
   "id": "38678862-a7f5-4941-88ce-e23bab5273c5",
   "metadata": {
    "execution": {
     "iopub.execute_input": "2021-12-23T18:51:55.419711Z",
     "iopub.status.busy": "2021-12-23T18:51:55.419165Z",
     "iopub.status.idle": "2021-12-23T18:51:55.428749Z",
     "shell.execute_reply": "2021-12-23T18:51:55.426541Z",
     "shell.execute_reply.started": "2021-12-23T18:51:55.419661Z"
    },
    "tags": []
   },
   "outputs": [
    {
     "name": "stdout",
     "output_type": "stream",
     "text": [
      "Key: a fauitr\n",
      "Value: apple\n",
      "\n",
      "Key: category lady\n",
      "Value: apple\n",
      "\n"
     ]
    }
   ],
   "source": [
    "for key, val in dict1.items():\n",
    "    print(f\"Key: {key}\")\n",
    "    print(f\"Value: {val}\\n\")"
   ]
  },
  {
   "cell_type": "code",
   "execution_count": 16,
   "id": "faf6b098-5f7c-4ed6-a9eb-0ea6210b8f7f",
   "metadata": {
    "execution": {
     "iopub.execute_input": "2021-12-23T18:59:03.846580Z",
     "iopub.status.busy": "2021-12-23T18:59:03.846211Z",
     "iopub.status.idle": "2021-12-23T18:59:03.854435Z",
     "shell.execute_reply": "2021-12-23T18:59:03.852482Z",
     "shell.execute_reply.started": "2021-12-23T18:59:03.846543Z"
    },
    "tags": []
   },
   "outputs": [
    {
     "name": "stdout",
     "output_type": "stream",
     "text": [
      "1\n"
     ]
    }
   ],
   "source": [
    "a =1\n",
    "\n",
    "print(a)\n",
    "\n",
    "b = a + 1"
   ]
  },
  {
   "cell_type": "code",
   "execution_count": 20,
   "id": "7930f1c5-474a-4d65-9c34-d2d403856719",
   "metadata": {
    "execution": {
     "iopub.execute_input": "2021-12-23T19:00:48.630614Z",
     "iopub.status.busy": "2021-12-23T19:00:48.630040Z",
     "iopub.status.idle": "2021-12-23T19:00:50.168405Z",
     "shell.execute_reply": "2021-12-23T19:00:50.147269Z",
     "shell.execute_reply.started": "2021-12-23T19:00:48.630495Z"
    },
    "tags": []
   },
   "outputs": [
    {
     "name": "stdin",
     "output_type": "stream",
     "text": [
      "What's your name:  yes\n"
     ]
    },
    {
     "name": "stdout",
     "output_type": "stream",
     "text": [
      "yes\n"
     ]
    }
   ],
   "source": [
    "name = input(\"What's your name: \")\n",
    "if name ==\"yes\":\n",
    "    print(name)"
   ]
  },
  {
   "cell_type": "code",
   "execution_count": null,
   "id": "39ab10bf-5e34-463d-85e9-0e106ee10cde",
   "metadata": {},
   "outputs": [],
   "source": []
  }
 ],
 "metadata": {
  "kernelspec": {
   "display_name": "Python 3",
   "language": "python",
   "name": "python3"
  },
  "language_info": {
   "codemirror_mode": {
    "name": "ipython",
    "version": 3
   },
   "file_extension": ".py",
   "mimetype": "text/x-python",
   "name": "python",
   "nbconvert_exporter": "python",
   "pygments_lexer": "ipython3",
   "version": "3.8.8"
  }
 },
 "nbformat": 4,
 "nbformat_minor": 5
}
